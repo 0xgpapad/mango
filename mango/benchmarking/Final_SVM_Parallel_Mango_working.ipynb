{
 "cells": [
  {
   "cell_type": "markdown",
   "metadata": {},
   "source": [
    "# Example of optimizing a convex function"
   ]
  },
  {
   "cell_type": "markdown",
   "metadata": {},
   "source": [
    "# Goal is to test the objective values found by Mango\n",
    "- Search space size: Uniform\n",
    "- Number of iterations to try: 40\n",
    "- domain size: 5000 \n",
    "- Initial Random: 5"
   ]
  },
  {
   "cell_type": "markdown",
   "metadata": {},
   "source": [
    "# Benchmarking test with different iterations for serial executions"
   ]
  },
  {
   "cell_type": "code",
   "execution_count": 1,
   "metadata": {},
   "outputs": [],
   "source": [
    "from scipy.stats import uniform\n",
    "from mango.domain.distribution import loguniform\n",
    "from mango.tuner import Tuner \n",
    "\n",
    "def get_param_dict():\n",
    "    param_dict = {\"gamma\": uniform(0.1, 4),\n",
    "              \"C\": loguniform(-7, 7)}\n",
    "    return param_dict\n",
    "\n",
    "from sklearn import svm, datasets\n",
    "from sklearn.model_selection import cross_val_score\n",
    "\n",
    "iris = datasets.load_iris()\n",
    "\n",
    "# Take only the first two features.\n",
    "X = iris.data[:,:2]\n",
    "Y = iris.target\n",
    "\n",
    "def objectiveSVM(args_list):\n",
    "    global X,Y\n",
    "    \n",
    "    results = []\n",
    "    for hyper_par in args_list:\n",
    "        clf = svm.SVC(**hyper_par)\n",
    "        result  = cross_val_score(clf, X, Y, scoring='accuracy').mean()\n",
    "        results.append(result)\n",
    "    return results\n",
    "\n",
    "\n",
    "def get_conf():\n",
    "    conf = dict()\n",
    "    conf['batch_size'] = 5\n",
    "    conf['initial_random'] = 5\n",
    "    conf['num_iteration'] = 100\n",
    "    conf['domain_size'] = 5000\n",
    "    \n",
    "    return conf\n",
    "\n",
    "def get_optimal_x():\n",
    "    param_dict = get_param_dict()\n",
    "    conf = get_conf()\n",
    "    tuner = Tuner(param_dict, objectiveSVM,conf)\n",
    "    results = tuner.maximize()\n",
    "    return results"
   ]
  },
  {
   "cell_type": "code",
   "execution_count": 2,
   "metadata": {},
   "outputs": [],
   "source": [
    "Store_Optimal_X = []\n",
    "Store_Results = []\n",
    "num_of_tries = 20"
   ]
  },
  {
   "cell_type": "code",
   "execution_count": 3,
   "metadata": {},
   "outputs": [
    {
     "name": "stdout",
     "output_type": "stream",
     "text": [
      "0 : 0.8337418300653594\n",
      "1 : 0.8337418300653594\n",
      "2 : 0.8337418300653594\n",
      "3 : 0.8337418300653594\n",
      "4 : 0.8337418300653594\n",
      "5 : 0.8337418300653594\n",
      "6 : 0.8337418300653594\n",
      "7 : 0.8337418300653594\n",
      "8 : 0.8337418300653594\n",
      "9 : 0.8337418300653594\n",
      "10 : 0.8337418300653594\n",
      "11 : 0.8337418300653594\n",
      "12 : 0.8337418300653594\n",
      "13 : 0.8337418300653594\n",
      "14 : 0.8337418300653594\n",
      "15 : 0.8337418300653594\n",
      "16 : 0.8337418300653594\n",
      "17 : 0.8337418300653594\n",
      "18 : 0.8337418300653594\n",
      "19 : 0.8337418300653594\n"
     ]
    }
   ],
   "source": [
    "for i in range(num_of_tries):\n",
    "    results = get_optimal_x()\n",
    "    Store_Results.append(results)\n",
    "    #print(results)\n",
    "    print(i,\":\",results['best_objective'])"
   ]
  },
  {
   "cell_type": "markdown",
   "metadata": {},
   "source": [
    "# Extract from the results returned the true optimal values for each iteration"
   ]
  },
  {
   "cell_type": "code",
   "execution_count": 4,
   "metadata": {},
   "outputs": [],
   "source": [
    "import numpy as np\n",
    "\n",
    "total_experiments = 20\n",
    "\n",
    "initial_random = 5\n",
    "\n",
    "plotting_itr =[20,30,40,50,60,70,80,90,100]\n",
    "\n",
    "plotting_list = []\n",
    "\n",
    "for exp in range(total_experiments): #for all exp\n",
    "    local_list = []\n",
    "    for itr in plotting_itr: # for all points to plot\n",
    "        # find the value of optimal parameters in itr+ initial_random\n",
    "        max_value = np.array(Store_Results[exp]['objective_values'][:itr+initial_random]).max()\n",
    "        local_list.append(max_value)\n",
    "    plotting_list.append(local_list)"
   ]
  },
  {
   "cell_type": "code",
   "execution_count": 5,
   "metadata": {},
   "outputs": [],
   "source": [
    "plotting_array = np.array(plotting_list)"
   ]
  },
  {
   "cell_type": "code",
   "execution_count": 6,
   "metadata": {},
   "outputs": [],
   "source": [
    "Y = []\n",
    "\n",
    "range_min = -100\n",
    "range_max = 100\n",
    "#count range between -1 and 1 and show it\n",
    "for i in range(len(plotting_itr)):\n",
    "    y_value = plotting_array[:,i].mean()\n",
    "    Y.append(y_value)"
   ]
  },
  {
   "cell_type": "code",
   "execution_count": 7,
   "metadata": {},
   "outputs": [],
   "source": [
    "# Printing Y Values"
   ]
  },
  {
   "cell_type": "code",
   "execution_count": 8,
   "metadata": {},
   "outputs": [
    {
     "data": {
      "text/plain": [
       "[0.8292279411764707,\n",
       " 0.831311274509804,\n",
       " 0.8327001633986928,\n",
       " 0.8327001633986928,\n",
       " 0.8337418300653596,\n",
       " 0.8337418300653596,\n",
       " 0.8337418300653596,\n",
       " 0.8337418300653596,\n",
       " 0.8337418300653596]"
      ]
     },
     "execution_count": 8,
     "metadata": {},
     "output_type": "execute_result"
    }
   ],
   "source": [
    "Y"
   ]
  },
  {
   "cell_type": "code",
   "execution_count": 9,
   "metadata": {},
   "outputs": [
    {
     "data": {
      "text/plain": [
       "[20, 30, 40, 50, 60, 70, 80, 90, 100]"
      ]
     },
     "execution_count": 9,
     "metadata": {},
     "output_type": "execute_result"
    }
   ],
   "source": [
    "plotting_itr"
   ]
  },
  {
   "cell_type": "code",
   "execution_count": 11,
   "metadata": {},
   "outputs": [
    {
     "data": {
      "image/png": "[encoded data removed]",
      "text/plain": [
       "<Figure size 720x720 with 1 Axes>"
      ]
     },
     "metadata": {
      "needs_background": "light"
     },
     "output_type": "display_data"
    }
   ],
   "source": [
    "import numpy as np\n",
    "import matplotlib.pyplot as plt\n",
    "fig = plt.figure(figsize=(10,10))\n",
    "\n",
    "\n",
    "plt.plot(plotting_itr,Y,label = 'Mango',linewidth=3.0) #x, y\n",
    "\n",
    "\n",
    "plt.xlabel('Number of Iterations',fontsize=25)\n",
    "plt.ylabel('Mean best accuracy achieved',fontsize=25)\n",
    "plt.title('Variation of Optimal Value of X with iterations',fontsize=20)\n",
    "plt.xticks(fontsize=20)\n",
    "plt.yticks(fontsize=20)\n",
    "plt.grid(True)\n",
    "plt.legend(fontsize=20)\n",
    "plt.show()"
   ]
  },
  {
   "cell_type": "code",
   "execution_count": null,
   "metadata": {},
   "outputs": [],
   "source": []
  }
 ],
 "metadata": {
  "kernelspec": {
   "display_name": "Python 3",
   "language": "python",
   "name": "python3"
  },
  "language_info": {
   "codemirror_mode": {
    "name": "ipython",
    "version": 3
   },
   "file_extension": ".py",
   "mimetype": "text/x-python",
   "name": "python",
   "nbconvert_exporter": "python",
   "pygments_lexer": "ipython3",
   "version": "3.7.3"
  }
 },
 "nbformat": 4,
 "nbformat_minor": 2
}
