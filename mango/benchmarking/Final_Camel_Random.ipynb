{
 "cells": [
  {
   "cell_type": "markdown",
   "metadata": {},
   "source": [
    "# Example of optimizing a convex function"
   ]
  },
  {
   "cell_type": "markdown",
   "metadata": {},
   "source": [
    "# Goal is to test the objective values found by Mango\n",
    "- Search space size: Uniform\n",
    "- Number of iterations to try: 40\n",
    "- domain size: 5000 \n",
    "- Initial Random: 5"
   ]
  },
  {
   "cell_type": "markdown",
   "metadata": {},
   "source": [
    "# Benchmarking test with different iterations for serial executions"
   ]
  },
  {
   "cell_type": "code",
   "execution_count": 33,
   "metadata": {},
   "outputs": [],
   "source": [
    "from mango.tuner import Tuner\n",
    "from scipy.stats import uniform\n",
    "import math\n",
    "\n",
    "def get_param_dict():\n",
    "    param_dict = {\n",
    "        'a': uniform(-2, 4),\n",
    "        'b': uniform(-2, 4)\n",
    "    }\n",
    "    return param_dict\n",
    "\n",
    "def get_objective(x,y):\n",
    "        x2 = math.pow(x,2)\n",
    "        x4 = math.pow(x,4)\n",
    "        y2 = math.pow(y,2)\n",
    "        return ((4.0 - 2.1 * x2 + (x4 / 3.0)) * x2 + x*y + (-4.0 + 4.0 * y2) * y2)\n",
    "\n",
    "\n",
    "    \n",
    "def objfunc(args_list):\n",
    "    results = []\n",
    "    for hyper_par in args_list:\n",
    "        a = hyper_par['a']\n",
    "        b = hyper_par['b']\n",
    "        \n",
    "        result = -1.0*get_objective(a,b)\n",
    "        results.append(result)\n",
    "    return results\n",
    "\n",
    "def get_conf():\n",
    "    conf = dict()\n",
    "    conf['batch_size'] = 1\n",
    "    conf['num_iteration'] = 100\n",
    "    conf['optimizer'] = \"Random\"\n",
    "    return conf\n",
    "\n",
    "def get_optimal_x():\n",
    "    param_dict = get_param_dict()\n",
    "    conf = get_conf()\n",
    "    tuner = Tuner(param_dict, objfunc,conf)\n",
    "    results = tuner.maximize()\n",
    "    return results"
   ]
  },
  {
   "cell_type": "code",
   "execution_count": 44,
   "metadata": {},
   "outputs": [],
   "source": [
    "Store_Optimal_X = []\n",
    "Store_Results = []\n",
    "num_of_tries = 200"
   ]
  },
  {
   "cell_type": "code",
   "execution_count": 45,
   "metadata": {
    "scrolled": true
   },
   "outputs": [
    {
     "name": "stdout",
     "output_type": "stream",
     "text": [
      "0 : 1.0160788404270462\n",
      "1 : 0.8090611464046034\n",
      "2 : 0.8720949972789556\n",
      "3 : 1.0314059111682716\n",
      "4 : 0.8703606654639531\n",
      "5 : 0.9206542425969664\n",
      "6 : 0.8280555627881393\n",
      "7 : 0.9513889939831537\n",
      "8 : 0.9666094914534663\n",
      "9 : 0.9918221539434282\n",
      "10 : 0.8562159123589496\n",
      "11 : 0.8612495448996942\n",
      "12 : 0.9165845326549658\n",
      "13 : 0.8414530457496485\n",
      "14 : 1.0029251075422299\n",
      "15 : 1.029865726131212\n",
      "16 : 1.020487836526001\n",
      "17 : 0.9224170761560905\n",
      "18 : 0.8761688008075912\n",
      "19 : 0.887195205665126\n",
      "20 : 0.9094478136828683\n",
      "21 : 0.7246392008599439\n",
      "22 : 1.023472384882479\n",
      "23 : 0.8701429417465365\n",
      "24 : 0.9661573281611671\n",
      "25 : 0.9792196444653183\n",
      "26 : 0.21268264205913223\n",
      "27 : 0.854416456712381\n",
      "28 : 0.9157951135317427\n",
      "29 : 0.8901553958882978\n",
      "30 : 0.9644380082209383\n",
      "31 : 0.9830969819379173\n",
      "32 : 0.8438129971360518\n",
      "33 : 0.9613749721400258\n",
      "34 : 0.9879441889951373\n",
      "35 : 0.8691167829546855\n",
      "36 : 0.8874032393864433\n",
      "37 : 0.9833168876344129\n",
      "38 : 1.0242788131107872\n",
      "39 : 0.8257634845922519\n",
      "40 : 0.8938285115674326\n",
      "41 : 0.939779587163801\n",
      "42 : 0.8443860006863864\n",
      "43 : 0.8054546737937924\n",
      "44 : 0.8894960081016093\n",
      "45 : 0.6960217799714781\n",
      "46 : 0.9865891392367919\n",
      "47 : 0.9968592170263458\n",
      "48 : 0.887105408500981\n",
      "49 : 0.8513785270168709\n",
      "50 : 0.9126161628039715\n",
      "51 : 0.9566948916034649\n",
      "52 : 0.6108276600850122\n",
      "53 : 0.9403610959591567\n",
      "54 : 0.8976274876000132\n",
      "55 : 1.0026628185852506\n",
      "56 : 0.8953410749844003\n",
      "57 : 0.914165566830131\n",
      "58 : 1.0177208235431712\n",
      "59 : 0.8356445348710522\n",
      "60 : 1.007690526172604\n",
      "61 : 0.9802899141152311\n",
      "62 : 0.5627449826150647\n",
      "63 : 0.8513853969988622\n",
      "64 : 0.8528289424821776\n",
      "65 : 0.8923055535056986\n",
      "66 : 0.9515062289517195\n",
      "67 : 0.9996039333289374\n",
      "68 : 0.9902079860386244\n",
      "69 : 0.9205818332066001\n",
      "70 : 1.0005044028219754\n",
      "71 : 1.0313090977261385\n",
      "72 : 0.9542724030901601\n",
      "73 : 0.9379659886486809\n",
      "74 : 0.639193384328694\n",
      "75 : 1.0239931458219047\n",
      "76 : 0.7734102807586583\n",
      "77 : 1.0251450941371687\n",
      "78 : 0.9577370332419819\n",
      "79 : 0.9091849945147847\n",
      "80 : 0.7692976372438076\n",
      "81 : 0.9171935239377235\n",
      "82 : 0.9435650368164011\n",
      "83 : 0.9478022672015896\n",
      "84 : 0.8890598190191462\n",
      "85 : 1.0104128579953398\n",
      "86 : 1.0146005771886764\n",
      "87 : 0.7320389541600362\n",
      "88 : 0.6894759539509542\n",
      "89 : 0.9693235751812286\n",
      "90 : 0.9945982099532712\n",
      "91 : 0.935851928840775\n",
      "92 : 0.8016792153079083\n",
      "93 : 1.014538511431957\n",
      "94 : 1.0167278258481205\n",
      "95 : 0.9908638220746449\n",
      "96 : 0.8929385043347029\n",
      "97 : 0.6895162558477488\n",
      "98 : 1.0073955737311735\n",
      "99 : 0.8475352295226565\n",
      "100 : 0.8456817060456131\n",
      "101 : 0.8892096626869661\n",
      "102 : 1.024752958757381\n",
      "103 : 1.0276255586776837\n",
      "104 : 0.5184653466673649\n",
      "105 : 0.9632427585254106\n",
      "106 : 0.8592134650740523\n",
      "107 : 0.9559767323216251\n",
      "108 : 0.9636178327601311\n",
      "109 : 0.8349215961457838\n",
      "110 : 0.97743915154512\n",
      "111 : 0.9507537488668104\n",
      "112 : 0.4988305092063124\n",
      "113 : 1.029637182154187\n",
      "114 : 0.9864821681012512\n",
      "115 : 0.9658206676520734\n",
      "116 : 0.9278535206208367\n",
      "117 : 0.6597770224635211\n",
      "118 : 0.9590012432446215\n",
      "119 : 1.0196001813987918\n",
      "120 : 0.9542096207627639\n",
      "121 : 0.7074016521783999\n",
      "122 : 0.9861174377962727\n",
      "123 : 0.6523052346337439\n",
      "124 : 1.0293029527716657\n",
      "125 : 0.5996854472986701\n",
      "126 : 0.9905166859216551\n",
      "127 : 0.9097845092448776\n",
      "128 : 0.9272684558171709\n",
      "129 : 0.34037139421276574\n",
      "130 : 0.5986783580405336\n",
      "131 : 0.8741505417382451\n",
      "132 : 1.0022694832766155\n",
      "133 : 0.9403440766383999\n",
      "134 : 0.9136024904978577\n",
      "135 : 0.8056618403384223\n",
      "136 : 0.9398949087923006\n",
      "137 : 0.8571573868419058\n",
      "138 : 0.7445500894624322\n",
      "139 : 0.9858979694422938\n",
      "140 : 0.7794555902867903\n",
      "141 : 0.7841018364597165\n",
      "142 : 0.5669797155717539\n",
      "143 : 0.9836257869816939\n",
      "144 : 0.9831692429459051\n",
      "145 : 0.9380102786604393\n",
      "146 : 0.8030750287699143\n",
      "147 : 0.869485544713087\n",
      "148 : 0.9878504484507202\n",
      "149 : 1.0224220474041243\n",
      "150 : 1.0081722077103379\n",
      "151 : 0.9292240462789495\n",
      "152 : 1.0310921219783633\n",
      "153 : 0.8940022674351187\n",
      "154 : 0.7926434638452342\n",
      "155 : 0.668763636849687\n",
      "156 : 1.0311359372950595\n",
      "157 : 0.8667750361838311\n",
      "158 : 0.8963588053840545\n",
      "159 : 0.908227993123881\n",
      "160 : 0.9324870548324075\n",
      "161 : 0.8336087098606547\n",
      "162 : 0.9532262321894405\n",
      "163 : 0.8172509372298569\n",
      "164 : 0.5154775978966335\n",
      "165 : 0.9260761074239914\n",
      "166 : 0.924858945517668\n",
      "167 : 0.9232997938997836\n",
      "168 : 0.9087904315294828\n",
      "169 : 1.0260354487463261\n",
      "170 : 0.8219708977610121\n",
      "171 : 1.0240109375938065\n",
      "172 : 0.964498113110867\n",
      "173 : 0.29995322152706216\n",
      "174 : 0.804330269793236\n",
      "175 : 0.9435826855531664\n",
      "176 : 0.9957241792388322\n",
      "177 : 0.4526914547662828\n",
      "178 : 1.02382171510374\n",
      "179 : 0.9392150807263947\n",
      "180 : 1.0185317944496852\n",
      "181 : 0.7497937551373531\n",
      "182 : 0.5031396433862867\n",
      "183 : 0.92980089184912\n",
      "184 : 0.989057201306711\n",
      "185 : 0.9536645970690346\n",
      "186 : 0.9854016606706099\n",
      "187 : 0.9498060478769117\n",
      "188 : 0.7308127757581799\n",
      "189 : 0.9312830113175434\n",
      "190 : 0.9655936388617226\n",
      "191 : 0.6388019124106858\n",
      "192 : 0.8385152295298256\n",
      "193 : 1.0002277694085235\n",
      "194 : 1.0070220448905374\n",
      "195 : 0.34330081887117664\n",
      "196 : 0.9661655800408516\n",
      "197 : 0.9993265355216318\n",
      "198 : 1.009044225802792\n",
      "199 : 0.9470311007369154\n"
     ]
    }
   ],
   "source": [
    "for i in range(num_of_tries):\n",
    "    results = get_optimal_x()\n",
    "    Store_Results.append(results)\n",
    "    print(i,\":\",results['best_objective'])"
   ]
  },
  {
   "cell_type": "code",
   "execution_count": 13,
   "metadata": {},
   "outputs": [],
   "source": [
    "#results['best_objective']"
   ]
  },
  {
   "cell_type": "code",
   "execution_count": 88,
   "metadata": {},
   "outputs": [],
   "source": [
    "#len(Store_Results[0]['objective_values'])"
   ]
  },
  {
   "cell_type": "code",
   "execution_count": 89,
   "metadata": {},
   "outputs": [],
   "source": [
    "#Store_Results[0]['objective_values'][:15]"
   ]
  },
  {
   "cell_type": "code",
   "execution_count": 90,
   "metadata": {},
   "outputs": [],
   "source": [
    "#len(Store_Results[0]['params_tried'])"
   ]
  },
  {
   "cell_type": "markdown",
   "metadata": {},
   "source": [
    "# Extract from the results returned the true optimal values for each iteration"
   ]
  },
  {
   "cell_type": "code",
   "execution_count": 46,
   "metadata": {},
   "outputs": [],
   "source": [
    "import numpy as np\n",
    "\n",
    "total_experiments =200\n",
    "\n",
    "initial_random = 0\n",
    "\n",
    "plotting_itr =[10, 20,30,40,50,60,70,80,90,100]\n",
    "\n",
    "plotting_list = []\n",
    "\n",
    "for exp in range(total_experiments): #for all exp\n",
    "    local_list = []\n",
    "    for itr in plotting_itr: # for all points to plot\n",
    "        # find the value of optimal parameters in itr+ initial_random\n",
    "        max_value = np.array(Store_Results[exp]['objective_values'][:itr+initial_random]).max()\n",
    "        local_list.append(max_value)\n",
    "    plotting_list.append(local_list)"
   ]
  },
  {
   "cell_type": "code",
   "execution_count": 47,
   "metadata": {},
   "outputs": [],
   "source": [
    "plotting_array = np.array(plotting_list)"
   ]
  },
  {
   "cell_type": "code",
   "execution_count": 48,
   "metadata": {
    "scrolled": true
   },
   "outputs": [
    {
     "data": {
      "text/plain": [
       "(200, 10)"
      ]
     },
     "execution_count": 48,
     "metadata": {},
     "output_type": "execute_result"
    }
   ],
   "source": [
    "plotting_array.shape"
   ]
  },
  {
   "cell_type": "code",
   "execution_count": 49,
   "metadata": {},
   "outputs": [],
   "source": [
    "#plotting_array"
   ]
  },
  {
   "cell_type": "code",
   "execution_count": 50,
   "metadata": {},
   "outputs": [],
   "source": [
    "Y = []\n",
    "#count range between -1 and 1 and show it\n",
    "for i in range(len(plotting_itr)):\n",
    "    y_value = plotting_array[:,i].mean()\n",
    "    Y.append(y_value)"
   ]
  },
  {
   "cell_type": "code",
   "execution_count": 51,
   "metadata": {},
   "outputs": [
    {
     "data": {
      "text/plain": [
       "[0.1553783776302589,\n",
       " 0.48704185115971926,\n",
       " 0.6207976430203805,\n",
       " 0.7307124078791386,\n",
       " 0.7758538571628398,\n",
       " 0.812800521783022,\n",
       " 0.8414774276254022,\n",
       " 0.85722684004176,\n",
       " 0.8703548752976193,\n",
       " 0.885542410391353]"
      ]
     },
     "execution_count": 51,
     "metadata": {},
     "output_type": "execute_result"
    }
   ],
   "source": [
    "Y"
   ]
  },
  {
   "cell_type": "code",
   "execution_count": 52,
   "metadata": {},
   "outputs": [],
   "source": [
    "plotting_itr =[10, 20,30,40,50,60,70,80,90,100]"
   ]
  },
  {
   "cell_type": "code",
   "execution_count": 53,
   "metadata": {},
   "outputs": [
    {
     "data": {
      "image/png": "[encoded data removed]",
      "text/plain": [
       "<Figure size 720x720 with 1 Axes>"
      ]
     },
     "metadata": {
      "needs_background": "light"
     },
     "output_type": "display_data"
    }
   ],
   "source": [
    "import numpy as np\n",
    "import matplotlib.pyplot as plt\n",
    "fig = plt.figure(figsize=(10,10))\n",
    "\n",
    "\n",
    "plt.plot(plotting_itr,Y,label = 'Random',linewidth=4.0) #x, y\n",
    "\n",
    "\n",
    "plt.xlabel('Number of Iterations',fontsize=25)\n",
    "plt.ylabel('Mean optimal achieved',fontsize=25)\n",
    "#plt.title('Variation of Optimal Value of X with iterations',fontsize=20)\n",
    "plt.xticks(fontsize=20)\n",
    "plt.yticks(fontsize=20)\n",
    "#plt.yticks(np.arange(10, 110, step=10))\n",
    "#plt.xticks(np.arange(10, 110, step=10))\n",
    "plt.grid(True)\n",
    "plt.legend(fontsize=20)\n",
    "plt.show()"
   ]
  },
  {
   "cell_type": "code",
   "execution_count": null,
   "metadata": {},
   "outputs": [],
   "source": []
  },
  {
   "cell_type": "code",
   "execution_count": null,
   "metadata": {},
   "outputs": [],
   "source": []
  }
 ],
 "metadata": {
  "kernelspec": {
   "display_name": "Python (py36)",
   "language": "python",
   "name": "py36"
  },
  "language_info": {
   "codemirror_mode": {
    "name": "ipython",
    "version": 3
   },
   "file_extension": ".py",
   "mimetype": "text/x-python",
   "name": "python",
   "nbconvert_exporter": "python",
   "pygments_lexer": "ipython3",
   "version": "3.7.3"
  }
 },
 "nbformat": 4,
 "nbformat_minor": 2
}
