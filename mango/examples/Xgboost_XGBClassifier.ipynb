{
 "cells": [
  {
   "cell_type": "markdown",
   "metadata": {},
   "source": [
    "# A sample example to tune xgboost classifier showing a complex search space definition"
   ]
  },
  {
   "cell_type": "code",
   "execution_count": 1,
   "metadata": {},
   "outputs": [],
   "source": [
    "from mango.tuner import Tuner"
   ]
  },
  {
   "cell_type": "code",
   "execution_count": 2,
   "metadata": {},
   "outputs": [],
   "source": [
    "from scipy.stats import uniform\n",
    "\n",
    "param_dict = {\"learning_rate\": uniform(0, 1),\n",
    "              \"gamma\": uniform(0, 5),\n",
    "              \"max_depth\": range(1,10),\n",
    "              \"n_estimators\": range(1,300),\n",
    "               \"booster\":['gbtree','gblinear','dart']\n",
    "             }"
   ]
  },
  {
   "cell_type": "markdown",
   "metadata": {},
   "source": [
    "# userObjective"
   ]
  },
  {
   "cell_type": "code",
   "execution_count": 3,
   "metadata": {},
   "outputs": [],
   "source": [
    "from sklearn.model_selection import cross_val_score\n",
    "from xgboost import XGBClassifier\n",
    "from sklearn.datasets import load_wine\n",
    "\n",
    "X, Y = load_wine(return_X_y=True)\n",
    "\n",
    "count_called = 1\n",
    "\n",
    "def objective_Xgboost(args_list):\n",
    "    global X, Y, count_called\n",
    "    \n",
    "    print('count_called:',count_called)\n",
    "    \n",
    "    count_called = count_called + 1\n",
    "    results = []\n",
    "    for hyper_par in args_list:\n",
    "        clf = XGBClassifier(**hyper_par)\n",
    "        result = cross_val_score(clf, X, Y, scoring='accuracy').mean()\n",
    "        results.append(result)\n",
    "    return results"
   ]
  },
  {
   "cell_type": "code",
   "execution_count": 4,
   "metadata": {},
   "outputs": [],
   "source": [
    "conf_Dict = dict()\n",
    "conf_Dict['batch_size'] = 1\n",
    "conf_Dict['num_iteration'] = 40\n",
    "#conf_Dict['domain_size'] = 10000"
   ]
  },
  {
   "cell_type": "markdown",
   "metadata": {},
   "source": [
    "# Defining Tuner"
   ]
  },
  {
   "cell_type": "code",
   "execution_count": 5,
   "metadata": {},
   "outputs": [
    {
     "name": "stdout",
     "output_type": "stream",
     "text": [
      "Calculated Domain Size: 403650000\n"
     ]
    }
   ],
   "source": [
    "tuner_user = Tuner(param_dict, objective_Xgboost,conf_Dict)"
   ]
  },
  {
   "cell_type": "code",
   "execution_count": 6,
   "metadata": {},
   "outputs": [
    {
     "data": {
      "text/plain": [
       "{'param_dict': {'learning_rate': <scipy.stats._distn_infrastructure.rv_frozen at 0x1a21a7a898>,\n",
       "  'gamma': <scipy.stats._distn_infrastructure.rv_frozen at 0x1a21a7add8>,\n",
       "  'max_depth': range(1, 10),\n",
       "  'n_estimators': range(1, 300),\n",
       "  'booster': ['gbtree', 'gblinear', 'dart']},\n",
       " 'userObjective': <function __main__.objective_Xgboost(args_list)>,\n",
       " 'domain_size': 50000,\n",
       " 'initial_random': 1,\n",
       " 'num_iteration': 40,\n",
       " 'objective': 'maximize',\n",
       " 'batch_size': 1}"
      ]
     },
     "execution_count": 6,
     "metadata": {},
     "output_type": "execute_result"
    }
   ],
   "source": [
    "tuner_user.getConf()"
   ]
  },
  {
   "cell_type": "code",
   "execution_count": 7,
   "metadata": {},
   "outputs": [
    {
     "name": "stdout",
     "output_type": "stream",
     "text": [
      "count_called: 1\n",
      "count_called: 2\n",
      "count_called: 3\n",
      "count_called: 4\n",
      "count_called: 5\n",
      "count_called: 6\n",
      "count_called: 7\n",
      "count_called: 8\n",
      "count_called: 9\n",
      "count_called: 10\n",
      "count_called: 11\n",
      "count_called: 12\n",
      "count_called: 13\n",
      "count_called: 14\n",
      "count_called: 15\n",
      "count_called: 16\n",
      "count_called: 17\n",
      "count_called: 18\n",
      "count_called: 19\n",
      "count_called: 20\n",
      "count_called: 21\n",
      "count_called: 22\n",
      "count_called: 23\n",
      "count_called: 24\n",
      "count_called: 25\n",
      "count_called: 26\n",
      "count_called: 27\n",
      "count_called: 28\n",
      "count_called: 29\n",
      "count_called: 30\n",
      "count_called: 31\n",
      "count_called: 32\n",
      "count_called: 33\n",
      "count_called: 34\n",
      "count_called: 35\n",
      "count_called: 36\n",
      "count_called: 37\n",
      "count_called: 38\n",
      "count_called: 39\n",
      "count_called: 40\n",
      "count_called: 41\n",
      "221.520671\n"
     ]
    }
   ],
   "source": [
    "import time\n",
    "start_time = time.clock()\n",
    "\n",
    "results = tuner_user.maximize()\n",
    "\n",
    "end_time = time.clock()\n",
    "\n",
    "\n",
    "print(end_time - start_time)"
   ]
  },
  {
   "cell_type": "markdown",
   "metadata": {},
   "source": [
    "# Inspect the results"
   ]
  },
  {
   "cell_type": "code",
   "execution_count": 8,
   "metadata": {},
   "outputs": [
    {
     "name": "stdout",
     "output_type": "stream",
     "text": [
      "best hyper parameters: {'booster': 'dart', 'gamma': 0.02910878825610752, 'learning_rate': 0.09064527628187469, 'max_depth': 1, 'n_estimators': 266}\n",
      "best objective: 0.9220306513409962\n"
     ]
    }
   ],
   "source": [
    "print('best hyper parameters:',results['best_params'])\n",
    "print('best objective:',results['best_objective'])"
   ]
  },
  {
   "cell_type": "code",
   "execution_count": 9,
   "metadata": {},
   "outputs": [
    {
     "name": "stdout",
     "output_type": "stream",
     "text": [
      "Sample hyper parameters tried: 41\n",
      "[{'booster': 'dart', 'gamma': 0.7209255899800238, 'learning_rate': 0.8022657797849247, 'max_depth': 3, 'n_estimators': 136}, {'booster': 'dart', 'gamma': 0.44305101935746716, 'learning_rate': 0.6934024551520116, 'max_depth': 4, 'n_estimators': 225}]\n"
     ]
    }
   ],
   "source": [
    "print('Sample hyper parameters tried:',len(results['params_tried']))\n",
    "print(results['params_tried'][:2])"
   ]
  },
  {
   "cell_type": "code",
   "execution_count": 10,
   "metadata": {
    "scrolled": true
   },
   "outputs": [
    {
     "name": "stdout",
     "output_type": "stream",
     "text": [
      "Sample objective values 41\n",
      "[0.9109195402298851, 0.9109195402298851, 0.8827586206896552, 0.8716475095785441, 0.8942528735632184]\n"
     ]
    }
   ],
   "source": [
    "print('Sample objective values',len(results['objective_values']))\n",
    "print(results['objective_values'][:5])"
   ]
  },
  {
   "cell_type": "markdown",
   "metadata": {},
   "source": [
    "# Plotting the actual variation in objective values of the tried results"
   ]
  },
  {
   "cell_type": "code",
   "execution_count": 12,
   "metadata": {},
   "outputs": [
    {
     "data": {
      "image/png": "[encoded data removed]",
      "text/plain": [
       "<Figure size 2160x360 with 1 Axes>"
      ]
     },
     "metadata": {
      "needs_background": "light"
     },
     "output_type": "display_data"
    }
   ],
   "source": [
    "Size = 201 \n",
    "\n",
    "from matplotlib import pyplot as plt\n",
    "fig = plt.figure(figsize=(30,5))\n",
    "plt.title('Variation of Objective',fontsize=20)\n",
    "plt.plot(results['objective_values'][:Size],lw=4,label='BL')\n",
    "plt.xlabel('Iterations', fontsize=25)\n",
    "plt.ylabel('objective_values',fontsize=25)\n",
    "plt.xticks(fontsize=20)\n",
    "plt.yticks(fontsize=20)\n",
    "plt.legend(prop={'size': 30})\n",
    "plt.show()"
   ]
  },
  {
   "cell_type": "markdown",
   "metadata": {},
   "source": [
    "# Plotting the variation of Max objective values of the tried results"
   ]
  },
  {
   "cell_type": "code",
   "execution_count": 13,
   "metadata": {},
   "outputs": [
    {
     "data": {
      "image/png": "[encoded data removed]",
      "text/plain": [
       "<Figure size 2160x360 with 1 Axes>"
      ]
     },
     "metadata": {
      "needs_background": "light"
     },
     "output_type": "display_data"
    }
   ],
   "source": [
    "Size = 201 \n",
    "\n",
    "import numpy as np\n",
    "\n",
    "results_obj = np.array(results['objective_values'])\n",
    "\n",
    "y_max=[]\n",
    "for i in range(results_obj.shape[0]):\n",
    "    y_max.append(np.max(results_obj[:i+1]))\n",
    "\n",
    "from matplotlib import pyplot as plt\n",
    "fig = plt.figure(figsize=(30,5))\n",
    "plt.title('Max variation of Objective',fontsize=20)\n",
    "plt.plot(y_max[:Size],lw=4,label='BL')\n",
    "plt.xlabel('Iterations', fontsize=25)\n",
    "plt.ylabel('objective_values',fontsize=25)\n",
    "plt.xticks(fontsize=20)\n",
    "plt.yticks(fontsize=20)\n",
    "plt.legend(prop={'size': 30})\n",
    "plt.show()"
   ]
  },
  {
   "cell_type": "markdown",
   "metadata": {},
   "source": [
    "# See the Result"
   ]
  },
  {
   "cell_type": "code",
   "execution_count": 14,
   "metadata": {
    "scrolled": false
   },
   "outputs": [
    {
     "name": "stdout",
     "output_type": "stream",
     "text": [
      "{   'best_objective': 0.9220306513409962,\n",
      "    'best_params': {   'booster': 'dart',\n",
      "                       'gamma': 0.02910878825610752,\n",
      "                       'learning_rate': 0.09064527628187469,\n",
      "                       'max_depth': 1,\n",
      "                       'n_estimators': 266},\n",
      "    'objective_values': [   0.9109195402298851,\n",
      "                            0.9109195402298851,\n",
      "                            0.8827586206896552,\n",
      "                            0.8716475095785441,\n",
      "                            0.8942528735632184,\n",
      "                            0.9051724137931035,\n",
      "                            0.8942528735632185,\n",
      "                            0.3762452107279694,\n",
      "                            0.8829501915708812,\n",
      "                            0.8775862068965518,\n",
      "                            0.8886973180076628,\n",
      "                            0.8885057471264367,\n",
      "                            0.8886973180076628,\n",
      "                            0.8827586206896552,\n",
      "                            0.8940613026819925,\n",
      "                            0.9220306513409962,\n",
      "                            0.9109195402298851,\n",
      "                            0.899808429118774,\n",
      "                            0.9164750957854406,\n",
      "                            0.8660919540229886,\n",
      "                            0.8660919540229886,\n",
      "                            0.8886973180076628,\n",
      "                            0.8885057471264367,\n",
      "                            0.674712643678161,\n",
      "                            0.9109195402298851,\n",
      "                            0.8942528735632185,\n",
      "                            0.8773946360153256,\n",
      "                            0.8938697318007662,\n",
      "                            0.9053639846743295,\n",
      "                            0.9107279693486591,\n",
      "                            0.8885057471264369,\n",
      "                            0.8829501915708812,\n",
      "                            0.8773946360153256,\n",
      "                            0.8660919540229886,\n",
      "                            0.899808429118774,\n",
      "                            0.860536398467433,\n",
      "                            0.9109195402298851,\n",
      "                            0.899808429118774,\n",
      "                            0.899808429118774,\n",
      "                            0.9164750957854406,\n",
      "                            0.9164750957854406],\n",
      "    'params_tried': [   {   'booster': 'dart',\n",
      "                            'gamma': 0.7209255899800238,\n",
      "                            'learning_rate': 0.8022657797849247,\n",
      "                            'max_depth': 3,\n",
      "                            'n_estimators': 136},\n",
      "                        {   'booster': 'dart',\n",
      "                            'gamma': 0.44305101935746716,\n",
      "                            'learning_rate': 0.6934024551520116,\n",
      "                            'max_depth': 4,\n",
      "                            'n_estimators': 225},\n",
      "                        {   'booster': 'gbtree',\n",
      "                            'gamma': 4.947789407273854,\n",
      "                            'learning_rate': 0.6558920044415444,\n",
      "                            'max_depth': 9,\n",
      "                            'n_estimators': 7},\n",
      "                        {   'booster': 'gbtree',\n",
      "                            'gamma': 4.959283623315808,\n",
      "                            'learning_rate': 0.32066463442801196,\n",
      "                            'max_depth': 1,\n",
      "                            'n_estimators': 299},\n",
      "                        {   'booster': 'gblinear',\n",
      "                            'gamma': 4.994186203063461,\n",
      "                            'learning_rate': 0.3563875357557379,\n",
      "                            'max_depth': 9,\n",
      "                            'n_estimators': 175},\n",
      "                        {   'booster': 'dart',\n",
      "                            'gamma': 0.06449582893442884,\n",
      "                            'learning_rate': 0.9524485524030413,\n",
      "                            'max_depth': 9,\n",
      "                            'n_estimators': 298},\n",
      "                        {   'booster': 'gblinear',\n",
      "                            'gamma': 0.05419662820513926,\n",
      "                            'learning_rate': 0.567376363364942,\n",
      "                            'max_depth': 9,\n",
      "                            'n_estimators': 69},\n",
      "                        {   'booster': 'gblinear',\n",
      "                            'gamma': 0.3947927002661239,\n",
      "                            'learning_rate': 0.1922748120062331,\n",
      "                            'max_depth': 1,\n",
      "                            'n_estimators': 1},\n",
      "                        {   'booster': 'gbtree',\n",
      "                            'gamma': 2.3264915494290554,\n",
      "                            'learning_rate': 0.12476526120687392,\n",
      "                            'max_depth': 9,\n",
      "                            'n_estimators': 144},\n",
      "                        {   'booster': 'gblinear',\n",
      "                            'gamma': 4.896071234361217,\n",
      "                            'learning_rate': 0.007682784019985567,\n",
      "                            'max_depth': 9,\n",
      "                            'n_estimators': 129},\n",
      "                        {   'booster': 'gbtree',\n",
      "                            'gamma': 1.8702186493248363,\n",
      "                            'learning_rate': 0.5785035265247908,\n",
      "                            'max_depth': 5,\n",
      "                            'n_estimators': 235},\n",
      "                        {   'booster': 'gbtree',\n",
      "                            'gamma': 1.8932403980678476,\n",
      "                            'learning_rate': 0.5490323113113705,\n",
      "                            'max_depth': 3,\n",
      "                            'n_estimators': 215},\n",
      "                        {   'booster': 'gblinear',\n",
      "                            'gamma': 2.320332867885273,\n",
      "                            'learning_rate': 0.42058093458230517,\n",
      "                            'max_depth': 6,\n",
      "                            'n_estimators': 288},\n",
      "                        {   'booster': 'dart',\n",
      "                            'gamma': 4.991277396411247,\n",
      "                            'learning_rate': 0.6547035027972485,\n",
      "                            'max_depth': 1,\n",
      "                            'n_estimators': 38},\n",
      "                        {   'booster': 'gbtree',\n",
      "                            'gamma': 4.8396672234495,\n",
      "                            'learning_rate': 0.9497799723728343,\n",
      "                            'max_depth': 1,\n",
      "                            'n_estimators': 94},\n",
      "                        {   'booster': 'dart',\n",
      "                            'gamma': 0.02910878825610752,\n",
      "                            'learning_rate': 0.09064527628187469,\n",
      "                            'max_depth': 1,\n",
      "                            'n_estimators': 266},\n",
      "                        {   'booster': 'gbtree',\n",
      "                            'gamma': 0.045166408967740046,\n",
      "                            'learning_rate': 0.6117685642438229,\n",
      "                            'max_depth': 9,\n",
      "                            'n_estimators': 27},\n",
      "                        {   'booster': 'gblinear',\n",
      "                            'gamma': 4.887412877283359,\n",
      "                            'learning_rate': 0.32491046448352423,\n",
      "                            'max_depth': 1,\n",
      "                            'n_estimators': 158},\n",
      "                        {   'booster': 'gbtree',\n",
      "                            'gamma': 0.13363102624285472,\n",
      "                            'learning_rate': 0.398831934853244,\n",
      "                            'max_depth': 1,\n",
      "                            'n_estimators': 183},\n",
      "                        {   'booster': 'dart',\n",
      "                            'gamma': 4.98024148518807,\n",
      "                            'learning_rate': 0.7684531769798545,\n",
      "                            'max_depth': 9,\n",
      "                            'n_estimators': 261},\n",
      "                        {   'booster': 'gbtree',\n",
      "                            'gamma': 4.894638179460691,\n",
      "                            'learning_rate': 0.40838635370581367,\n",
      "                            'max_depth': 9,\n",
      "                            'n_estimators': 48},\n",
      "                        {   'booster': 'gblinear',\n",
      "                            'gamma': 2.3765983896394576,\n",
      "                            'learning_rate': 0.4328772395402354,\n",
      "                            'max_depth': 4,\n",
      "                            'n_estimators': 276},\n",
      "                        {   'booster': 'gbtree',\n",
      "                            'gamma': 2.0941670743631486,\n",
      "                            'learning_rate': 0.8028025602249952,\n",
      "                            'max_depth': 9,\n",
      "                            'n_estimators': 190},\n",
      "                        {   'booster': 'gblinear',\n",
      "                            'gamma': 1.0950003453616102,\n",
      "                            'learning_rate': 0.017075773299725427,\n",
      "                            'max_depth': 1,\n",
      "                            'n_estimators': 20},\n",
      "                        {   'booster': 'gbtree',\n",
      "                            'gamma': 0.4648402721801592,\n",
      "                            'learning_rate': 0.29537428878694383,\n",
      "                            'max_depth': 8,\n",
      "                            'n_estimators': 165},\n",
      "                        {   'booster': 'gblinear',\n",
      "                            'gamma': 3.734763131465635,\n",
      "                            'learning_rate': 0.45047760415908744,\n",
      "                            'max_depth': 8,\n",
      "                            'n_estimators': 86},\n",
      "                        {   'booster': 'gbtree',\n",
      "                            'gamma': 1.9843155854749335,\n",
      "                            'learning_rate': 0.2884001107828541,\n",
      "                            'max_depth': 2,\n",
      "                            'n_estimators': 77},\n",
      "                        {   'booster': 'dart',\n",
      "                            'gamma': 4.004823669501893,\n",
      "                            'learning_rate': 0.4961433527893253,\n",
      "                            'max_depth': 3,\n",
      "                            'n_estimators': 61},\n",
      "                        {   'booster': 'gbtree',\n",
      "                            'gamma': 0.5657188013766379,\n",
      "                            'learning_rate': 0.7468001713011891,\n",
      "                            'max_depth': 1,\n",
      "                            'n_estimators': 255},\n",
      "                        {   'booster': 'dart',\n",
      "                            'gamma': 0.17240939841816127,\n",
      "                            'learning_rate': 0.8902504555091565,\n",
      "                            'max_depth': 9,\n",
      "                            'n_estimators': 108},\n",
      "                        {   'booster': 'dart',\n",
      "                            'gamma': 4.971554258008121,\n",
      "                            'learning_rate': 0.9663718986716753,\n",
      "                            'max_depth': 1,\n",
      "                            'n_estimators': 235},\n",
      "                        {   'booster': 'dart',\n",
      "                            'gamma': 4.824690296819078,\n",
      "                            'learning_rate': 0.9158024671572701,\n",
      "                            'max_depth': 9,\n",
      "                            'n_estimators': 24},\n",
      "                        {   'booster': 'dart',\n",
      "                            'gamma': 2.1300007312763807,\n",
      "                            'learning_rate': 0.9714477958342861,\n",
      "                            'max_depth': 2,\n",
      "                            'n_estimators': 116},\n",
      "                        {   'booster': 'gbtree',\n",
      "                            'gamma': 4.6821889439224105,\n",
      "                            'learning_rate': 0.344640443017747,\n",
      "                            'max_depth': 7,\n",
      "                            'n_estimators': 247},\n",
      "                        {   'booster': 'dart',\n",
      "                            'gamma': 1.082051116132912,\n",
      "                            'learning_rate': 0.37183389095435426,\n",
      "                            'max_depth': 1,\n",
      "                            'n_estimators': 197},\n",
      "                        {   'booster': 'gbtree',\n",
      "                            'gamma': 3.1451927608241266,\n",
      "                            'learning_rate': 0.561962404447153,\n",
      "                            'max_depth': 8,\n",
      "                            'n_estimators': 205},\n",
      "                        {   'booster': 'gbtree',\n",
      "                            'gamma': 0.038088535484726016,\n",
      "                            'learning_rate': 0.5720924730431138,\n",
      "                            'max_depth': 9,\n",
      "                            'n_estimators': 154},\n",
      "                        {   'booster': 'gblinear',\n",
      "                            'gamma': 0.2420787286703524,\n",
      "                            'learning_rate': 0.4841601814613212,\n",
      "                            'max_depth': 9,\n",
      "                            'n_estimators': 98},\n",
      "                        {   'booster': 'gblinear',\n",
      "                            'gamma': 4.6553056590493105,\n",
      "                            'learning_rate': 0.28464628265418523,\n",
      "                            'max_depth': 1,\n",
      "                            'n_estimators': 104},\n",
      "                        {   'booster': 'gbtree',\n",
      "                            'gamma': 0.077017188735784,\n",
      "                            'learning_rate': 0.5409042763909462,\n",
      "                            'max_depth': 1,\n",
      "                            'n_estimators': 52},\n",
      "                        {   'booster': 'gbtree',\n",
      "                            'gamma': 0.07095419343159326,\n",
      "                            'learning_rate': 0.2022281324838231,\n",
      "                            'max_depth': 1,\n",
      "                            'n_estimators': 126}],\n",
      "    'random_params': [   {   'booster': 'dart',\n",
      "                             'gamma': 0.7209255899800238,\n",
      "                             'learning_rate': 0.8022657797849247,\n",
      "                             'max_depth': 3,\n",
      "                             'n_estimators': 136}],\n",
      "    'random_params_objective': [0.9109195402298851]}\n"
     ]
    }
   ],
   "source": [
    "import pprint\n",
    "pp = pprint.PrettyPrinter(indent=4)\n",
    "pp.pprint(results)"
   ]
  },
  {
   "cell_type": "code",
   "execution_count": null,
   "metadata": {},
   "outputs": [],
   "source": []
  }
 ],
 "metadata": {
  "kernelspec": {
   "display_name": "Python 3",
   "language": "python",
   "name": "python3"
  },
  "language_info": {
   "codemirror_mode": {
    "name": "ipython",
    "version": 3
   },
   "file_extension": ".py",
   "mimetype": "text/x-python",
   "name": "python",
   "nbconvert_exporter": "python",
   "pygments_lexer": "ipython3",
   "version": "3.7.3"
  }
 },
 "nbformat": 4,
 "nbformat_minor": 2
}
