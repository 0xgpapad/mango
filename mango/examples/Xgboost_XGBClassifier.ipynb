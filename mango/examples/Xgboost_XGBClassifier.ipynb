{
 "cells": [
  {
   "cell_type": "markdown",
   "metadata": {},
   "source": [
    "# A sample example to tune xgboost classifier showing a complex search space definition"
   ]
  },
  {
   "cell_type": "code",
   "execution_count": 1,
   "metadata": {},
   "outputs": [],
   "source": [
    "from mango.tuner import Tuner"
   ]
  },
  {
   "cell_type": "code",
   "execution_count": 2,
   "metadata": {},
   "outputs": [],
   "source": [
    "from scipy.stats import uniform\n",
    "\n",
    "param_dict = {\"learning_rate\": uniform(0, 1),\n",
    "              \"gamma\": uniform(0, 5),\n",
    "              \"max_depth\": range(1,10),\n",
    "              \"n_estimators\": range(1,300),\n",
    "               \"booster\":['gbtree','gblinear','dart']\n",
    "             }"
   ]
  },
  {
   "cell_type": "markdown",
   "metadata": {},
   "source": [
    "# userObjective"
   ]
  },
  {
   "cell_type": "code",
   "execution_count": 3,
   "metadata": {},
   "outputs": [],
   "source": [
    "from sklearn.model_selection import cross_val_score\n",
    "from xgboost import XGBClassifier\n",
    "from sklearn.datasets import load_wine\n",
    "\n",
    "X, Y = load_wine(return_X_y=True)\n",
    "\n",
    "count_called = 1\n",
    "\n",
    "def objective_Xgboost(args_list):\n",
    "    global X, Y, count_called\n",
    "    \n",
    "    print('count_called:',count_called)\n",
    "    \n",
    "    count_called = count_called + 1\n",
    "    results = []\n",
    "    for hyper_par in args_list:\n",
    "        clf = XGBClassifier(**hyper_par)\n",
    "        result = cross_val_score(clf, X, Y, scoring='accuracy').mean()\n",
    "        results.append(result)\n",
    "    return results"
   ]
  },
  {
   "cell_type": "code",
   "execution_count": 4,
   "metadata": {},
   "outputs": [],
   "source": [
    "conf_Dict = dict()\n",
    "conf_Dict['batch_size'] = 1\n",
    "conf_Dict['num_iteration'] = 40\n",
    "conf_Dict['domain_size'] = 10000"
   ]
  },
  {
   "cell_type": "markdown",
   "metadata": {},
   "source": [
    "# Defining Tuner"
   ]
  },
  {
   "cell_type": "code",
   "execution_count": 5,
   "metadata": {},
   "outputs": [],
   "source": [
    "tuner_user = Tuner(param_dict, objective_Xgboost,conf_Dict)"
   ]
  },
  {
   "cell_type": "code",
   "execution_count": 6,
   "metadata": {},
   "outputs": [
    {
     "data": {
      "text/plain": [
       "{'param_dict': {'learning_rate': <scipy.stats._distn_infrastructure.rv_frozen at 0x1a1292d6d8>,\n",
       "  'gamma': <scipy.stats._distn_infrastructure.rv_frozen at 0x1a1292dbe0>,\n",
       "  'max_depth': range(1, 10),\n",
       "  'n_estimators': range(1, 300),\n",
       "  'booster': ['gbtree', 'gblinear', 'dart']},\n",
       " 'userObjective': <function __main__.objective_Xgboost(args_list)>,\n",
       " 'domain_size': 10000,\n",
       " 'initial_random': 1,\n",
       " 'num_iteration': 40,\n",
       " 'objective': 'maximize',\n",
       " 'batch_size': 1}"
      ]
     },
     "execution_count": 6,
     "metadata": {},
     "output_type": "execute_result"
    }
   ],
   "source": [
    "tuner_user.getConf()"
   ]
  },
  {
   "cell_type": "code",
   "execution_count": 7,
   "metadata": {},
   "outputs": [
    {
     "name": "stdout",
     "output_type": "stream",
     "text": [
      "count_called: 1\n",
      "count_called: 2\n",
      "count_called: 3\n",
      "count_called: 4\n",
      "count_called: 5\n",
      "count_called: 6\n",
      "count_called: 7\n",
      "count_called: 8\n",
      "count_called: 9\n",
      "count_called: 10\n",
      "count_called: 11\n",
      "count_called: 12\n",
      "count_called: 13\n",
      "count_called: 14\n",
      "count_called: 15\n",
      "count_called: 16\n",
      "count_called: 17\n",
      "count_called: 18\n",
      "count_called: 19\n",
      "count_called: 20\n",
      "count_called: 21\n",
      "count_called: 22\n",
      "count_called: 23\n",
      "count_called: 24\n",
      "count_called: 25\n",
      "count_called: 26\n",
      "count_called: 27\n",
      "count_called: 28\n",
      "count_called: 29\n",
      "count_called: 30\n",
      "count_called: 31\n",
      "count_called: 32\n",
      "count_called: 33\n",
      "count_called: 34\n",
      "count_called: 35\n",
      "count_called: 36\n",
      "count_called: 37\n",
      "count_called: 38\n",
      "count_called: 39\n",
      "count_called: 40\n",
      "count_called: 41\n",
      "62.187552000000004\n"
     ]
    }
   ],
   "source": [
    "import time\n",
    "start_time = time.clock()\n",
    "\n",
    "results = tuner_user.maximize()\n",
    "\n",
    "end_time = time.clock()\n",
    "\n",
    "\n",
    "print(end_time - start_time)"
   ]
  },
  {
   "cell_type": "markdown",
   "metadata": {},
   "source": [
    "# Inspect the results"
   ]
  },
  {
   "cell_type": "code",
   "execution_count": 8,
   "metadata": {},
   "outputs": [
    {
     "name": "stdout",
     "output_type": "stream",
     "text": [
      "best hyper parameters: {'booster': 'gblinear', 'gamma': 3.41757327745229, 'learning_rate': 0.01005392138104333, 'max_depth': 8, 'n_estimators': 265}\n",
      "best objective: 0.9331417624521072\n"
     ]
    }
   ],
   "source": [
    "print('best hyper parameters:',results['best_params'])\n",
    "print('best objective:',results['best_objective'])"
   ]
  },
  {
   "cell_type": "code",
   "execution_count": 9,
   "metadata": {},
   "outputs": [
    {
     "name": "stdout",
     "output_type": "stream",
     "text": [
      "Sample hyper parameters tried: 41\n",
      "[{'booster': 'gblinear', 'gamma': 4.578040660304726, 'learning_rate': 0.24450249283195857, 'max_depth': 2, 'n_estimators': 183}, {'booster': 'gblinear', 'gamma': 2.0213445866551663, 'learning_rate': 0.715392352060936, 'max_depth': 6, 'n_estimators': 36}]\n"
     ]
    }
   ],
   "source": [
    "print('Sample hyper parameters tried:',len(results['params_tried']))\n",
    "print(results['params_tried'][:2])"
   ]
  },
  {
   "cell_type": "code",
   "execution_count": 10,
   "metadata": {
    "scrolled": true
   },
   "outputs": [
    {
     "name": "stdout",
     "output_type": "stream",
     "text": [
      "Sample objective values 41\n",
      "[0.899808429118774, 0.8942528735632185, 0.9164750957854406, 0.9053639846743295, 0.8660919540229886]\n"
     ]
    }
   ],
   "source": [
    "print('Sample objective values',len(results['objective_values']))\n",
    "print(results['objective_values'][:5])"
   ]
  },
  {
   "cell_type": "markdown",
   "metadata": {},
   "source": [
    "# Plotting the actual variation in objective values of the tried results"
   ]
  },
  {
   "cell_type": "code",
   "execution_count": 14,
   "metadata": {},
   "outputs": [
    {
     "data": {
      "image/png": "[encoded data removed]",
      "text/plain": [
       "<Figure size 2160x360 with 1 Axes>"
      ]
     },
     "metadata": {
      "needs_background": "light"
     },
     "output_type": "display_data"
    }
   ],
   "source": [
    "Size = 201 \n",
    "\n",
    "from matplotlib import pyplot as plt\n",
    "fig = plt.figure(figsize=(30,5))\n",
    "plt.title('Variation of Objective',fontsize=20)\n",
    "plt.plot(results['objective_values'][:Size],lw=4,label='BL')\n",
    "plt.xlabel('Iterations', fontsize=25)\n",
    "plt.ylabel('objective_values',fontsize=25)\n",
    "plt.xticks(fontsize=20)\n",
    "plt.yticks(fontsize=20)\n",
    "plt.legend(prop={'size': 30})\n",
    "plt.show()"
   ]
  },
  {
   "cell_type": "markdown",
   "metadata": {},
   "source": [
    "# Plotting the variation of Max objective values of the tried results"
   ]
  },
  {
   "cell_type": "code",
   "execution_count": 12,
   "metadata": {},
   "outputs": [
    {
     "data": {
      "image/png": "[encoded data removed]",
      "text/plain": [
       "<Figure size 2160x360 with 1 Axes>"
      ]
     },
     "metadata": {
      "needs_background": "light"
     },
     "output_type": "display_data"
    }
   ],
   "source": [
    "Size = 201 \n",
    "\n",
    "import numpy as np\n",
    "\n",
    "results_obj = np.array(results['objective_values'])\n",
    "\n",
    "y_max=[]\n",
    "for i in range(results_obj.shape[0]):\n",
    "    y_max.append(np.max(results_obj[:i+1]))\n",
    "\n",
    "from matplotlib import pyplot as plt\n",
    "fig = plt.figure(figsize=(30,5))\n",
    "plt.title('Max variation of Objective',fontsize=20)\n",
    "plt.plot(y_max[:Size],lw=4,label='BL')\n",
    "plt.xlabel('Iterations', fontsize=25)\n",
    "plt.ylabel('objective_values',fontsize=25)\n",
    "plt.xticks(fontsize=20)\n",
    "plt.yticks(fontsize=20)\n",
    "plt.legend(prop={'size': 30})\n",
    "plt.show()"
   ]
  },
  {
   "cell_type": "markdown",
   "metadata": {},
   "source": [
    "# See the Result"
   ]
  },
  {
   "cell_type": "code",
   "execution_count": 13,
   "metadata": {
    "scrolled": false
   },
   "outputs": [
    {
     "name": "stdout",
     "output_type": "stream",
     "text": [
      "{   'best_objective': 0.9331417624521072,\n",
      "    'best_params': {   'booster': 'gblinear',\n",
      "                       'gamma': 3.41757327745229,\n",
      "                       'learning_rate': 0.01005392138104333,\n",
      "                       'max_depth': 8,\n",
      "                       'n_estimators': 265},\n",
      "    'objective_values': [   0.899808429118774,\n",
      "                            0.8942528735632185,\n",
      "                            0.9164750957854406,\n",
      "                            0.9053639846743295,\n",
      "                            0.8660919540229886,\n",
      "                            0.8660919540229886,\n",
      "                            0.9164750957854406,\n",
      "                            0.9053639846743295,\n",
      "                            0.9164750957854406,\n",
      "                            0.8660919540229886,\n",
      "                            0.3369731800766284,\n",
      "                            0.899808429118774,\n",
      "                            0.8827586206896552,\n",
      "                            0.899808429118774,\n",
      "                            0.8886973180076628,\n",
      "                            0.9107279693486591,\n",
      "                            0.9109195402298851,\n",
      "                            0.9164750957854406,\n",
      "                            0.9053639846743295,\n",
      "                            0.8660919540229886,\n",
      "                            0.9331417624521072,\n",
      "                            0.9053639846743295,\n",
      "                            0.899808429118774,\n",
      "                            0.9053639846743295,\n",
      "                            0.8886973180076628,\n",
      "                            0.9053639846743295,\n",
      "                            0.899808429118774,\n",
      "                            0.8886973180076628,\n",
      "                            0.8883141762452107,\n",
      "                            0.8886973180076628,\n",
      "                            0.8773946360153256,\n",
      "                            0.9,\n",
      "                            0.9109195402298851,\n",
      "                            0.8994252873563218,\n",
      "                            0.9164750957854406,\n",
      "                            0.8660919540229886,\n",
      "                            0.8942528735632184,\n",
      "                            0.9053639846743295,\n",
      "                            0.8660919540229886,\n",
      "                            0.8827586206896552,\n",
      "                            0.8549808429118775],\n",
      "    'params_tried': [   {   'booster': 'gblinear',\n",
      "                            'gamma': 4.578040660304726,\n",
      "                            'learning_rate': 0.24450249283195857,\n",
      "                            'max_depth': 2,\n",
      "                            'n_estimators': 183},\n",
      "                        {   'booster': 'gblinear',\n",
      "                            'gamma': 2.0213445866551663,\n",
      "                            'learning_rate': 0.715392352060936,\n",
      "                            'max_depth': 6,\n",
      "                            'n_estimators': 36},\n",
      "                        {   'booster': 'gbtree',\n",
      "                            'gamma': 0.30704917195664705,\n",
      "                            'learning_rate': 0.46805284309336004,\n",
      "                            'max_depth': 9,\n",
      "                            'n_estimators': 297},\n",
      "                        {   'booster': 'gblinear',\n",
      "                            'gamma': 4.580658614302009,\n",
      "                            'learning_rate': 0.12588750233612722,\n",
      "                            'max_depth': 1,\n",
      "                            'n_estimators': 298},\n",
      "                        {   'booster': 'dart',\n",
      "                            'gamma': 4.516759738273213,\n",
      "                            'learning_rate': 0.9066265920895729,\n",
      "                            'max_depth': 9,\n",
      "                            'n_estimators': 299},\n",
      "                        {   'booster': 'gbtree',\n",
      "                            'gamma': 2.8954645162588584,\n",
      "                            'learning_rate': 0.6159679496153826,\n",
      "                            'max_depth': 2,\n",
      "                            'n_estimators': 1},\n",
      "                        {   'booster': 'gbtree',\n",
      "                            'gamma': 0.10932867581063932,\n",
      "                            'learning_rate': 0.567349292181593,\n",
      "                            'max_depth': 1,\n",
      "                            'n_estimators': 117},\n",
      "                        {   'booster': 'dart',\n",
      "                            'gamma': 0.6873054337980034,\n",
      "                            'learning_rate': 0.9169454798452117,\n",
      "                            'max_depth': 1,\n",
      "                            'n_estimators': 245},\n",
      "                        {   'booster': 'dart',\n",
      "                            'gamma': 0.03359185083187666,\n",
      "                            'learning_rate': 0.29752733744008386,\n",
      "                            'max_depth': 9,\n",
      "                            'n_estimators': 146},\n",
      "                        {   'booster': 'gbtree',\n",
      "                            'gamma': 4.886462642432746,\n",
      "                            'learning_rate': 0.1952861543229989,\n",
      "                            'max_depth': 9,\n",
      "                            'n_estimators': 96},\n",
      "                        {   'booster': 'gblinear',\n",
      "                            'gamma': 0.5782688931564828,\n",
      "                            'learning_rate': 0.43227597997400213,\n",
      "                            'max_depth': 9,\n",
      "                            'n_estimators': 1},\n",
      "                        {   'booster': 'gblinear',\n",
      "                            'gamma': 2.9610121325639263,\n",
      "                            'learning_rate': 0.6017775558446078,\n",
      "                            'max_depth': 5,\n",
      "                            'n_estimators': 288},\n",
      "                        {   'booster': 'dart',\n",
      "                            'gamma': 1.4993823278261758,\n",
      "                            'learning_rate': 0.9310714574787256,\n",
      "                            'max_depth': 2,\n",
      "                            'n_estimators': 107},\n",
      "                        {   'booster': 'gblinear',\n",
      "                            'gamma': 1.6733300433048686,\n",
      "                            'learning_rate': 0.9234469455466677,\n",
      "                            'max_depth': 3,\n",
      "                            'n_estimators': 138},\n",
      "                        {   'booster': 'gblinear',\n",
      "                            'gamma': 3.5152261659925275,\n",
      "                            'learning_rate': 0.6961366073722751,\n",
      "                            'max_depth': 3,\n",
      "                            'n_estimators': 127},\n",
      "                        {   'booster': 'dart',\n",
      "                            'gamma': 0.7621657042937258,\n",
      "                            'learning_rate': 0.1682111778147536,\n",
      "                            'max_depth': 3,\n",
      "                            'n_estimators': 155},\n",
      "                        {   'booster': 'dart',\n",
      "                            'gamma': 0.33528312974545726,\n",
      "                            'learning_rate': 0.17809703083280448,\n",
      "                            'max_depth': 9,\n",
      "                            'n_estimators': 164},\n",
      "                        {   'booster': 'dart',\n",
      "                            'gamma': 0.4632405363301656,\n",
      "                            'learning_rate': 0.24974145221680044,\n",
      "                            'max_depth': 8,\n",
      "                            'n_estimators': 175},\n",
      "                        {   'booster': 'gblinear',\n",
      "                            'gamma': 2.992402073231336,\n",
      "                            'learning_rate': 0.7918245446436547,\n",
      "                            'max_depth': 4,\n",
      "                            'n_estimators': 255},\n",
      "                        {   'booster': 'dart',\n",
      "                            'gamma': 3.5947239651667373,\n",
      "                            'learning_rate': 0.46297081988491695,\n",
      "                            'max_depth': 4,\n",
      "                            'n_estimators': 235},\n",
      "                        {   'booster': 'gblinear',\n",
      "                            'gamma': 3.41757327745229,\n",
      "                            'learning_rate': 0.01005392138104333,\n",
      "                            'max_depth': 8,\n",
      "                            'n_estimators': 265},\n",
      "                        {   'booster': 'gblinear',\n",
      "                            'gamma': 4.776833044839425,\n",
      "                            'learning_rate': 0.7407497812444512,\n",
      "                            'max_depth': 4,\n",
      "                            'n_estimators': 275},\n",
      "                        {   'booster': 'gbtree',\n",
      "                            'gamma': 0.48912934588934254,\n",
      "                            'learning_rate': 0.11868497681159362,\n",
      "                            'max_depth': 1,\n",
      "                            'n_estimators': 68},\n",
      "                        {   'booster': 'gbtree',\n",
      "                            'gamma': 0.20983289755189094,\n",
      "                            'learning_rate': 0.22562815619187304,\n",
      "                            'max_depth': 7,\n",
      "                            'n_estimators': 77},\n",
      "                        {   'booster': 'gblinear',\n",
      "                            'gamma': 2.930900916054165,\n",
      "                            'learning_rate': 0.3845181445189024,\n",
      "                            'max_depth': 4,\n",
      "                            'n_estimators': 58},\n",
      "                        {   'booster': 'gbtree',\n",
      "                            'gamma': 0.9787374440753516,\n",
      "                            'learning_rate': 0.6162683584449979,\n",
      "                            'max_depth': 1,\n",
      "                            'n_estimators': 86},\n",
      "                        {   'booster': 'gblinear',\n",
      "                            'gamma': 4.593171705958833,\n",
      "                            'learning_rate': 0.28135155923530974,\n",
      "                            'max_depth': 8,\n",
      "                            'n_estimators': 192},\n",
      "                        {   'booster': 'dart',\n",
      "                            'gamma': 2.122162437290973,\n",
      "                            'learning_rate': 0.38371115077101614,\n",
      "                            'max_depth': 5,\n",
      "                            'n_estimators': 202},\n",
      "                        {   'booster': 'gbtree',\n",
      "                            'gamma': 1.825359103224999,\n",
      "                            'learning_rate': 0.7629115287895243,\n",
      "                            'max_depth': 2,\n",
      "                            'n_estimators': 26},\n",
      "                        {   'booster': 'gblinear',\n",
      "                            'gamma': 1.5952056485255972,\n",
      "                            'learning_rate': 0.3872964058953511,\n",
      "                            'max_depth': 5,\n",
      "                            'n_estimators': 47},\n",
      "                        {   'booster': 'dart',\n",
      "                            'gamma': 3.3403167468583295,\n",
      "                            'learning_rate': 0.6458859517281488,\n",
      "                            'max_depth': 1,\n",
      "                            'n_estimators': 212},\n",
      "                        {   'booster': 'gblinear',\n",
      "                            'gamma': 1.1471765897967356,\n",
      "                            'learning_rate': 0.8293081046658521,\n",
      "                            'max_depth': 2,\n",
      "                            'n_estimators': 15},\n",
      "                        {   'booster': 'gblinear',\n",
      "                            'gamma': 4.889481688959055,\n",
      "                            'learning_rate': 0.1071241483148877,\n",
      "                            'max_depth': 1,\n",
      "                            'n_estimators': 169},\n",
      "                        {   'booster': 'gbtree',\n",
      "                            'gamma': 3.746292301345461,\n",
      "                            'learning_rate': 0.793988110675,\n",
      "                            'max_depth': 4,\n",
      "                            'n_estimators': 255},\n",
      "                        {   'booster': 'gbtree',\n",
      "                            'gamma': 0.5624086135442663,\n",
      "                            'learning_rate': 0.6688356468876182,\n",
      "                            'max_depth': 9,\n",
      "                            'n_estimators': 220},\n",
      "                        {   'booster': 'dart',\n",
      "                            'gamma': 4.924852478977383,\n",
      "                            'learning_rate': 0.4065002816639175,\n",
      "                            'max_depth': 9,\n",
      "                            'n_estimators': 16},\n",
      "                        {   'booster': 'gblinear',\n",
      "                            'gamma': 0.8192699670936343,\n",
      "                            'learning_rate': 0.9230523180505913,\n",
      "                            'max_depth': 9,\n",
      "                            'n_estimators': 119},\n",
      "                        {   'booster': 'dart',\n",
      "                            'gamma': 0.2258062031019742,\n",
      "                            'learning_rate': 0.14132177453778294,\n",
      "                            'max_depth': 1,\n",
      "                            'n_estimators': 273},\n",
      "                        {   'booster': 'dart',\n",
      "                            'gamma': 4.792367187962087,\n",
      "                            'learning_rate': 0.8404503587419602,\n",
      "                            'max_depth': 1,\n",
      "                            'n_estimators': 43},\n",
      "                        {   'booster': 'gbtree',\n",
      "                            'gamma': 4.971036016516078,\n",
      "                            'learning_rate': 0.5369390907384802,\n",
      "                            'max_depth': 9,\n",
      "                            'n_estimators': 48},\n",
      "                        {   'booster': 'gbtree',\n",
      "                            'gamma': 4.979102602220356,\n",
      "                            'learning_rate': 0.37549061308187803,\n",
      "                            'max_depth': 8,\n",
      "                            'n_estimators': 151}],\n",
      "    'random_params': [   {   'booster': 'gblinear',\n",
      "                             'gamma': 4.578040660304726,\n",
      "                             'learning_rate': 0.24450249283195857,\n",
      "                             'max_depth': 2,\n",
      "                             'n_estimators': 183}],\n",
      "    'random_params_objective': [0.899808429118774]}\n"
     ]
    }
   ],
   "source": [
    "import pprint\n",
    "pp = pprint.PrettyPrinter(indent=4)\n",
    "pp.pprint(results)"
   ]
  },
  {
   "cell_type": "code",
   "execution_count": null,
   "metadata": {},
   "outputs": [],
   "source": []
  }
 ],
 "metadata": {
  "kernelspec": {
   "display_name": "Python 3",
   "language": "python",
   "name": "python3"
  },
  "language_info": {
   "codemirror_mode": {
    "name": "ipython",
    "version": 3
   },
   "file_extension": ".py",
   "mimetype": "text/x-python",
   "name": "python",
   "nbconvert_exporter": "python",
   "pygments_lexer": "ipython3",
   "version": "3.7.3"
  }
 },
 "nbformat": 4,
 "nbformat_minor": 2
}
