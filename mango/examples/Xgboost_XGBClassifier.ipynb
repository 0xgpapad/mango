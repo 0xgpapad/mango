{
 "cells": [
  {
   "cell_type": "markdown",
   "metadata": {},
   "source": [
    "# A sample example to tune xgboost classifier showing a complex search space definition"
   ]
  },
  {
   "cell_type": "code",
   "execution_count": 1,
   "metadata": {},
   "outputs": [],
   "source": [
    "from mango.tuner import Tuner"
   ]
  },
  {
   "cell_type": "code",
   "execution_count": 2,
   "metadata": {},
   "outputs": [],
   "source": [
    "from scipy.stats import uniform\n",
    "\n",
    "param_dict = {\"learning_rate\": uniform(0, 1),\n",
    "              \"gamma\": uniform(0, 5),\n",
    "              \"max_depth\": range(1,10),\n",
    "              \"n_estimators\": range(1,300),\n",
    "               \"booster\":['gbtree','gblinear','dart']\n",
    "             }"
   ]
  },
  {
   "cell_type": "markdown",
   "metadata": {},
   "source": [
    "# userObjective"
   ]
  },
  {
   "cell_type": "code",
   "execution_count": 8,
   "metadata": {},
   "outputs": [],
   "source": [
    "from sklearn.model_selection import cross_val_score\n",
    "from xgboost import XGBClassifier\n",
    "from sklearn.datasets import load_wine\n",
    "\n",
    "X, Y = load_wine(return_X_y=True)\n",
    "\n",
    "count_called = 1\n",
    "\n",
    "def objective_Xgboost(args_list):\n",
    "    global X, Y, count_called\n",
    "    \n",
    "    print('count_called:',count_called)\n",
    "    \n",
    "    count_called = count_called + 1\n",
    "    results = []\n",
    "    for hyper_par in args_list:\n",
    "        clf = XGBClassifier(**hyper_par)\n",
    "        result = cross_val_score(clf, X, Y, scoring='accuracy').mean()\n",
    "        results.append(result)\n",
    "    return results"
   ]
  },
  {
   "cell_type": "code",
   "execution_count": 9,
   "metadata": {},
   "outputs": [],
   "source": [
    "conf_Dict = dict()\n",
    "conf_Dict['batch_size'] = 1\n",
    "conf_Dict['num_iteration'] = 40\n",
    "conf_Dict['domain_size'] = 10000"
   ]
  },
  {
   "cell_type": "markdown",
   "metadata": {},
   "source": [
    "# Defining Tuner"
   ]
  },
  {
   "cell_type": "code",
   "execution_count": 10,
   "metadata": {},
   "outputs": [],
   "source": [
    "tuner_user = Tuner(param_dict, objective_Xgboost,conf_Dict)"
   ]
  },
  {
   "cell_type": "code",
   "execution_count": 11,
   "metadata": {},
   "outputs": [
    {
     "data": {
      "text/plain": [
       "{'param_dict': {'learning_rate': <scipy.stats._distn_infrastructure.rv_frozen at 0x1a12dcd4e0>,\n",
       "  'gamma': <scipy.stats._distn_infrastructure.rv_frozen at 0x1a12dcd9e8>,\n",
       "  'max_depth': range(1, 10),\n",
       "  'n_estimators': range(1, 300),\n",
       "  'booster': ['gbtree', 'gblinear', 'dart']},\n",
       " 'userObjective': <function __main__.objective_Xgboost(args_list)>,\n",
       " 'domain_size': 10000,\n",
       " 'initial_random': 1,\n",
       " 'num_iteration': 40,\n",
       " 'objective': 'maximize',\n",
       " 'batch_size': 1}"
      ]
     },
     "execution_count": 11,
     "metadata": {},
     "output_type": "execute_result"
    }
   ],
   "source": [
    "tuner_user.getConf()"
   ]
  },
  {
   "cell_type": "code",
   "execution_count": 12,
   "metadata": {},
   "outputs": [
    {
     "name": "stdout",
     "output_type": "stream",
     "text": [
      "count_called: 1\n",
      "count_called: 2\n",
      "count_called: 3\n",
      "count_called: 4\n",
      "count_called: 5\n",
      "count_called: 6\n",
      "count_called: 7\n",
      "count_called: 8\n",
      "count_called: 9\n",
      "count_called: 10\n",
      "count_called: 11\n",
      "count_called: 12\n",
      "count_called: 13\n",
      "count_called: 14\n",
      "count_called: 15\n",
      "count_called: 16\n",
      "count_called: 17\n",
      "count_called: 18\n",
      "count_called: 19\n",
      "count_called: 20\n",
      "count_called: 21\n",
      "count_called: 22\n",
      "count_called: 23\n",
      "count_called: 24\n",
      "count_called: 25\n",
      "count_called: 26\n",
      "count_called: 27\n",
      "count_called: 28\n",
      "count_called: 29\n",
      "count_called: 30\n",
      "count_called: 31\n",
      "count_called: 32\n",
      "count_called: 33\n",
      "count_called: 34\n",
      "count_called: 35\n",
      "count_called: 36\n",
      "count_called: 37\n",
      "count_called: 38\n",
      "count_called: 39\n",
      "count_called: 40\n",
      "count_called: 41\n",
      "59.243268\n"
     ]
    }
   ],
   "source": [
    "import time\n",
    "start_time = time.clock()\n",
    "\n",
    "results = tuner_user.run()\n",
    "\n",
    "end_time = time.clock()\n",
    "\n",
    "\n",
    "print(end_time - start_time)"
   ]
  },
  {
   "cell_type": "markdown",
   "metadata": {},
   "source": [
    "# Inspect the results"
   ]
  },
  {
   "cell_type": "code",
   "execution_count": 13,
   "metadata": {},
   "outputs": [
    {
     "name": "stdout",
     "output_type": "stream",
     "text": [
      "best hyper parameters: {'booster': 'gbtree', 'gamma': 0.5366377413075157, 'learning_rate': 0.6568725588900894, 'max_depth': 9, 'n_estimators': 299}\n",
      "best objective: 0.9331417624521072\n"
     ]
    }
   ],
   "source": [
    "print('best hyper parameters:',results['best_hyper_parameter'])\n",
    "print('best objective:',results['best_objective'])"
   ]
  },
  {
   "cell_type": "code",
   "execution_count": 14,
   "metadata": {},
   "outputs": [
    {
     "name": "stdout",
     "output_type": "stream",
     "text": [
      "Sample hyper parameters tried: 41\n",
      "[{'booster': 'gblinear', 'gamma': 0.4697596833421719, 'learning_rate': 0.5018605916808697, 'max_depth': 7, 'n_estimators': 195}, {'booster': 'gblinear', 'gamma': 0.9619970576665166, 'learning_rate': 0.050809841326804106, 'max_depth': 7, 'n_estimators': 118}]\n"
     ]
    }
   ],
   "source": [
    "print('Sample hyper parameters tried:',len(results['hyper_parameters_tried']))\n",
    "print(results['hyper_parameters_tried'][:2])"
   ]
  },
  {
   "cell_type": "code",
   "execution_count": 15,
   "metadata": {
    "scrolled": true
   },
   "outputs": [
    {
     "name": "stdout",
     "output_type": "stream",
     "text": [
      "Sample objective values 41\n",
      "[0.8886973180076628, 0.9164750957854406, 0.8436781609195402, 0.899808429118774, 0.9164750957854406]\n"
     ]
    }
   ],
   "source": [
    "print('Sample objective values',len(results['objective_values']))\n",
    "print(results['objective_values'][:5])"
   ]
  },
  {
   "cell_type": "markdown",
   "metadata": {},
   "source": [
    "# Plotting the actual variation in objective values of the tried results"
   ]
  },
  {
   "cell_type": "code",
   "execution_count": 17,
   "metadata": {},
   "outputs": [
    {
     "data": {
      "image/png": "[encoded data removed]",
      "text/plain": [
       "<Figure size 2160x360 with 1 Axes>"
      ]
     },
     "metadata": {
      "needs_background": "light"
     },
     "output_type": "display_data"
    }
   ],
   "source": [
    "Size = 201 \n",
    "\n",
    "from matplotlib import pyplot as plt\n",
    "fig = plt.figure(figsize=(30,5))\n",
    "plt.title('Variation of Objective',fontsize=20)\n",
    "plt.plot(results['objective_values'][:Size],lw=4,label='BL')\n",
    "plt.xlabel('Iterations', fontsize=25)\n",
    "plt.ylabel('objective_values',fontsize=25)\n",
    "plt.xticks(fontsize=20)\n",
    "plt.yticks(fontsize=20)\n",
    "plt.legend(prop={'size': 30})\n",
    "plt.show()"
   ]
  },
  {
   "cell_type": "markdown",
   "metadata": {},
   "source": [
    "# Plotting the variation of Max objective values of the tried results"
   ]
  },
  {
   "cell_type": "code",
   "execution_count": 18,
   "metadata": {},
   "outputs": [
    {
     "data": {
      "image/png": "[encoded data removed]",
      "text/plain": [
       "<Figure size 2160x360 with 1 Axes>"
      ]
     },
     "metadata": {
      "needs_background": "light"
     },
     "output_type": "display_data"
    }
   ],
   "source": [
    "Size = 201 \n",
    "\n",
    "import numpy as np\n",
    "\n",
    "results_obj = np.array(results['objective_values'])\n",
    "\n",
    "y_max=[]\n",
    "for i in range(results_obj.shape[0]):\n",
    "    y_max.append(np.max(results_obj[:i+1]))\n",
    "\n",
    "from matplotlib import pyplot as plt\n",
    "fig = plt.figure(figsize=(30,5))\n",
    "plt.title('Max variation of Objective',fontsize=20)\n",
    "plt.plot(y_max[:Size],lw=4,label='BL')\n",
    "plt.xlabel('Iterations', fontsize=25)\n",
    "plt.ylabel('objective_values',fontsize=25)\n",
    "plt.xticks(fontsize=20)\n",
    "plt.yticks(fontsize=20)\n",
    "plt.legend(prop={'size': 30})\n",
    "plt.show()"
   ]
  },
  {
   "cell_type": "markdown",
   "metadata": {},
   "source": [
    "# See the Result"
   ]
  },
  {
   "cell_type": "code",
   "execution_count": 19,
   "metadata": {
    "scrolled": false
   },
   "outputs": [
    {
     "name": "stdout",
     "output_type": "stream",
     "text": [
      "{   'best_hyper_parameter': {   'booster': 'gbtree',\n",
      "                                'gamma': 0.5366377413075157,\n",
      "                                'learning_rate': 0.6568725588900894,\n",
      "                                'max_depth': 9,\n",
      "                                'n_estimators': 299},\n",
      "    'best_objective': 0.9331417624521072,\n",
      "    'hyper_parameters_tried': [   {   'booster': 'gblinear',\n",
      "                                      'gamma': 0.4697596833421719,\n",
      "                                      'learning_rate': 0.5018605916808697,\n",
      "                                      'max_depth': 7,\n",
      "                                      'n_estimators': 195},\n",
      "                                  {   'booster': 'gblinear',\n",
      "                                      'gamma': 0.9619970576665166,\n",
      "                                      'learning_rate': 0.050809841326804106,\n",
      "                                      'max_depth': 7,\n",
      "                                      'n_estimators': 118},\n",
      "                                  {   'booster': 'dart',\n",
      "                                      'gamma': 3.3175808491184493,\n",
      "                                      'learning_rate': 0.8291685692625546,\n",
      "                                      'max_depth': 1,\n",
      "                                      'n_estimators': 1},\n",
      "                                  {   'booster': 'gblinear',\n",
      "                                      'gamma': 4.9543585010550855,\n",
      "                                      'learning_rate': 0.6235972334174621,\n",
      "                                      'max_depth': 9,\n",
      "                                      'n_estimators': 299},\n",
      "                                  {   'booster': 'dart',\n",
      "                                      'gamma': 0.07643789445186455,\n",
      "                                      'learning_rate': 0.4388567033759937,\n",
      "                                      'max_depth': 1,\n",
      "                                      'n_estimators': 298},\n",
      "                                  {   'booster': 'gbtree',\n",
      "                                      'gamma': 4.875092875450381,\n",
      "                                      'learning_rate': 0.20830135535603211,\n",
      "                                      'max_depth': 1,\n",
      "                                      'n_estimators': 132},\n",
      "                                  {   'booster': 'dart',\n",
      "                                      'gamma': 4.927785070948699,\n",
      "                                      'learning_rate': 0.43617546700142695,\n",
      "                                      'max_depth': 9,\n",
      "                                      'n_estimators': 55},\n",
      "                                  {   'booster': 'gblinear',\n",
      "                                      'gamma': 0.047137383752962614,\n",
      "                                      'learning_rate': 0.24627557989898696,\n",
      "                                      'max_depth': 1,\n",
      "                                      'n_estimators': 67},\n",
      "                                  {   'booster': 'dart',\n",
      "                                      'gamma': 8.054381674393873e-05,\n",
      "                                      'learning_rate': 0.7171956861349357,\n",
      "                                      'max_depth': 9,\n",
      "                                      'n_estimators': 267},\n",
      "                                  {   'booster': 'gbtree',\n",
      "                                      'gamma': 0.5366377413075157,\n",
      "                                      'learning_rate': 0.6568725588900894,\n",
      "                                      'max_depth': 9,\n",
      "                                      'n_estimators': 299},\n",
      "                                  {   'booster': 'gbtree',\n",
      "                                      'gamma': 0.04851906082467994,\n",
      "                                      'learning_rate': 0.983000866600672,\n",
      "                                      'max_depth': 9,\n",
      "                                      'n_estimators': 81},\n",
      "                                  {   'booster': 'gblinear',\n",
      "                                      'gamma': 0.0728189280564262,\n",
      "                                      'learning_rate': 0.26177097557379037,\n",
      "                                      'max_depth': 9,\n",
      "                                      'n_estimators': 35},\n",
      "                                  {   'booster': 'dart',\n",
      "                                      'gamma': 0.041612302758283204,\n",
      "                                      'learning_rate': 0.4746569309027041,\n",
      "                                      'max_depth': 9,\n",
      "                                      'n_estimators': 146},\n",
      "                                  {   'booster': 'gblinear',\n",
      "                                      'gamma': 0.313326221138962,\n",
      "                                      'learning_rate': 0.8508870958635629,\n",
      "                                      'max_depth': 8,\n",
      "                                      'n_estimators': 298},\n",
      "                                  {   'booster': 'gbtree',\n",
      "                                      'gamma': 0.14572876074122,\n",
      "                                      'learning_rate': 0.78558904394087,\n",
      "                                      'max_depth': 1,\n",
      "                                      'n_estimators': 238},\n",
      "                                  {   'booster': 'gbtree',\n",
      "                                      'gamma': 4.791819316198626,\n",
      "                                      'learning_rate': 0.1280730476433679,\n",
      "                                      'max_depth': 9,\n",
      "                                      'n_estimators': 225},\n",
      "                                  {   'booster': 'gbtree',\n",
      "                                      'gamma': 0.8002651790476972,\n",
      "                                      'learning_rate': 0.14386047186575446,\n",
      "                                      'max_depth': 9,\n",
      "                                      'n_estimators': 1},\n",
      "                                  {   'booster': 'dart',\n",
      "                                      'gamma': 0.37721015821625625,\n",
      "                                      'learning_rate': 0.9877130896725608,\n",
      "                                      'max_depth': 1,\n",
      "                                      'n_estimators': 111},\n",
      "                                  {   'booster': 'gbtree',\n",
      "                                      'gamma': 4.485294073936161,\n",
      "                                      'learning_rate': 0.9399401443131147,\n",
      "                                      'max_depth': 1,\n",
      "                                      'n_estimators': 279},\n",
      "                                  {   'booster': 'dart',\n",
      "                                      'gamma': 0.35670802225169884,\n",
      "                                      'learning_rate': 0.1034050119064408,\n",
      "                                      'max_depth': 1,\n",
      "                                      'n_estimators': 170},\n",
      "                                  {   'booster': 'gbtree',\n",
      "                                      'gamma': 0.054150007693738456,\n",
      "                                      'learning_rate': 0.05173937030147713,\n",
      "                                      'max_depth': 1,\n",
      "                                      'n_estimators': 33},\n",
      "                                  {   'booster': 'dart',\n",
      "                                      'gamma': 0.08556846453383282,\n",
      "                                      'learning_rate': 0.20171117871492417,\n",
      "                                      'max_depth': 9,\n",
      "                                      'n_estimators': 61},\n",
      "                                  {   'booster': 'gblinear',\n",
      "                                      'gamma': 4.998251075320387,\n",
      "                                      'learning_rate': 0.12109766467833016,\n",
      "                                      'max_depth': 9,\n",
      "                                      'n_estimators': 17},\n",
      "                                  {   'booster': 'dart',\n",
      "                                      'gamma': 4.558721146744967,\n",
      "                                      'learning_rate': 0.03676589457919399,\n",
      "                                      'max_depth': 9,\n",
      "                                      'n_estimators': 101},\n",
      "                                  {   'booster': 'gbtree',\n",
      "                                      'gamma': 0.4406679650134515,\n",
      "                                      'learning_rate': 0.6696596570811979,\n",
      "                                      'max_depth': 9,\n",
      "                                      'n_estimators': 171},\n",
      "                                  {   'booster': 'gbtree',\n",
      "                                      'gamma': 0.02341738748351252,\n",
      "                                      'learning_rate': 0.07425561813030057,\n",
      "                                      'max_depth': 1,\n",
      "                                      'n_estimators': 141},\n",
      "                                  {   'booster': 'gbtree',\n",
      "                                      'gamma': 4.316793555046739,\n",
      "                                      'learning_rate': 0.9243192206876447,\n",
      "                                      'max_depth': 1,\n",
      "                                      'n_estimators': 199},\n",
      "                                  {   'booster': 'dart',\n",
      "                                      'gamma': 4.96677934651589,\n",
      "                                      'learning_rate': 0.026309795775653844,\n",
      "                                      'max_depth': 1,\n",
      "                                      'n_estimators': 258},\n",
      "                                  {   'booster': 'gbtree',\n",
      "                                      'gamma': 0.05978183592037278,\n",
      "                                      'learning_rate': 0.39833147067889396,\n",
      "                                      'max_depth': 1,\n",
      "                                      'n_estimators': 216},\n",
      "                                  {   'booster': 'gbtree',\n",
      "                                      'gamma': 0.3523641771535413,\n",
      "                                      'learning_rate': 0.8448241396298071,\n",
      "                                      'max_depth': 9,\n",
      "                                      'n_estimators': 123},\n",
      "                                  {   'booster': 'gblinear',\n",
      "                                      'gamma': 1.181208466900718,\n",
      "                                      'learning_rate': 0.9791629022161373,\n",
      "                                      'max_depth': 1,\n",
      "                                      'n_estimators': 155},\n",
      "                                  {   'booster': 'gbtree',\n",
      "                                      'gamma': 0.2873586509505227,\n",
      "                                      'learning_rate': 0.06321964215809295,\n",
      "                                      'max_depth': 9,\n",
      "                                      'n_estimators': 284},\n",
      "                                  {   'booster': 'gblinear',\n",
      "                                      'gamma': 4.924284035290486,\n",
      "                                      'learning_rate': 0.8649106716436588,\n",
      "                                      'max_depth': 9,\n",
      "                                      'n_estimators': 1},\n",
      "                                  {   'booster': 'gblinear',\n",
      "                                      'gamma': 4.891228386260652,\n",
      "                                      'learning_rate': 0.546123007646148,\n",
      "                                      'max_depth': 1,\n",
      "                                      'n_estimators': 87},\n",
      "                                  {   'booster': 'gblinear',\n",
      "                                      'gamma': 4.636319311328087,\n",
      "                                      'learning_rate': 0.22358619749640696,\n",
      "                                      'max_depth': 9,\n",
      "                                      'n_estimators': 246},\n",
      "                                  {   'booster': 'dart',\n",
      "                                      'gamma': 4.815064326591664,\n",
      "                                      'learning_rate': 0.0936282511218981,\n",
      "                                      'max_depth': 9,\n",
      "                                      'n_estimators': 179},\n",
      "                                  {   'booster': 'gblinear',\n",
      "                                      'gamma': 0.02890017286846458,\n",
      "                                      'learning_rate': 0.7731519020367865,\n",
      "                                      'max_depth': 2,\n",
      "                                      'n_estimators': 13},\n",
      "                                  {   'booster': 'dart',\n",
      "                                      'gamma': 4.767236337954693,\n",
      "                                      'learning_rate': 0.9163779194545852,\n",
      "                                      'max_depth': 9,\n",
      "                                      'n_estimators': 204},\n",
      "                                  {   'booster': 'dart',\n",
      "                                      'gamma': 4.821853007750596,\n",
      "                                      'learning_rate': 0.4049162098731858,\n",
      "                                      'max_depth': 9,\n",
      "                                      'n_estimators': 71},\n",
      "                                  {   'booster': 'dart',\n",
      "                                      'gamma': 4.962967750728545,\n",
      "                                      'learning_rate': 0.9508169068058488,\n",
      "                                      'max_depth': 1,\n",
      "                                      'n_estimators': 225},\n",
      "                                  {   'booster': 'gbtree',\n",
      "                                      'gamma': 4.9596894530840085,\n",
      "                                      'learning_rate': 0.4092028225426513,\n",
      "                                      'max_depth': 9,\n",
      "                                      'n_estimators': 159}],\n",
      "    'objective_values': [   0.8886973180076628,\n",
      "                            0.9164750957854406,\n",
      "                            0.8436781609195402,\n",
      "                            0.899808429118774,\n",
      "                            0.9164750957854406,\n",
      "                            0.8716475095785441,\n",
      "                            0.8938697318007662,\n",
      "                            0.9053639846743295,\n",
      "                            0.8942528735632184,\n",
      "                            0.9331417624521072,\n",
      "                            0.9164750957854406,\n",
      "                            0.9109195402298851,\n",
      "                            0.9164750957854406,\n",
      "                            0.9053639846743295,\n",
      "                            0.9109195402298851,\n",
      "                            0.8718390804597701,\n",
      "                            0.8825670498084291,\n",
      "                            0.9109195402298851,\n",
      "                            0.899808429118774,\n",
      "                            0.899808429118774,\n",
      "                            0.8716475095785441,\n",
      "                            0.899808429118774,\n",
      "                            0.9164750957854406,\n",
      "                            0.8660919540229886,\n",
      "                            0.9164750957854406,\n",
      "                            0.899808429118774,\n",
      "                            0.8775862068965518,\n",
      "                            0.8660919540229886,\n",
      "                            0.9220306513409962,\n",
      "                            0.9053639846743295,\n",
      "                            0.899808429118774,\n",
      "                            0.9164750957854406,\n",
      "                            0.5007662835249042,\n",
      "                            0.8942528735632185,\n",
      "                            0.899808429118774,\n",
      "                            0.8660919540229886,\n",
      "                            0.9,\n",
      "                            0.8829501915708812,\n",
      "                            0.8660919540229886,\n",
      "                            0.8773946360153256,\n",
      "                            0.8660919540229886],\n",
      "    'random_hyper_parameters': [   {   'booster': 'gblinear',\n",
      "                                       'gamma': 0.4697596833421719,\n",
      "                                       'learning_rate': 0.5018605916808697,\n",
      "                                       'max_depth': 7,\n",
      "                                       'n_estimators': 195}],\n",
      "    'random_hyper_parameters_objective': [0.8886973180076628]}\n"
     ]
    }
   ],
   "source": [
    "import pprint\n",
    "pp = pprint.PrettyPrinter(indent=4)\n",
    "pp.pprint(results)"
   ]
  },
  {
   "cell_type": "code",
   "execution_count": null,
   "metadata": {},
   "outputs": [],
   "source": []
  }
 ],
 "metadata": {
  "kernelspec": {
   "display_name": "Python 3",
   "language": "python",
   "name": "python3"
  },
  "language_info": {
   "codemirror_mode": {
    "name": "ipython",
    "version": 3
   },
   "file_extension": ".py",
   "mimetype": "text/x-python",
   "name": "python",
   "nbconvert_exporter": "python",
   "pygments_lexer": "ipython3",
   "version": "3.7.3"
  }
 },
 "nbformat": 4,
 "nbformat_minor": 2
}
