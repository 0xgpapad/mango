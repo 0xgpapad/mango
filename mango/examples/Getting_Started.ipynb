{
 "cells": [
  {
   "cell_type": "markdown",
   "metadata": {},
   "source": [
    "# A very simple Mango example, to find the optimal parameters and value for the identity function"
   ]
  },
  {
   "cell_type": "markdown",
   "metadata": {},
   "source": [
    "# 1. Import the Tuner from the Mango"
   ]
  },
  {
   "cell_type": "code",
   "execution_count": 1,
   "metadata": {},
   "outputs": [],
   "source": [
    "from mango.tuner import Tuner"
   ]
  },
  {
   "cell_type": "markdown",
   "metadata": {},
   "source": [
    "# 2. Define the Search Space of the variable which is input to the function\n",
    "## - f(a) = a , where a lies between (1 and 1000)"
   ]
  },
  {
   "cell_type": "code",
   "execution_count": 2,
   "metadata": {},
   "outputs": [],
   "source": [
    "param_dict = {\"a\": range(1,1000)} # Search space of variables"
   ]
  },
  {
   "cell_type": "markdown",
   "metadata": {},
   "source": [
    "# 3. Define the objective function which will be optimized by Mango.\n",
    "## - Mango will evaluate this function at the selected points"
   ]
  },
  {
   "cell_type": "code",
   "execution_count": 3,
   "metadata": {},
   "outputs": [],
   "source": [
    "def objectiveFunction(args_list): # Identity Objective Function\n",
    "    a = args_list[0]['a'] # by default the size of args_list is 1. This can be modifies for parallel evaluation.\n",
    "    return [a]"
   ]
  },
  {
   "cell_type": "markdown",
   "metadata": {},
   "source": [
    "# 4. Initialize the tuner object with the param_dict and the objectiveFunction\n",
    "## - param_dict and  objectiveFunction are required inputs. Optimal other configuation parameters can be set by users"
   ]
  },
  {
   "cell_type": "code",
   "execution_count": 4,
   "metadata": {},
   "outputs": [],
   "source": [
    "tuner_identity = Tuner(param_dict, objectiveFunction) # Initialize Tuner"
   ]
  },
  {
   "cell_type": "markdown",
   "metadata": {},
   "source": [
    "# 5. Run the tuner\n",
    "## - Tuner will run by default for preset number of iterations. This can be changed easily."
   ]
  },
  {
   "cell_type": "code",
   "execution_count": 5,
   "metadata": {},
   "outputs": [],
   "source": [
    "results = tuner_identity.run() # Run Tuner"
   ]
  },
  {
   "cell_type": "markdown",
   "metadata": {},
   "source": [
    "# See and inspect the results"
   ]
  },
  {
   "cell_type": "code",
   "execution_count": 6,
   "metadata": {},
   "outputs": [
    {
     "name": "stdout",
     "output_type": "stream",
     "text": [
      "Optimal value of a: {'a': 999}  and objective: 999\n"
     ]
    }
   ],
   "source": [
    "print('Optimal value of a:',results['best_hyper_parameter'],' and objective:',results['best_objective'])"
   ]
  },
  {
   "cell_type": "code",
   "execution_count": 7,
   "metadata": {},
   "outputs": [
    {
     "name": "stdout",
     "output_type": "stream",
     "text": [
      "{   'best_hyper_parameter': {'a': 999},\n",
      "    'best_objective': 999,\n",
      "    'hyper_parameters_tried': [   {'a': 439},\n",
      "                                  {'a': 1},\n",
      "                                  {'a': 432},\n",
      "                                  {'a': 639},\n",
      "                                  {'a': 999},\n",
      "                                  {'a': 995},\n",
      "                                  {'a': 218},\n",
      "                                  {'a': 999},\n",
      "                                  {'a': 999},\n",
      "                                  {'a': 999},\n",
      "                                  {'a': 999},\n",
      "                                  {'a': 999},\n",
      "                                  {'a': 999},\n",
      "                                  {'a': 999},\n",
      "                                  {'a': 999},\n",
      "                                  {'a': 999},\n",
      "                                  {'a': 999},\n",
      "                                  {'a': 999},\n",
      "                                  {'a': 999},\n",
      "                                  {'a': 999},\n",
      "                                  {'a': 999}],\n",
      "    'objective_values': [   439,\n",
      "                            1,\n",
      "                            432,\n",
      "                            639,\n",
      "                            999,\n",
      "                            995,\n",
      "                            218,\n",
      "                            999,\n",
      "                            999,\n",
      "                            999,\n",
      "                            999,\n",
      "                            999,\n",
      "                            999,\n",
      "                            999,\n",
      "                            999,\n",
      "                            999,\n",
      "                            999,\n",
      "                            999,\n",
      "                            999,\n",
      "                            999,\n",
      "                            999],\n",
      "    'random_hyper_parameters': [{'a': 439}],\n",
      "    'random_hyper_parameters_objective': [439]}\n"
     ]
    }
   ],
   "source": [
    "import pprint\n",
    "pp = pprint.PrettyPrinter(indent=4)\n",
    "pp.pprint(results)"
   ]
  },
  {
   "cell_type": "code",
   "execution_count": null,
   "metadata": {},
   "outputs": [],
   "source": []
  }
 ],
 "metadata": {
  "kernelspec": {
   "display_name": "Python [conda env:mango] *",
   "language": "python",
   "name": "conda-env-mango-py"
  },
  "language_info": {
   "codemirror_mode": {
    "name": "ipython",
    "version": 3
   },
   "file_extension": ".py",
   "mimetype": "text/x-python",
   "name": "python",
   "nbconvert_exporter": "python",
   "pygments_lexer": "ipython3",
   "version": "3.7.3"
  }
 },
 "nbformat": 4,
 "nbformat_minor": 2
}
