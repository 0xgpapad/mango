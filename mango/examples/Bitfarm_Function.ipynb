{
 "cells": [
  {
   "cell_type": "markdown",
   "metadata": {},
   "source": [
    "# Optimize Bitfarm with different kernel parameters"
   ]
  },
  {
   "cell_type": "code",
   "execution_count": 3,
   "metadata": {},
   "outputs": [],
   "source": [
    "import sys\n",
    "p = \"/Users/mohagg01/workspace/mango/\"\n",
    "sys.path = [p] + sys.path"
   ]
  },
  {
   "cell_type": "code",
   "execution_count": 5,
   "metadata": {},
   "outputs": [],
   "source": [
    "from mango.tuner import Tuner\n",
    "from scipy.stats import uniform\n",
    "from sklearn.gaussian_process import GaussianProcessRegressor\n",
    "from sklearn.gaussian_process.kernels import Matern\n",
    "%matplotlib inline"
   ]
  },
  {
   "cell_type": "code",
   "execution_count": 63,
   "metadata": {},
   "outputs": [],
   "source": [
    "# vriables:\n",
    "n_bits = 30\n",
    "n_iterations = 300\n",
    "surrogate = GaussianProcessRegressor(kernel=Matern(nu=2.5, length_scale_bounds=[0.01, 0.1]),\n",
    "                                     n_restarts_optimizer=5,\n",
    "                                     random_state =1,\n",
    "                                     normalize_y=True)"
   ]
  },
  {
   "cell_type": "code",
   "execution_count": 64,
   "metadata": {},
   "outputs": [],
   "source": [
    "n_bits = n_bits\n",
    "param_dict = {}\n",
    "for i in range(n_bits):\n",
    "    param_dict['x%s'%i] = [0, 1]\n",
    "    \n",
    "def objfunc(args_list):\n",
    "    hyper_evaluated = []\n",
    "    objective_evaluated = []\n",
    "    for hyper_par in args_list:\n",
    "        objective = sum([int(i) for i in hyper_par.values()])\n",
    "        objective_evaluated.append(objective)\n",
    "        hyper_evaluated.append(hyper_par)\n",
    "    return hyper_evaluated, objective_evaluated"
   ]
  },
  {
   "cell_type": "code",
   "execution_count": 65,
   "metadata": {},
   "outputs": [],
   "source": [
    "conf_Dict = dict()\n",
    "conf_Dict['batch_size'] = 1\n",
    "conf_Dict['num_iteration'] = n_iterations\n",
    "conf_Dict['domain_size'] = 5000\n",
    "conf_Dict['initial_random']= 5\n",
    "conf_Dict['surrogate'] = surrogate"
   ]
  },
  {
   "cell_type": "code",
   "execution_count": 66,
   "metadata": {},
   "outputs": [
    {
     "name": "stdout",
     "output_type": "stream",
     "text": [
      "Tuner Configuration\n",
      "{'param_dict': {'x0': [0, 1], 'x1': [0, 1], 'x2': [0, 1], 'x3': [0, 1], 'x4': [0, 1], 'x5': [0, 1], 'x6': [0, 1], 'x7': [0, 1], 'x8': [0, 1], 'x9': [0, 1], 'x10': [0, 1], 'x11': [0, 1], 'x12': [0, 1], 'x13': [0, 1], 'x14': [0, 1], 'x15': [0, 1], 'x16': [0, 1], 'x17': [0, 1], 'x18': [0, 1], 'x19': [0, 1], 'x20': [0, 1], 'x21': [0, 1], 'x22': [0, 1], 'x23': [0, 1], 'x24': [0, 1], 'x25': [0, 1], 'x26': [0, 1], 'x27': [0, 1], 'x28': [0, 1], 'x29': [0, 1]}, 'userObjective': <function objfunc at 0x11aa33f28>, 'domain_size': 5000, 'initial_random': 5, 'num_iteration': 300, 'objective': 'maximize', 'batch_size': 1, 'optimizer': 'Bayesian', 'surrogate': GaussianProcessRegressor(alpha=1e-10, copy_X_train=True,\n",
      "                         kernel=Matern(length_scale=1, nu=2.5),\n",
      "                         n_restarts_optimizer=5, normalize_y=True,\n",
      "                         optimizer='fmin_l_bfgs_b', random_state=1)}\n"
     ]
    }
   ],
   "source": [
    "tuner = Tuner(param_dict, objfunc,conf_Dict)\n",
    "print('Tuner Configuration')\n",
    "print(tuner.getConf())"
   ]
  },
  {
   "cell_type": "code",
   "execution_count": 67,
   "metadata": {
    "scrolled": false
   },
   "outputs": [],
   "source": [
    "results = tuner.maximize()"
   ]
  },
  {
   "cell_type": "code",
   "execution_count": 68,
   "metadata": {},
   "outputs": [
    {
     "name": "stdout",
     "output_type": "stream",
     "text": [
      "best parameters: {'x0': 0, 'x1': 1, 'x10': 1, 'x11': 1, 'x12': 0, 'x13': 1, 'x14': 1, 'x15': 1, 'x16': 1, 'x17': 0, 'x18': 0, 'x19': 1, 'x2': 1, 'x20': 1, 'x21': 1, 'x22': 1, 'x23': 1, 'x24': 0, 'x25': 1, 'x26': 1, 'x27': 1, 'x28': 1, 'x29': 1, 'x3': 1, 'x4': 1, 'x5': 1, 'x6': 1, 'x7': 0, 'x8': 1, 'x9': 1}\n",
      "best objective: 24\n"
     ]
    }
   ],
   "source": [
    "print('best parameters:',results['best_params'])\n",
    "print('best objective:',results['best_objective'])"
   ]
  },
  {
   "cell_type": "code",
   "execution_count": 69,
   "metadata": {},
   "outputs": [],
   "source": [
    "k = tuner.Optimizer.surrogate.kernel_"
   ]
  },
  {
   "cell_type": "code",
   "execution_count": 70,
   "metadata": {},
   "outputs": [
    {
     "data": {
      "text/plain": [
       "{'length_scale': 0.10000000000000002,\n",
       " 'length_scale_bounds': [0.01, 0.1],\n",
       " 'nu': 2.5}"
      ]
     },
     "execution_count": 70,
     "metadata": {},
     "output_type": "execute_result"
    }
   ],
   "source": [
    "k.get_params()"
   ]
  },
  {
   "cell_type": "code",
   "execution_count": 71,
   "metadata": {},
   "outputs": [
    {
     "data": {
      "text/plain": [
       "array([[3.69569622e-08]])"
      ]
     },
     "execution_count": 71,
     "metadata": {},
     "output_type": "execute_result"
    }
   ],
   "source": [
    "k([[1, 1]],[[1, 0]])"
   ]
  },
  {
   "cell_type": "markdown",
   "metadata": {},
   "source": [
    "# Plotting the variation in the max objective"
   ]
  },
  {
   "cell_type": "code",
   "execution_count": 72,
   "metadata": {
    "scrolled": true
   },
   "outputs": [
    {
     "data": {
      "image/png": "[encoded data removed]",
      "text/plain": [
       "<Figure size 2160x360 with 1 Axes>"
      ]
     },
     "metadata": {
      "needs_background": "light"
     },
     "output_type": "display_data"
    }
   ],
   "source": [
    "Size = 301 \n",
    "\n",
    "import numpy as np\n",
    "\n",
    "results_obj = np.array(results['objective_values'])\n",
    "\n",
    "y_max=[]\n",
    "for i in range(results_obj.shape[0]):\n",
    "    y_max.append(np.max(results_obj[:i+1]))\n",
    "\n",
    "from matplotlib import pyplot as plt\n",
    "fig = plt.figure(figsize=(30,5))\n",
    "plt.title('Max variation of Objective',fontsize=20)\n",
    "plt.plot(y_max[:Size],lw=4,label='BL')\n",
    "plt.xlabel('Iterations', fontsize=25)\n",
    "plt.ylabel('objective_values',fontsize=25)\n",
    "plt.xticks(fontsize=20)\n",
    "plt.yticks(fontsize=20)\n",
    "plt.legend(prop={'size': 30})\n",
    "plt.show()"
   ]
  },
  {
   "cell_type": "markdown",
   "metadata": {},
   "source": [
    "# See the entire results"
   ]
  },
  {
   "cell_type": "code",
   "execution_count": null,
   "metadata": {
    "scrolled": true
   },
   "outputs": [],
   "source": [
    "import pprint\n",
    "pp = pprint.PrettyPrinter(indent=4)\n",
    "pp.pprint(results)"
   ]
  }
 ],
 "metadata": {
  "kernelspec": {
   "display_name": "Python 3",
   "language": "python",
   "name": "python3"
  },
  "language_info": {
   "codemirror_mode": {
    "name": "ipython",
    "version": 3
   },
   "file_extension": ".py",
   "mimetype": "text/x-python",
   "name": "python",
   "nbconvert_exporter": "python",
   "pygments_lexer": "ipython3",
   "version": "3.6.5"
  }
 },
 "nbformat": 4,
 "nbformat_minor": 2
}
