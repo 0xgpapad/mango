{
 "cells": [
  {
   "cell_type": "markdown",
   "metadata": {},
   "source": [
    "# Tuner function"
   ]
  },
  {
   "cell_type": "code",
   "execution_count": 4,
   "metadata": {},
   "outputs": [],
   "source": [
    "import sys\n",
    "sys.path.append('/Users/sansan01/Learning/Bayesian_Learning/Exp-15/Optimizer/algorithms')\n",
    "sys.path.append('/Users/sansan01/Learning/Bayesian_Learning/Exp-15/Optimizer/domain')\n",
    "sys.path.append('/Users/sansan01/Learning/Bayesian_Learning/Exp-15/Optimizer/tuner')\n",
    "from tasks import *"
   ]
  },
  {
   "cell_type": "markdown",
   "metadata": {},
   "source": [
    "# Classifier Specific Metadata"
   ]
  },
  {
   "cell_type": "code",
   "execution_count": 5,
   "metadata": {},
   "outputs": [],
   "source": [
    "from scipy.stats import uniform\n",
    "from distribution import loguniform\n",
    "\n",
    "\n",
    "\n",
    "clf_name = 'SVC'\n",
    "dataset_name = 'load_iris'\n",
    "\n",
    "param_dict = {\"kernel\": ['rbf'],\n",
    "              \"gamma\": uniform(0.1, 4),\n",
    "              \"C\": loguniform(-7, 8)}"
   ]
  },
  {
   "cell_type": "markdown",
   "metadata": {},
   "source": [
    "# Testing celery workers are running"
   ]
  },
  {
   "cell_type": "code",
   "execution_count": 6,
   "metadata": {},
   "outputs": [
    {
     "name": "stdout",
     "output_type": "stream",
     "text": [
      "0.9734477124183006\n"
     ]
    }
   ],
   "source": [
    "result = run_clf.delay(clf_name,dataset_name)\n",
    "#print(result.ready())\n",
    "print(result.get(timeout=10))"
   ]
  },
  {
   "cell_type": "markdown",
   "metadata": {},
   "source": [
    "# Scheduling Jobs on Celery Workers"
   ]
  },
  {
   "cell_type": "code",
   "execution_count": 7,
   "metadata": {},
   "outputs": [],
   "source": [
    "#given a list of hyper par batch values, return accuracy\n",
    "def get_accuracy_batch(X_batch_list):\n",
    "    process_queue =[]\n",
    "    for hyper_par in X_batch_list:\n",
    "        process = run_clf.delay(clf_name, dataset_name, hyper_par)\n",
    "        process_queue.append(process)\n",
    "    \n",
    "    \n",
    "    results = []\n",
    "    for process in process_queue:\n",
    "        #print(process.ready())\n",
    "        #while(True):\n",
    "            \n",
    "        #if process.ready():\n",
    "        result = process.get(timeout=10)\n",
    "        results.append(result)\n",
    "            #break\n",
    "    #print(results) \n",
    "    return np.array(results).reshape(len(results),1)"
   ]
  },
  {
   "cell_type": "markdown",
   "metadata": {},
   "source": [
    "# Domain Space Abstraction"
   ]
  },
  {
   "cell_type": "code",
   "execution_count": 8,
   "metadata": {},
   "outputs": [],
   "source": [
    "from domain_space import domain_space\n",
    "\n",
    "Domain_Size=10000\n",
    "\n",
    "ds = domain_space(param_dict,Domain_Size)"
   ]
  },
  {
   "cell_type": "markdown",
   "metadata": {},
   "source": [
    "# Running iterations based on Random Sampling of the hyper parameters"
   ]
  },
  {
   "cell_type": "code",
   "execution_count": 9,
   "metadata": {},
   "outputs": [],
   "source": [
    "random_iterations = 1000\n",
    "random_hyper_parameters = ds.get_random_sample(random_iterations)\n",
    "X_random = ds.convert_GP_space(random_hyper_parameters)\n",
    "Y_random = get_accuracy_batch(random_hyper_parameters)"
   ]
  },
  {
   "cell_type": "code",
   "execution_count": 10,
   "metadata": {},
   "outputs": [
    {
     "name": "stdout",
     "output_type": "stream",
     "text": [
      "Maximum accuracy from random sampling 0.9869281045751634\n"
     ]
    }
   ],
   "source": [
    "print('Maximum accuracy from random sampling',np.max(Y_random))"
   ]
  },
  {
   "cell_type": "code",
   "execution_count": 11,
   "metadata": {},
   "outputs": [],
   "source": [
    "y_max_random=[]\n",
    "for i in range(Y_random.shape[0]):\n",
    "    y_max_random.append(np.max(Y_random[:i+1]))"
   ]
  },
  {
   "cell_type": "markdown",
   "metadata": {},
   "source": [
    "# Initial Value"
   ]
  },
  {
   "cell_type": "code",
   "execution_count": 12,
   "metadata": {},
   "outputs": [
    {
     "name": "stdout",
     "output_type": "stream",
     "text": [
      "[[0.94035948]]\n"
     ]
    }
   ],
   "source": [
    "random_hyper_parameters = ds.get_random_sample(1)\n",
    "X_init = ds.convert_GP_space(random_hyper_parameters)\n",
    "Y_init = get_accuracy_batch(random_hyper_parameters)\n",
    "print(Y_init)"
   ]
  },
  {
   "cell_type": "markdown",
   "metadata": {},
   "source": [
    "# Serial Bayesian Learning"
   ]
  },
  {
   "cell_type": "code",
   "execution_count": 13,
   "metadata": {
    "scrolled": false
   },
   "outputs": [
    {
     "name": "stdout",
     "output_type": "stream",
     "text": [
      "Auctual best value of function: 0.9869281045751634\n",
      "Iterations: 50\n",
      "Iteration: 0 BL Acc: 0.9403594771241831  Max Acc: 0.9403594771241831\n",
      "Iteration: 1 BL Acc: 0.9732974034802703  Max Acc: 0.9738562091503268\n",
      "Iteration: 2 BL Acc: 0.9743150461324239  Max Acc: 0.9738562091503268\n",
      "Iteration: 3 BL Acc: 0.9818140451445962  Max Acc: 0.9799836601307189\n",
      "Iteration: 4 BL Acc: 0.980515793794335  Max Acc: 0.9799836601307189\n",
      "Iteration: 5 BL Acc: 0.9865850373987222  Max Acc: 0.9803921568627452\n",
      "Iteration: 6 BL Acc: 0.9857984243107983  Max Acc: 0.9803921568627452\n",
      "Iteration: 7 BL Acc: 0.9836537378005326  Max Acc: 0.9803921568627452\n",
      "Iteration: 8 BL Acc: 0.9827048384872563  Max Acc: 0.9803921568627452\n",
      "Iteration: 9 BL Acc: 0.9888807322645146  Max Acc: 0.9869281045751634\n",
      "Iteration: 10 BL Acc: 0.9888501766840551  Max Acc: 0.9869281045751634\n",
      "Iteration: 11 BL Acc: 0.9891208669397863  Max Acc: 0.9869281045751634\n",
      "Iteration: 12 BL Acc: 0.9895164141668343  Max Acc: 0.9869281045751634\n",
      "Iteration: 13 BL Acc: 0.9898993465054602  Max Acc: 0.9869281045751634\n",
      "Iteration: 14 BL Acc: 0.9888796473937395  Max Acc: 0.9869281045751634\n",
      "Iteration: 15 BL Acc: 0.9888280575324114  Max Acc: 0.9869281045751634\n",
      "Iteration: 16 BL Acc: 0.9878075417365584  Max Acc: 0.9869281045751634\n",
      "Iteration: 17 BL Acc: 0.9906836954351665  Max Acc: 0.9869281045751634\n",
      "Iteration: 18 BL Acc: 0.9907882726997965  Max Acc: 0.9869281045751634\n",
      "Iteration: 19 BL Acc: 0.9888131729954945  Max Acc: 0.9869281045751634\n",
      "Iteration: 20 BL Acc: 0.9890912035417543  Max Acc: 0.9869281045751634\n",
      "Iteration: 21 BL Acc: 0.9892589068084617  Max Acc: 0.9869281045751634\n",
      "Iteration: 22 BL Acc: 0.9887898667875819  Max Acc: 0.9869281045751634\n",
      "Iteration: 23 BL Acc: 0.988848814605698  Max Acc: 0.9869281045751634\n",
      "Iteration: 24 BL Acc: 0.9887093058552793  Max Acc: 0.9869281045751634\n",
      "Iteration: 25 BL Acc: 0.9889651218681621  Max Acc: 0.9869281045751634\n",
      "Iteration: 26 BL Acc: 0.9881293367742257  Max Acc: 0.9869281045751634\n",
      "Iteration: 27 BL Acc: 0.9888723843787753  Max Acc: 0.9869281045751634\n",
      "Iteration: 28 BL Acc: 0.9886683076723831  Max Acc: 0.9869281045751634\n",
      "Iteration: 29 BL Acc: 0.9887115738340572  Max Acc: 0.9869281045751634\n",
      "Iteration: 30 BL Acc: 0.9879544822146568  Max Acc: 0.9869281045751634\n",
      "Iteration: 31 BL Acc: 0.9881688877683881  Max Acc: 0.9869281045751634\n",
      "Iteration: 32 BL Acc: 0.9882416802641786  Max Acc: 0.9869281045751634\n",
      "Iteration: 33 BL Acc: 0.9876978058387778  Max Acc: 0.9869281045751634\n",
      "Iteration: 34 BL Acc: 0.9877228786445013  Max Acc: 0.9869281045751634\n",
      "Iteration: 35 BL Acc: 0.9872540675815932  Max Acc: 0.9869281045751634\n",
      "Iteration: 36 BL Acc: 0.9873876178622117  Max Acc: 0.9869281045751634\n",
      "Iteration: 37 BL Acc: 0.9873297518747901  Max Acc: 0.9869281045751634\n",
      "Iteration: 38 BL Acc: 0.9872157107758093  Max Acc: 0.9869281045751634\n",
      "Iteration: 39 BL Acc: 0.9872715859822578  Max Acc: 0.9869281045751634\n",
      "Iteration: 40 BL Acc: 0.9875019926820952  Max Acc: 0.9869281045751634\n",
      "Iteration: 41 BL Acc: 0.9876125860395149  Max Acc: 0.9869281045751634\n",
      "Iteration: 42 BL Acc: 0.9901503042305999  Max Acc: 0.9869281045751634\n",
      "Iteration: 43 BL Acc: 0.9886907983613724  Max Acc: 0.9869281045751634\n",
      "Iteration: 44 BL Acc: 0.9891849257144105  Max Acc: 0.9869281045751634\n",
      "Iteration: 45 BL Acc: 0.9899367609903327  Max Acc: 0.9869281045751634\n",
      "Iteration: 46 BL Acc: 0.9897630465229567  Max Acc: 0.9869281045751634\n",
      "Iteration: 47 BL Acc: 0.9900509792462314  Max Acc: 0.9869281045751634\n",
      "Iteration: 48 BL Acc: 0.9901980661876999  Max Acc: 0.9869281045751634\n",
      "Iteration: 49 BL Acc: 0.989441818804832  Max Acc: 0.9869281045751634\n",
      "Iteration: 50 BL Acc: 0.989512773685243  Max Acc: 0.9869281045751634\n",
      "**************************************************Done**************************************************\n"
     ]
    }
   ],
   "source": [
    "import warnings\n",
    "warnings.filterwarnings('ignore')\n",
    "from bayesian_learning import BayesianLearning\n",
    "Optimizer = BayesianLearning()\n",
    "\n",
    "\n",
    "iterations = 50\n",
    "batch_size = 1\n",
    "\n",
    "\n",
    "Optimizer.domain_size=Domain_Size\n",
    "\n",
    "X_sample=X_init\n",
    "Y_sample=Y_init\n",
    "\n",
    "max_accuracy_list_sl = []\n",
    "print('Auctual best value of function:',np.max(Y_random))\n",
    "print('Iterations:',iterations)\n",
    "for i in range(iterations+1):\n",
    "    \n",
    "    #print('Iteration:',i)\n",
    "    # Domain Space\n",
    "    domain_list = ds.get_domain()\n",
    "    X_domain_np = ds.convert_GP_space(domain_list)\n",
    "    \n",
    "    # Visualization into the learning process\n",
    "    Optimizer.fit(X_sample,Y_sample)\n",
    "    pred_y,_ = Optimizer.predict(X_domain_np)\n",
    "    print('Iteration:',i, 'BL Acc:',np.max(pred_y),' Max Acc:',np.max(Y_sample))\n",
    "    #print('Number of Samples:',X_sample.shape)\n",
    "    # End Visualization into the learning process\n",
    "    \n",
    "    #Black-Box Optimizer\n",
    "    X_next_batch = Optimizer.get_next_batch(X_sample,Y_sample,X_domain_np,batch_size=batch_size)\n",
    "    \n",
    "    #Scheduler\n",
    "    X_next_PS = ds.convert_PS_space(X_next_batch)\n",
    "    Y_next_batch = get_accuracy_batch(X_next_PS) #Evaluate the main function\n",
    "    \n",
    "    \n",
    "    X_sample = np.vstack((X_sample, X_next_batch))\n",
    "    Y_sample = np.vstack((Y_sample, Y_next_batch))\n",
    "    \n",
    "    \n",
    "    max_accuracy_list_sl.append(np.max(Y_sample))\n",
    "\n",
    "print('*'*50+'Done'+'*'*50)"
   ]
  },
  {
   "cell_type": "code",
   "execution_count": 14,
   "metadata": {},
   "outputs": [],
   "source": [
    "y_max_serial=[]\n",
    "for i in range(Y_sample.shape[0]):\n",
    "    y_max_serial.append(np.max(Y_sample[:i+1]))"
   ]
  },
  {
   "cell_type": "markdown",
   "metadata": {},
   "source": [
    "# Parallel Bayesian Learning"
   ]
  },
  {
   "cell_type": "code",
   "execution_count": 15,
   "metadata": {
    "scrolled": true
   },
   "outputs": [
    {
     "name": "stdout",
     "output_type": "stream",
     "text": [
      "Auctual best value of function: 0.9869281045751634\n",
      "Iterations: 40\n",
      "Iteration: 0 BL Acc: 0.9403594771241831  Max Acc: 0.9403594771241831\n",
      "Iteration: 1 BL Acc: 1.217030881122797  Max Acc: 0.9799836601307189\n",
      "Iteration: 2 BL Acc: 1.111300669054913  Max Acc: 0.9869281045751634\n",
      "Iteration: 3 BL Acc: 1.0182223158525203  Max Acc: 0.9869281045751634\n",
      "Iteration: 4 BL Acc: 1.0189342625009958  Max Acc: 0.9869281045751634\n",
      "Iteration: 5 BL Acc: 1.018771721602956  Max Acc: 0.9869281045751634\n",
      "Iteration: 6 BL Acc: 1.0149375575499362  Max Acc: 0.9869281045751634\n",
      "Iteration: 7 BL Acc: 1.002182211628741  Max Acc: 0.9869281045751634\n",
      "Iteration: 8 BL Acc: 1.0019335102205038  Max Acc: 0.9869281045751634\n",
      "Iteration: 9 BL Acc: 1.0016933010609375  Max Acc: 0.9869281045751634\n",
      "Iteration: 10 BL Acc: 0.9931816093947937  Max Acc: 0.9869281045751634\n",
      "Iteration: 11 BL Acc: 0.9929642210631748  Max Acc: 0.9869281045751634\n",
      "Iteration: 12 BL Acc: 0.9929384528131843  Max Acc: 0.9869281045751634\n",
      "Iteration: 13 BL Acc: 0.9928687828957782  Max Acc: 0.9869281045751634\n",
      "Iteration: 14 BL Acc: 0.9933984759825225  Max Acc: 0.9869281045751634\n",
      "Iteration: 15 BL Acc: 0.993115807672468  Max Acc: 0.9869281045751634\n",
      "Iteration: 16 BL Acc: 0.9931560483692351  Max Acc: 0.9869281045751634\n",
      "Iteration: 17 BL Acc: 0.9921347014790022  Max Acc: 0.9869281045751634\n",
      "Iteration: 18 BL Acc: 0.9890181778659846  Max Acc: 0.9869281045751634\n",
      "Iteration: 19 BL Acc: 0.9888974933595672  Max Acc: 0.9869281045751634\n",
      "Iteration: 20 BL Acc: 0.9882662969941283  Max Acc: 0.9869281045751634\n",
      "Iteration: 21 BL Acc: 0.9882446696611635  Max Acc: 0.9869281045751634\n",
      "Iteration: 22 BL Acc: 0.9883269137523628  Max Acc: 0.9869281045751634\n",
      "Iteration: 23 BL Acc: 0.9886182273594809  Max Acc: 0.9869281045751634\n",
      "Iteration: 24 BL Acc: 0.9886803655771409  Max Acc: 0.9869281045751634\n",
      "Iteration: 25 BL Acc: 0.9885047836809465  Max Acc: 0.9869281045751634\n",
      "Iteration: 26 BL Acc: 0.988416502975256  Max Acc: 0.9869281045751634\n",
      "Iteration: 27 BL Acc: 0.9890281452744212  Max Acc: 0.9869281045751634\n",
      "Iteration: 28 BL Acc: 0.9885236795886527  Max Acc: 0.9869281045751634\n",
      "Iteration: 29 BL Acc: 0.9884457082224729  Max Acc: 0.9869281045751634\n",
      "Iteration: 30 BL Acc: 0.9885477825348733  Max Acc: 0.9869281045751634\n",
      "Iteration: 31 BL Acc: 0.9884729055846342  Max Acc: 0.9869281045751634\n",
      "Iteration: 32 BL Acc: 0.9884741185085907  Max Acc: 0.9869281045751634\n",
      "Iteration: 33 BL Acc: 0.9892695583676271  Max Acc: 0.9869281045751634\n",
      "Iteration: 34 BL Acc: 0.9885661998794428  Max Acc: 0.9869281045751634\n",
      "Iteration: 35 BL Acc: 0.9890557088621019  Max Acc: 0.9869281045751634\n",
      "Iteration: 36 BL Acc: 0.9886539659281092  Max Acc: 0.9869281045751634\n",
      "Iteration: 37 BL Acc: 0.9892385169410787  Max Acc: 0.9869281045751634\n",
      "Iteration: 38 BL Acc: 0.9888962931253289  Max Acc: 0.9869281045751634\n",
      "Iteration: 39 BL Acc: 0.9885732149046456  Max Acc: 0.9869281045751634\n",
      "Iteration: 40 BL Acc: 0.98855823185  Max Acc: 0.9869281045751634\n",
      "**************************************************Done**************************************************\n"
     ]
    }
   ],
   "source": [
    "import warnings\n",
    "warnings.filterwarnings('ignore')\n",
    "from bayesian_learning import BayesianLearning\n",
    "Optimizer = BayesianLearning()\n",
    "\n",
    "\n",
    "iterations = 40\n",
    "batch_size = 4\n",
    "\n",
    "\n",
    "Optimizer.domain_size=Domain_Size\n",
    "\n",
    "X_sample=X_init\n",
    "Y_sample=Y_init\n",
    "\n",
    "max_accuracy_list = []\n",
    "print('Auctual best value of function:',np.max(Y_random))\n",
    "print('Iterations:',iterations)\n",
    "\n",
    "\n",
    "for i in range(iterations+1):\n",
    "    \n",
    "    #print('Iteration:',i)\n",
    "    # Domain Space\n",
    "    domain_list = ds.get_domain()\n",
    "    X_domain_np = ds.convert_GP_space(domain_list)\n",
    "    \n",
    "    # Visualization into the learning process\n",
    "    Optimizer.fit(X_sample,Y_sample)\n",
    "    pred_y,_ = Optimizer.predict(X_domain_np)\n",
    "    print('Iteration:',i, 'BL Acc:',np.max(pred_y),' Max Acc:',np.max(Y_sample))\n",
    "    #print('Number of Samples:',X_sample.shape)\n",
    "    # End Visualization into the learning process\n",
    "    \n",
    "    #Black-Box Optimizer\n",
    "    X_next_batch = Optimizer.get_next_batch(X_sample,Y_sample,X_domain_np,batch_size=batch_size)\n",
    "    \n",
    "    #Scheduler\n",
    "    X_next_PS = ds.convert_PS_space(X_next_batch)\n",
    "    Y_next_batch = get_accuracy_batch(X_next_PS) #Evaluate the main function\n",
    "    \n",
    "    \n",
    "    X_sample = np.vstack((X_sample, X_next_batch))\n",
    "    Y_sample = np.vstack((Y_sample, Y_next_batch))\n",
    "    \n",
    "    max_accuracy_list.append(np.max(Y_sample))\n",
    "\n",
    "print('*'*50+'Done'+'*'*50)"
   ]
  },
  {
   "cell_type": "code",
   "execution_count": 16,
   "metadata": {},
   "outputs": [],
   "source": [
    "y_max_parallel=[]\n",
    "for i in range(Y_sample.shape[0]):\n",
    "    y_max_parallel.append(np.max(Y_sample[:i+1]))"
   ]
  },
  {
   "cell_type": "markdown",
   "metadata": {},
   "source": [
    "# Plotting the Iterations"
   ]
  },
  {
   "cell_type": "code",
   "execution_count": 19,
   "metadata": {},
   "outputs": [
    {
     "data": {
      "image/png": "[encoded data removed]",
      "text/plain": [
       "<Figure size 2160x360 with 1 Axes>"
      ]
     },
     "metadata": {
      "needs_background": "light"
     },
     "output_type": "display_data"
    }
   ],
   "source": [
    "# Plotting Random search Accuracy Variation\n",
    "# Selection the max accuracy upto the point after each iteration\n",
    "Size = 40\n",
    "\n",
    "y_max_random=[]\n",
    "for i in range(Y_random.shape[0]):\n",
    "    y_max_random.append(np.max(Y_random[:i+1]))\n",
    "    \n",
    "from matplotlib import pyplot as plt\n",
    "fig = plt.figure(figsize=(30,5))\n",
    "plt.title('Comparison of Techniques',fontsize=20)\n",
    "plt.plot(y_max_random[:Size],lw=4,label='Random')\n",
    "plt.plot(max_accuracy_list_sl[:Size],lw=4,label='Serial BL')\n",
    "plt.plot(max_accuracy_list[:Size],lw=4,label='Parallel BL')\n",
    "plt.xlabel('Iterations', fontsize=25)\n",
    "plt.ylabel('Accuracy',fontsize=25)\n",
    "plt.xticks(fontsize=20)\n",
    "plt.yticks(fontsize=20)\n",
    "plt.legend(prop={'size': 30})\n",
    "plt.show()"
   ]
  },
  {
   "cell_type": "markdown",
   "metadata": {},
   "source": [
    "# Plotting the configurations"
   ]
  },
  {
   "cell_type": "code",
   "execution_count": 18,
   "metadata": {},
   "outputs": [
    {
     "data": {
      "image/png": "[encoded data removed]",
      "text/plain": [
       "<Figure size 2160x360 with 1 Axes>"
      ]
     },
     "metadata": {
      "needs_background": "light"
     },
     "output_type": "display_data"
    }
   ],
   "source": [
    "# Plotting Random search Accuracy Variation\n",
    "# Selection the max accuracy upto the point after each iteration\n",
    "Size = 50\n",
    "    \n",
    "from matplotlib import pyplot as plt\n",
    "fig = plt.figure(figsize=(30,5))\n",
    "plt.title('Comparison of Techniques',fontsize=20)\n",
    "plt.plot(y_max_random[:Size],lw=4,label='Random')\n",
    "plt.plot(y_max_serial[:Size],lw=4,label='Serial BL')\n",
    "plt.plot(y_max_parallel[:Size],lw=4,label='Parallel BL')\n",
    "plt.xlabel('Configurations', fontsize=25)\n",
    "plt.ylabel('Accuracy',fontsize=25)\n",
    "plt.xticks(fontsize=20)\n",
    "plt.yticks(fontsize=20)\n",
    "plt.legend(prop={'size': 30})\n",
    "plt.show()"
   ]
  },
  {
   "cell_type": "code",
   "execution_count": null,
   "metadata": {},
   "outputs": [],
   "source": []
  }
 ],
 "metadata": {
  "kernelspec": {
   "display_name": "Python 3",
   "language": "python",
   "name": "python3"
  },
  "language_info": {
   "codemirror_mode": {
    "name": "ipython",
    "version": 3
   },
   "file_extension": ".py",
   "mimetype": "text/x-python",
   "name": "python",
   "nbconvert_exporter": "python",
   "pygments_lexer": "ipython3",
   "version": "3.7.3"
  }
 },
 "nbformat": 4,
 "nbformat_minor": 2
}
