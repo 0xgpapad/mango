{
 "cells": [
  {
   "cell_type": "markdown",
   "metadata": {},
   "source": [
    "# Original Mango testing on the classifiers"
   ]
  },
  {
   "cell_type": "code",
   "execution_count": 1,
   "metadata": {},
   "outputs": [],
   "source": [
    "import numpy as np\n",
    "import random\n"
   ]
  },
  {
   "cell_type": "code",
   "execution_count": 2,
   "metadata": {},
   "outputs": [],
   "source": [
    "from scipy.stats import uniform"
   ]
  },
  {
   "cell_type": "code",
   "execution_count": 3,
   "metadata": {},
   "outputs": [],
   "source": [
    "conf_Dict = dict()\n",
    "conf_Dict['batch_size'] = 3\n",
    "conf_Dict['initial_random'] = 2\n",
    "conf_Dict['num_iteration'] = 20"
   ]
  },
  {
   "cell_type": "code",
   "execution_count": 4,
   "metadata": {},
   "outputs": [],
   "source": [
    "from sklearn import datasets\n",
    "from sklearn.neighbors import KNeighborsClassifier\n",
    "from sklearn.model_selection import cross_val_score\n",
    "\n",
    "\n",
    "iris = datasets.load_iris()\n",
    "X = iris.data[:,:2]\n",
    "Y = iris.target\n"
   ]
  },
  {
   "cell_type": "code",
   "execution_count": 5,
   "metadata": {},
   "outputs": [
    {
     "name": "stdout",
     "output_type": "stream",
     "text": [
      "(150, 2) (150,)\n"
     ]
    }
   ],
   "source": [
    "print(X.shape,Y.shape)"
   ]
  },
  {
   "cell_type": "markdown",
   "metadata": {},
   "source": [
    "# KNN Classifier"
   ]
  },
  {
   "cell_type": "code",
   "execution_count": 39,
   "metadata": {},
   "outputs": [],
   "source": [
    "param_dict_knn = {\"n_neighbors\": range(1, 100),\n",
    "              'algorithm' : ['auto', 'ball_tree', 'kd_tree', 'brute']\n",
    "             }"
   ]
  },
  {
   "cell_type": "code",
   "execution_count": 40,
   "metadata": {},
   "outputs": [],
   "source": [
    "X_knn = X\n",
    "Y_knn = Y\n",
    "\n",
    "def objective_knn(args_list):\n",
    "    global X_knn,Y_knn\n",
    "    \n",
    "    results = []\n",
    "    for hyper_par in args_list:\n",
    "        clf = KNeighborsClassifier(**hyper_par)\n",
    "        result  = cross_val_score(clf, X_knn, Y_knn, scoring='accuracy', cv = 3).mean()\n",
    "        results.append(result)\n",
    "    return results"
   ]
  },
  {
   "cell_type": "markdown",
   "metadata": {},
   "source": [
    "# SVM Classifier"
   ]
  },
  {
   "cell_type": "code",
   "execution_count": 44,
   "metadata": {},
   "outputs": [],
   "source": [
    "from mango.domain.distribution import loguniform\n",
    "from sklearn import svm\n",
    "\n",
    "param_dict_svm = {\"gamma\": uniform(0.1, 4),\n",
    "              \"C\": loguniform(-7, 10)}\n"
   ]
  },
  {
   "cell_type": "code",
   "execution_count": 46,
   "metadata": {},
   "outputs": [
    {
     "name": "stdout",
     "output_type": "stream",
     "text": [
      "(150, 2) (150,)\n"
     ]
    }
   ],
   "source": [
    "X_svm = X \n",
    "Y_svm = Y\n",
    "\n",
    "print(X_svm.shape, Y_svm.shape)\n",
    "\n",
    "def objective_svm(args_list):\n",
    "    global X_svm,Y_svm\n",
    "    \n",
    "    results = []\n",
    "    for hyper_par in args_list:\n",
    "        clf = svm.SVC(random_state = 0)\n",
    "        \n",
    "        clf.set_params(**hyper_par)\n",
    "        \n",
    "        result  = cross_val_score(clf, X_svm, Y_svm, scoring='accuracy', cv = 3).mean()\n",
    "        results.append(result)\n",
    "    return results"
   ]
  },
  {
   "cell_type": "markdown",
   "metadata": {},
   "source": [
    "# Neural Network"
   ]
  },
  {
   "cell_type": "code",
   "execution_count": 50,
   "metadata": {},
   "outputs": [],
   "source": [
    "param_space_nn = dict(num_of_nodes=range(10, 1000))"
   ]
  },
  {
   "cell_type": "code",
   "execution_count": 51,
   "metadata": {},
   "outputs": [],
   "source": [
    "import tensorflow\n",
    "from tensorflow.keras.models import Sequential\n",
    "from tensorflow.keras.layers import Dense\n",
    "\n",
    "def get_model(num_of_nodes):\n",
    "    global X_nn, Y_nn\n",
    "    model = Sequential()\n",
    "    #model.add(Dense(4, input_dim=X.shape[1], activation='relu'))\n",
    "    # Hidden dimension of layers = num_of_nodes\n",
    "    model.add(Dense(num_of_nodes, input_dim=X_nn.shape[1], activation='relu'))\n",
    "        \n",
    "    model.add(Dense(Y_nn.shape[1], activation='softmax'))\n",
    "    model.compile(loss='categorical_crossentropy', \n",
    "                      optimizer='adam', \n",
    "                      metrics=['accuracy'])\n",
    "    \n",
    "    return model"
   ]
  },
  {
   "cell_type": "code",
   "execution_count": 52,
   "metadata": {},
   "outputs": [
    {
     "name": "stdout",
     "output_type": "stream",
     "text": [
      "(150, 3)\n"
     ]
    }
   ],
   "source": [
    "from keras.utils import np_utils\n",
    "\n",
    "\n",
    "X_nn = X \n",
    "Y_nn = np_utils.to_categorical(Y, 3)\n",
    "\n",
    "print(Y_nn.shape)\n",
    "\n",
    "def objective_nn(args_list):\n",
    "    global X_nn, Y_nn\n",
    "    \n",
    "    results  = []\n",
    "    for hyper_par in args_list:\n",
    "        \n",
    "        model = get_model(**hyper_par)\n",
    "\n",
    "        #train the clf.\n",
    "        model.fit(X_nn, Y_nn,\n",
    "              batch_size=32,\n",
    "              epochs=10,\n",
    "              verbose=0)\n",
    "\n",
    "        score = model.evaluate(X_nn,Y_nn, verbose=0)\n",
    "        \n",
    "        results.append(score[1])\n",
    "    \n",
    "   \n",
    "    return results"
   ]
  },
  {
   "cell_type": "markdown",
   "metadata": {},
   "source": [
    "# Decision Tree Classifier"
   ]
  },
  {
   "cell_type": "code",
   "execution_count": 56,
   "metadata": {},
   "outputs": [],
   "source": [
    "from sklearn.tree import DecisionTreeClassifier\n",
    "\n",
    "param_dict_dtree = {\n",
    "              \"max_features\": ['auto', 'sqrt', 'log2'],\n",
    "               \"max_depth\": range(1,20),     \n",
    "               \"splitter\":['best','random'],\n",
    "               \"criterion\":['gini','entropy']\n",
    "             }"
   ]
  },
  {
   "cell_type": "code",
   "execution_count": 57,
   "metadata": {},
   "outputs": [
    {
     "name": "stdout",
     "output_type": "stream",
     "text": [
      "(150, 2) (150,)\n"
     ]
    }
   ],
   "source": [
    "\n",
    "X_dtree = X \n",
    "Y_dtree = Y\n",
    "\n",
    "print(X_dtree.shape, Y_dtree.shape)\n",
    "\n",
    "def objective_dtree(args_list):\n",
    "    global X_dtree,Y_dtree\n",
    "    \n",
    "    results = []\n",
    "    for hyper_par in args_list:\n",
    "        clf =  DecisionTreeClassifier(random_state = 0)\n",
    "        \n",
    "        clf.set_params(**hyper_par)\n",
    "        result  = cross_val_score(clf, X_dtree, Y_dtree, scoring='accuracy', cv=3).mean()\n",
    "        results.append(result)\n",
    "    return results"
   ]
  },
  {
   "cell_type": "markdown",
   "metadata": {},
   "source": [
    "# XGBoost"
   ]
  },
  {
   "cell_type": "code",
   "execution_count": 60,
   "metadata": {},
   "outputs": [],
   "source": [
    "from xgboost import XGBClassifier\n",
    "\n",
    "param_dict_xgboost = {\"learning_rate\": uniform(0, 1),\n",
    "              \"gamma\": uniform(0, 5),\n",
    "              \"max_depth\": range(1, 15),\n",
    "              \"n_estimators\": range(1, 3),\n",
    "               \"booster\":['gbtree','gblinear','dart']\n",
    "             }\n",
    "\n",
    "\n",
    "X_xgboost = X \n",
    "Y_xgboost = Y\n",
    "\n",
    "# import warnings\n",
    "# warnings.filterwarnings('ignore')\n",
    "\n",
    "def objective_xgboost(args_list):\n",
    "    global X_xgboost, Y_xgboost\n",
    "\n",
    "    results = []\n",
    "    for hyper_par in args_list:\n",
    "        #clf = XGBClassifier(**hyper_par)\n",
    "        clf = XGBClassifier(verbosity = 0, random_state = 0)\n",
    "        \n",
    "        #clf = XGBClassifier()\n",
    "        clf.set_params(**hyper_par)\n",
    "\n",
    "        result = cross_val_score(clf, X_xgboost, Y_xgboost, scoring='accuracy', cv=3).mean()\n",
    "        results.append(result)\n",
    "    return results"
   ]
  },
  {
   "cell_type": "markdown",
   "metadata": {},
   "source": [
    "# Do the several experiments"
   ]
  },
  {
   "cell_type": "code",
   "execution_count": 63,
   "metadata": {},
   "outputs": [],
   "source": [
    "all_results = []"
   ]
  },
  {
   "cell_type": "code",
   "execution_count": 6,
   "metadata": {
    "scrolled": true
   },
   "outputs": [],
   "source": [
    "all_seeds =[i for i in range(3)]\n",
    "from mango.tuner import Tuner\n",
    "\n",
    "for seed in all_seeds:\n",
    "    \n",
    "    print(\"seed is:\",seed)\n",
    "    np.random.seed(seed)\n",
    "    random.seed(seed)\n",
    "    tuner_knn = Tuner(param_dict_knn, objective_knn, conf_Dict)\n",
    "    tuner_knn.seed = seed\n",
    "    \n",
    "    np.random.seed(seed)\n",
    "    random.seed(seed)\n",
    "    tuner_svm = Tuner(param_dict_svm, objective_svm, conf_Dict)\n",
    "    tuner_svm.seed = seed\n",
    "    \n",
    "    np.random.seed(seed)\n",
    "    random.seed(seed)\n",
    "    tuner_nn = Tuner(param_space_nn, objective_nn, conf_Dict)\n",
    "    tuner_nn.seed = seed\n",
    "    \n",
    "    np.random.seed(seed)\n",
    "    random.seed(seed)\n",
    "    tuner_dtree = Tuner(param_dict_dtree, objective_dtree, conf_Dict)\n",
    "    tuner_dtree.seed = seed\n",
    "    \n",
    "    np.random.seed(seed)\n",
    "    random.seed(seed)\n",
    "    tuner_xgboost = Tuner(param_dict_xgboost, objective_xgboost, conf_Dict)\n",
    "    tuner_xgboost.seed = seed\n",
    "    \n",
    "    \n",
    "    results_knn = tuner_knn.maximize()\n",
    "    results_svm = tuner_svm.maximize()\n",
    "    results_nn = tuner_nn.maximize()\n",
    "    results_dtree = tuner_dtree.maximize()\n",
    "    results_xgboost = tuner_xgboost.maximize()\n",
    "    \n",
    "    all_results.append([results_knn, results_svm, results_nn, results_dtree, results_xgboost])\n",
    "    \n",
    "    "
   ]
  },
  {
   "cell_type": "markdown",
   "metadata": {},
   "source": [
    "# Save the raw results"
   ]
  },
  {
   "cell_type": "code",
   "execution_count": 66,
   "metadata": {},
   "outputs": [],
   "source": [
    "import pickle\n",
    "\n",
    "with open('data/iris_tuner_raw_parallel.pickle', 'wb') as f:\n",
    "    pickle.dump(all_results, f)"
   ]
  },
  {
   "cell_type": "code",
   "execution_count": 8,
   "metadata": {},
   "outputs": [],
   "source": [
    "# Load the data\n",
    "\n",
    "import pickle\n",
    "\n",
    "with open('data/iris_tuner_raw_parallel.pickle', 'rb') as f:\n",
    "    all_results = pickle.load(f)"
   ]
  },
  {
   "cell_type": "markdown",
   "metadata": {},
   "source": [
    "# Plot the variation of several seeds"
   ]
  },
  {
   "cell_type": "code",
   "execution_count": 9,
   "metadata": {},
   "outputs": [],
   "source": [
    "y_knn = []\n",
    "y_svm = []\n",
    "y_nn = []\n",
    "y_dtree = []\n",
    "y_xgboost = []\n",
    " \n",
    "for res in all_results:\n",
    "    results_knn, results_svm, results_nn, results_dtree, results_xgboost = res\n",
    "    \n",
    "    results_obj_knn = np.array(results_knn['objective_values'])\n",
    "\n",
    "    y_max_knn=[]\n",
    "    for i in range(0, results_obj_knn.shape[0], 3):\n",
    "        y_max_knn.append(np.max(results_obj_knn[:i+2]))\n",
    "\n",
    "\n",
    "    results_obj_svm = np.array(results_svm['objective_values'])\n",
    "\n",
    "    y_max_svm=[]\n",
    "    for i in range(0, results_obj_svm.shape[0], 3):\n",
    "        y_max_svm.append(np.max(results_obj_svm[:i+2]))\n",
    "\n",
    "\n",
    "\n",
    "    results_obj_nn = np.array(results_nn['objective_values'])\n",
    "\n",
    "    y_max_nn=[]\n",
    "    for i in range(0, results_obj_nn.shape[0], 3):\n",
    "        y_max_nn.append(np.max(results_obj_nn[:i+2]))\n",
    "\n",
    "\n",
    "\n",
    "    results_obj_dtree = np.array(results_dtree['objective_values'])\n",
    "\n",
    "    y_max_dtree=[]\n",
    "    for i in range(0, results_obj_dtree.shape[0], 3):\n",
    "        y_max_dtree.append(np.max(results_obj_dtree[:i+2]))\n",
    "\n",
    "\n",
    "    results_obj_xgboost = np.array(results_xgboost['objective_values'])\n",
    "\n",
    "    y_max_xgboost=[]\n",
    "    for i in range(0, results_obj_xgboost.shape[0], 3):\n",
    "        y_max_xgboost.append(np.max(results_obj_xgboost[:i+2]))\n",
    "        \n",
    "    \n",
    "    \n",
    "    y_knn.append(y_max_knn)\n",
    "    y_svm.append(y_max_svm)\n",
    "    y_nn.append(y_max_nn)\n",
    "    y_dtree.append(y_max_dtree)\n",
    "    y_xgboost.append(y_max_xgboost)\n",
    "    \n",
    "    \n",
    "    "
   ]
  },
  {
   "cell_type": "code",
   "execution_count": 10,
   "metadata": {},
   "outputs": [],
   "source": [
    "y_knn = np.array(y_knn)\n",
    "y_svm = np.array(y_svm)\n",
    "y_nn = np.array(y_nn)\n",
    "y_dtree = np.array(y_dtree)\n",
    "y_xgboost = np.array(y_xgboost)"
   ]
  },
  {
   "cell_type": "code",
   "execution_count": 11,
   "metadata": {},
   "outputs": [],
   "source": [
    "#np.max(y_xgboost,axis = 0)"
   ]
  },
  {
   "cell_type": "code",
   "execution_count": 12,
   "metadata": {},
   "outputs": [],
   "source": [
    "#np.min(y_xgboost,axis = 0)"
   ]
  },
  {
   "cell_type": "code",
   "execution_count": 13,
   "metadata": {},
   "outputs": [],
   "source": [
    "avg_y_knn = np.mean(y_knn,axis = 0)\n",
    "min_y_knn = np.min(y_knn,axis = 0)\n",
    "max_y_knn = np.max(y_knn,axis = 0)\n",
    "\n",
    "avg_y_svm = np.mean(y_svm,axis = 0)\n",
    "min_y_svm = np.min(y_svm,axis = 0)\n",
    "max_y_svm = np.max(y_svm,axis = 0)\n",
    "\n",
    "avg_y_nn = np.mean(y_nn,axis = 0)\n",
    "min_y_nn = np.min(y_nn,axis = 0)\n",
    "max_y_nn = np.max(y_nn,axis = 0)\n",
    "\n",
    "avg_y_dtree = np.mean(y_dtree,axis = 0)\n",
    "min_y_dtree = np.min(y_dtree,axis = 0)\n",
    "max_y_dtree = np.max(y_dtree,axis = 0)\n",
    "\n",
    "avg_y_xgboost = np.mean(y_xgboost,axis = 0)\n",
    "min_y_xgboost = np.min(y_xgboost,axis = 0)\n",
    "max_y_xgboost = np.max(y_xgboost,axis = 0)\n"
   ]
  },
  {
   "cell_type": "code",
   "execution_count": 14,
   "metadata": {},
   "outputs": [
    {
     "data": {
      "text/plain": [
       "(21,)"
      ]
     },
     "execution_count": 14,
     "metadata": {},
     "output_type": "execute_result"
    }
   ],
   "source": [
    "avg_y_knn.shape"
   ]
  },
  {
   "cell_type": "code",
   "execution_count": 15,
   "metadata": {},
   "outputs": [
    {
     "data": {
      "image/png": "[encoded data removed]",
      "text/plain": [
       "<Figure size 2160x360 with 1 Axes>"
      ]
     },
     "metadata": {
      "needs_background": "light"
     },
     "output_type": "display_data"
    }
   ],
   "source": [
    "from matplotlib import pyplot as plt\n",
    "fig = plt.figure(figsize=(30,5))\n",
    "plt.title('Max variation of Objective',fontsize=20)\n",
    "\n",
    "plt.plot(avg_y_knn, linewidth=3, label= \"KNN\")\n",
    "plt.plot(avg_y_svm, linewidth=3, label= \"SVM\")\n",
    "plt.plot(avg_y_nn, linewidth=3, label= \"NN\")\n",
    "plt.plot(avg_y_dtree, linewidth=3, label= \"Dtree\")\n",
    "plt.plot(avg_y_xgboost, linewidth=3, label= \"xgboost\")\n",
    "\n",
    "\n",
    "\n",
    "\n",
    "\n",
    "Time = [i for i in range(avg_y_knn.shape[0])]\n",
    "\n",
    "plt.fill_between(Time, min_y_knn, max_y_knn, alpha=0.1)\n",
    "plt.fill_between(Time, min_y_svm, max_y_svm, alpha=0.1)\n",
    "plt.fill_between(Time, min_y_nn, max_y_nn, alpha=0.1)\n",
    "plt.fill_between(Time, min_y_dtree, max_y_dtree, alpha=0.1)\n",
    "plt.fill_between(Time, min_y_xgboost, max_y_xgboost, alpha=0.1)\n",
    "\n",
    "\n",
    "\n",
    "plt.xlabel('Configurations', fontsize=25)\n",
    "plt.ylabel('objective_values',fontsize=25)\n",
    "plt.xticks(fontsize=20)\n",
    "plt.yticks(fontsize=20)\n",
    "plt.legend(prop={'size': 25})\n",
    "plt.show()\n",
    "\n"
   ]
  },
  {
   "cell_type": "markdown",
   "metadata": {},
   "source": [
    "# Plot the Mango max variation"
   ]
  },
  {
   "cell_type": "code",
   "execution_count": 16,
   "metadata": {},
   "outputs": [],
   "source": [
    "# Collect max of every run\n",
    "\n",
    "y_knn = []\n",
    "y_svm = []\n",
    "y_nn = []\n",
    "y_dtree = []\n",
    "y_xgboost = []\n",
    "\n",
    "all_results_variation = []\n",
    " \n",
    "for res in all_results:\n",
    "    results_knn, results_svm, results_nn, results_dtree, results_xgboost = res\n",
    "    \n",
    "    results_obj_knn = np.array(results_knn['objective_values'])\n",
    "\n",
    "    y_max_knn=[]\n",
    "    for i in range(results_obj_knn.shape[0]):\n",
    "        y_max_knn.append(np.max(results_obj_knn[:i+2]))\n",
    "\n",
    "\n",
    "    results_obj_svm = np.array(results_svm['objective_values'])\n",
    "\n",
    "    y_max_svm=[]\n",
    "    for i in range(results_obj_svm.shape[0]):\n",
    "        y_max_svm.append(np.max(results_obj_svm[:i+2]))\n",
    "\n",
    "\n",
    "\n",
    "    results_obj_nn = np.array(results_nn['objective_values'])\n",
    "\n",
    "    y_max_nn=[]\n",
    "    for i in range(results_obj_nn.shape[0]):\n",
    "        y_max_nn.append(np.max(results_obj_nn[:i+2]))\n",
    "\n",
    "\n",
    "\n",
    "    results_obj_dtree = np.array(results_dtree['objective_values'])\n",
    "\n",
    "    y_max_dtree=[]\n",
    "    for i in range(results_obj_dtree.shape[0]):\n",
    "        y_max_dtree.append(np.max(results_obj_dtree[:i+2]))\n",
    "\n",
    "\n",
    "    results_obj_xgboost = np.array(results_xgboost['objective_values'])\n",
    "\n",
    "    y_max_xgboost=[]\n",
    "    for i in range(results_obj_xgboost.shape[0]):\n",
    "        y_max_xgboost.append(np.max(results_obj_xgboost[:i+2]))\n",
    "        \n",
    "    results = [results_obj_knn, results_obj_svm, results_obj_nn, results_obj_dtree, y_max_xgboost]\n",
    "\n",
    "    results = np.array(results)\n",
    "    \n",
    "    results_variation = []\n",
    "    configs = []\n",
    "\n",
    "    for i in range(0, results.shape[1], 3):\n",
    "        max_val = np.max(results[:,:(i+2)])\n",
    "        results_variation.append(max_val)\n",
    "        configs.append((i/3.0)*results.shape[0])\n",
    "    \n",
    "    all_results_variation.append(results_variation)\n",
    "    "
   ]
  },
  {
   "cell_type": "code",
   "execution_count": 17,
   "metadata": {},
   "outputs": [
    {
     "name": "stdout",
     "output_type": "stream",
     "text": [
      "(3, 21)\n"
     ]
    }
   ],
   "source": [
    "all_results_variation = np.array(all_results_variation)\n",
    "print(all_results_variation.shape)"
   ]
  },
  {
   "cell_type": "code",
   "execution_count": 18,
   "metadata": {},
   "outputs": [],
   "source": [
    "avg_tuner = np.mean(all_results_variation,axis = 0)\n",
    "min_tuner = np.min(all_results_variation,axis = 0)\n",
    "max_tuner = np.max(all_results_variation,axis = 0)"
   ]
  },
  {
   "cell_type": "code",
   "execution_count": 19,
   "metadata": {},
   "outputs": [
    {
     "data": {
      "text/plain": [
       "(21,)"
      ]
     },
     "execution_count": 19,
     "metadata": {},
     "output_type": "execute_result"
    }
   ],
   "source": [
    "avg_tuner.shape"
   ]
  },
  {
   "cell_type": "code",
   "execution_count": 20,
   "metadata": {},
   "outputs": [],
   "source": [
    "#configs"
   ]
  },
  {
   "cell_type": "code",
   "execution_count": 21,
   "metadata": {},
   "outputs": [
    {
     "data": {
      "image/png": "[encoded data removed]",
      "text/plain": [
       "<Figure size 2160x360 with 1 Axes>"
      ]
     },
     "metadata": {
      "needs_background": "light"
     },
     "output_type": "display_data"
    }
   ],
   "source": [
    "from matplotlib import pyplot as plt\n",
    "fig = plt.figure(figsize=(30,5))\n",
    "plt.title('Max variation of Objective',fontsize=20)\n",
    "\n",
    "\n",
    "plt.plot(configs, avg_tuner,lw=4,label='Mango Tuner')\n",
    "\n",
    "\n",
    "plt.fill_between(configs, min_tuner, max_tuner, alpha=0.1)\n",
    "\n",
    "plt.xlabel('Configurations', fontsize=25)\n",
    "plt.ylabel('objective_values',fontsize=25)\n",
    "plt.xticks(fontsize=20)\n",
    "plt.yticks(fontsize=20)\n",
    "plt.legend(prop={'size': 30})\n",
    "plt.show()"
   ]
  },
  {
   "cell_type": "markdown",
   "metadata": {},
   "source": [
    "# Comparisons of Tuner with MetaTuner"
   ]
  },
  {
   "cell_type": "code",
   "execution_count": 22,
   "metadata": {},
   "outputs": [],
   "source": [
    "# Tuner results\n",
    "# Load the data\n",
    "   \n",
    "\n",
    "with open('data/iris_tuner_raw.pickle', 'rb') as f:\n",
    "    all_results = pickle.load(f)\n",
    "    \n",
    "# Collect max of every run\n",
    "\n",
    "y_knn = []\n",
    "y_svm = []\n",
    "y_nn = []\n",
    "y_dtree = []\n",
    "y_xgboost = []\n",
    "\n",
    "all_results_variation = []\n",
    "\n",
    "    \n",
    "for res in all_results:\n",
    "    results_knn, results_svm, results_nn, results_dtree, results_xgboost = res\n",
    "    \n",
    "    results_obj_knn = np.array(results_knn['objective_values'])\n",
    "\n",
    "    y_max_knn=[]\n",
    "    for i in range(results_obj_knn.shape[0]):\n",
    "        y_max_knn.append(np.max(results_obj_knn[:i+2]))\n",
    "\n",
    "\n",
    "    results_obj_svm = np.array(results_svm['objective_values'])\n",
    "\n",
    "    y_max_svm=[]\n",
    "    for i in range(results_obj_svm.shape[0]):\n",
    "        y_max_svm.append(np.max(results_obj_svm[:i+2]))\n",
    "\n",
    "\n",
    "\n",
    "    results_obj_nn = np.array(results_nn['objective_values'])\n",
    "\n",
    "    y_max_nn=[]\n",
    "    for i in range(results_obj_nn.shape[0]):\n",
    "        y_max_nn.append(np.max(results_obj_nn[:i+2]))\n",
    "\n",
    "\n",
    "\n",
    "    results_obj_dtree = np.array(results_dtree['objective_values'])\n",
    "\n",
    "    y_max_dtree=[]\n",
    "    for i in range(results_obj_dtree.shape[0]):\n",
    "        y_max_dtree.append(np.max(results_obj_dtree[:i+2]))\n",
    "\n",
    "\n",
    "    results_obj_xgboost = np.array(results_xgboost['objective_values'])\n",
    "\n",
    "    y_max_xgboost=[]\n",
    "    for i in range(results_obj_xgboost.shape[0]):\n",
    "        y_max_xgboost.append(np.max(results_obj_xgboost[:i+2]))\n",
    "        \n",
    "    results = [results_obj_knn, results_obj_svm, results_obj_nn, results_obj_dtree, y_max_xgboost]\n",
    "\n",
    "    results = np.array(results)\n",
    "    \n",
    "    results_variation = []\n",
    "    configs = []\n",
    "\n",
    "    for i in range(results.shape[1]):\n",
    "        max_val = np.max(results[:,:(i+2)])\n",
    "        results_variation.append(max_val)\n",
    "        configs.append((i)*results.shape[0])\n",
    "    \n",
    "    all_results_variation.append(results_variation)\n",
    "    \n",
    "\n",
    "configs_tuner = configs"
   ]
  },
  {
   "cell_type": "code",
   "execution_count": 23,
   "metadata": {},
   "outputs": [
    {
     "name": "stdout",
     "output_type": "stream",
     "text": [
      "(10, 42)\n"
     ]
    }
   ],
   "source": [
    "all_results_variation = np.array(all_results_variation)\n",
    "print(all_results_variation.shape)\n",
    "avg_tuner = np.mean(all_results_variation,axis = 0)\n",
    "min_tuner = np.min(all_results_variation,axis = 0)\n",
    "max_tuner = np.max(all_results_variation,axis = 0)\n"
   ]
  },
  {
   "cell_type": "markdown",
   "metadata": {},
   "source": [
    "# Tuner Parallel"
   ]
  },
  {
   "cell_type": "code",
   "execution_count": 25,
   "metadata": {},
   "outputs": [],
   "source": [
    "# Tuner results\n",
    "# Load the data\n",
    "  \n",
    "\n",
    "with open('data/iris_tuner_raw_parallel.pickle', 'rb') as f:\n",
    "    all_results = pickle.load(f)\n",
    "    \n",
    "# Collect max of every run\n",
    "\n",
    "y_knn = []\n",
    "y_svm = []\n",
    "y_nn = []\n",
    "y_dtree = []\n",
    "y_xgboost = []\n",
    "\n",
    "all_results_variation = []\n",
    "\n",
    "    \n",
    "for res in all_results:\n",
    "    results_knn, results_svm, results_nn, results_dtree, results_xgboost = res\n",
    "    \n",
    "    results_obj_knn = np.array(results_knn['objective_values'])\n",
    "\n",
    "    y_max_knn=[]\n",
    "    for i in range(results_obj_knn.shape[0]):\n",
    "        y_max_knn.append(np.max(results_obj_knn[:i+2]))\n",
    "\n",
    "\n",
    "    results_obj_svm = np.array(results_svm['objective_values'])\n",
    "\n",
    "    y_max_svm=[]\n",
    "    for i in range(results_obj_svm.shape[0]):\n",
    "        y_max_svm.append(np.max(results_obj_svm[:i+2]))\n",
    "\n",
    "\n",
    "\n",
    "    results_obj_nn = np.array(results_nn['objective_values'])\n",
    "\n",
    "    y_max_nn=[]\n",
    "    for i in range(results_obj_nn.shape[0]):\n",
    "        y_max_nn.append(np.max(results_obj_nn[:i+2]))\n",
    "\n",
    "\n",
    "\n",
    "    results_obj_dtree = np.array(results_dtree['objective_values'])\n",
    "\n",
    "    y_max_dtree=[]\n",
    "    for i in range(results_obj_dtree.shape[0]):\n",
    "        y_max_dtree.append(np.max(results_obj_dtree[:i+2]))\n",
    "\n",
    "\n",
    "    results_obj_xgboost = np.array(results_xgboost['objective_values'])\n",
    "\n",
    "    y_max_xgboost=[]\n",
    "    for i in range(results_obj_xgboost.shape[0]):\n",
    "        y_max_xgboost.append(np.max(results_obj_xgboost[:i+2]))\n",
    "        \n",
    "    results = [results_obj_knn, results_obj_svm, results_obj_nn, results_obj_dtree, y_max_xgboost]\n",
    "\n",
    "    results = np.array(results)\n",
    "    \n",
    "    results_variation = []\n",
    "    configs = []\n",
    "\n",
    "    for i in range(0, results.shape[1], 3):\n",
    "        max_val = np.max(results[:,:(i+2)])\n",
    "        results_variation.append(max_val)\n",
    "        configs.append((i/3.0)*results.shape[0])\n",
    "    \n",
    "    all_results_variation.append(results_variation)\n",
    "    \n",
    "\n",
    "configs_tuner_parallel = configs"
   ]
  },
  {
   "cell_type": "code",
   "execution_count": 26,
   "metadata": {},
   "outputs": [
    {
     "name": "stdout",
     "output_type": "stream",
     "text": [
      "(3, 21)\n"
     ]
    }
   ],
   "source": [
    "all_results_variation = np.array(all_results_variation)\n",
    "print(all_results_variation.shape)\n",
    "avg_tuner_parallel = np.mean(all_results_variation,axis = 0)\n",
    "min_tuner_parallel = np.min(all_results_variation,axis = 0)\n",
    "max_tuner_parallel = np.max(all_results_variation,axis = 0)"
   ]
  },
  {
   "cell_type": "markdown",
   "metadata": {},
   "source": [
    "# MetaTuner"
   ]
  },
  {
   "cell_type": "code",
   "execution_count": 27,
   "metadata": {},
   "outputs": [
    {
     "name": "stdout",
     "output_type": "stream",
     "text": [
      "(5, 100)\n",
      "(100,)\n"
     ]
    }
   ],
   "source": [
    "# Meta Tuner data and results\n",
    "\n",
    "# Load the data\n",
    "\n",
    "\n",
    "with open('data/MetaTune_iris_serial.pickle', 'rb') as f:\n",
    "    objective_values = pickle.load(f)\n",
    "\n",
    "\n",
    "    \n",
    "objective_values = np.array(objective_values)\n",
    "\n",
    "results_variation = []\n",
    "\n",
    "for j in range(objective_values.shape[0]):\n",
    "    values = []\n",
    "    for i in range(objective_values.shape[1]-10):\n",
    "        val = np.max(objective_values[j,:(i+10)])\n",
    "        #print(j,i,val)\n",
    "        values.append(val)\n",
    "    \n",
    "    results_variation.append(values)\n",
    "\n",
    "\n",
    "all_results_variation = np.array(results_variation)\n",
    "\n",
    "print(all_results_variation.shape)\n",
    "\n",
    "avg_metatuner = np.mean(all_results_variation,axis = 0)\n",
    "min_metatuner = np.min(all_results_variation,axis = 0)\n",
    "max_metatuner = np.max(all_results_variation,axis = 0)\n",
    "\n",
    "print(avg_metatuner.shape)"
   ]
  },
  {
   "cell_type": "code",
   "execution_count": 28,
   "metadata": {},
   "outputs": [
    {
     "data": {
      "text/plain": [
       "100"
      ]
     },
     "execution_count": 28,
     "metadata": {},
     "output_type": "execute_result"
    }
   ],
   "source": [
    "avg_metatuner.shape[0]"
   ]
  },
  {
   "cell_type": "markdown",
   "metadata": {},
   "source": [
    "# MetaTuner Parallel"
   ]
  },
  {
   "cell_type": "code",
   "execution_count": 29,
   "metadata": {},
   "outputs": [
    {
     "name": "stdout",
     "output_type": "stream",
     "text": [
      "(3, 100)\n",
      "(100,)\n"
     ]
    }
   ],
   "source": [
    "import pickle\n",
    "\n",
    "with open('data/MetaTune_iris_parallel.pickle', 'rb') as f:\n",
    "    objective_values = pickle.load(f)\n",
    "    \n",
    "objective_values = np.array(objective_values)\n",
    "\n",
    "results_variation = []\n",
    "\n",
    "for j in range(objective_values.shape[0]):\n",
    "    values = []\n",
    "    for i in range(0, objective_values.shape[1]-10, 3):\n",
    "        val = np.max(objective_values[j,:(i+10)])\n",
    "        #print(j,i,val)\n",
    "        values.append(val)\n",
    "    \n",
    "    results_variation.append(values)\n",
    "\n",
    "\n",
    "all_results_variation = np.array(results_variation)\n",
    "\n",
    "print(all_results_variation.shape)\n",
    "\n",
    "avg_metatuner_parallel = np.mean(all_results_variation,axis = 0)\n",
    "min_metatuner_parallel = np.min(all_results_variation,axis = 0)\n",
    "max_metatuner_parallel = np.max(all_results_variation,axis = 0)\n",
    "\n",
    "print(avg_metatuner_parallel.shape)"
   ]
  },
  {
   "cell_type": "code",
   "execution_count": 30,
   "metadata": {},
   "outputs": [
    {
     "data": {
      "image/png": "[encoded data removed]",
      "text/plain": [
       "<Figure size 2160x360 with 1 Axes>"
      ]
     },
     "metadata": {
      "needs_background": "light"
     },
     "output_type": "display_data"
    }
   ],
   "source": [
    "from matplotlib import pyplot as plt\n",
    "fig = plt.figure(figsize=(30,5))\n",
    "plt.title('Iris Dataset',fontsize=40)\n",
    "\n",
    "\n",
    "plt.plot(configs_tuner[:21], avg_tuner[:21],lw=4,label='Mango Tuner')\n",
    "plt.plot(configs_tuner_parallel[:21], avg_tuner_parallel[:21],lw=4,label='Mango Tuner Parallel(Batch=3)')\n",
    "\n",
    "\n",
    "\n",
    "configs_metatuner = [i for i in range(avg_metatuner.shape[0])]\n",
    "plt.plot(configs_metatuner, avg_metatuner,lw=4,label='Mango MetaTuner')\n",
    "\n",
    "configs_metatuner_parallel = [i for i in range(avg_metatuner_parallel.shape[0])]\n",
    "plt.plot(configs_metatuner_parallel, avg_metatuner_parallel,lw=4,label='Mango MetaTuner(Batch=3)')\n",
    "\n",
    "\n",
    "\n",
    "plt.fill_between(configs_tuner[:21], min_tuner[:21], max_tuner[:21], alpha=0.1)\n",
    "plt.fill_between(configs_tuner_parallel[:21], min_tuner_parallel[:21], max_tuner_parallel[:21], alpha=0.1)\n",
    "plt.fill_between(configs_metatuner, min_metatuner, max_metatuner, alpha=0.1)\n",
    "\n",
    "\n",
    "\n",
    "plt.xlabel('Iterations', fontsize=35)\n",
    "plt.ylabel('Accuracy',fontsize=35)\n",
    "\n",
    "#xticks_labels = \n",
    "\n",
    "plt.xticks(fontsize=20)\n",
    "plt.yticks([0.78,0.79,0.80,0.81,0.82,0.83,0.84], fontsize=20)\n",
    "plt.legend(loc='lower right',prop={'size': 30})\n",
    "plt.show()"
   ]
  },
  {
   "cell_type": "code",
   "execution_count": null,
   "metadata": {},
   "outputs": [],
   "source": []
  }
 ],
 "metadata": {
  "kernelspec": {
   "display_name": "Python 3",
   "language": "python",
   "name": "python3"
  },
  "language_info": {
   "codemirror_mode": {
    "name": "ipython",
    "version": 3
   },
   "file_extension": ".py",
   "mimetype": "text/x-python",
   "name": "python",
   "nbconvert_exporter": "python",
   "pygments_lexer": "ipython3",
   "version": "3.7.7"
  }
 },
 "nbformat": 4,
 "nbformat_minor": 4
}
