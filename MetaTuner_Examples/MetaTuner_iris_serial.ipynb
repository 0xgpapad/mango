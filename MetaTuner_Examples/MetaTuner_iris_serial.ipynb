{
 "cells": [
  {
   "cell_type": "markdown",
   "metadata": {},
   "source": [
    "# MetaTuner on Iris"
   ]
  },
  {
   "cell_type": "markdown",
   "metadata": {},
   "source": [
    "# Load the Dataset"
   ]
  },
  {
   "cell_type": "code",
   "execution_count": 1,
   "metadata": {},
   "outputs": [],
   "source": [
    "from scipy.stats import uniform\n",
    "import numpy as np"
   ]
  },
  {
   "cell_type": "code",
   "execution_count": 2,
   "metadata": {},
   "outputs": [],
   "source": [
    "from sklearn import datasets\n",
    "from sklearn.neighbors import KNeighborsClassifier\n",
    "from sklearn.model_selection import cross_val_score\n",
    "\n",
    "iris = datasets.load_iris()\n",
    "X = iris.data[:,:2]\n",
    "Y = iris.target"
   ]
  },
  {
   "cell_type": "markdown",
   "metadata": {},
   "source": [
    "# XgBoost"
   ]
  },
  {
   "cell_type": "code",
   "execution_count": 3,
   "metadata": {},
   "outputs": [],
   "source": [
    "from xgboost import XGBClassifier\n",
    "\n",
    "param_dict_xgboost = {\"learning_rate\": uniform(0, 1),\n",
    "              \"gamma\": uniform(0, 5),\n",
    "              \"max_depth\": range(1, 15),\n",
    "              \"n_estimators\": range(1, 3),\n",
    "               \"booster\":['gbtree','gblinear','dart']\n",
    "             }\n",
    "\n",
    "\n",
    "X_xgboost = X \n",
    "Y_xgboost = Y\n",
    "\n",
    "# import warnings\n",
    "# warnings.filterwarnings('ignore')\n",
    "\n",
    "def objective_xgboost(args_list):\n",
    "    global X_xgboost, Y_xgboost\n",
    "\n",
    "    results = []\n",
    "    for hyper_par in args_list:\n",
    "        #clf = XGBClassifier(**hyper_par)\n",
    "        clf = XGBClassifier(verbosity = 0, random_state = 0)\n",
    "        \n",
    "        #clf = XGBClassifier()\n",
    "        clf.set_params(**hyper_par)\n",
    "\n",
    "        result = cross_val_score(clf, X_xgboost, Y_xgboost, scoring='accuracy', cv=3).mean()\n",
    "        results.append(result)\n",
    "    return results"
   ]
  },
  {
   "cell_type": "markdown",
   "metadata": {},
   "source": [
    "# KNN"
   ]
  },
  {
   "cell_type": "code",
   "execution_count": 4,
   "metadata": {},
   "outputs": [],
   "source": [
    "param_dict_knn = {\"n_neighbors\": range(1, 100),\n",
    "              'algorithm' : ['auto', 'ball_tree', 'kd_tree', 'brute']\n",
    "             }\n",
    "X_knn = X\n",
    "Y_knn = Y\n",
    "\n",
    "def objective_knn(args_list):\n",
    "    global X_knn,Y_knn\n",
    "    \n",
    "    results = []\n",
    "    for hyper_par in args_list:\n",
    "        clf = KNeighborsClassifier()\n",
    "        \n",
    "        clf.set_params(**hyper_par)\n",
    "        \n",
    "        result  = cross_val_score(clf, X_knn, Y_knn, scoring='accuracy', cv=3).mean()\n",
    "        results.append(result)\n",
    "    return results\n"
   ]
  },
  {
   "cell_type": "markdown",
   "metadata": {},
   "source": [
    "# SVM"
   ]
  },
  {
   "cell_type": "code",
   "execution_count": 5,
   "metadata": {},
   "outputs": [],
   "source": [
    "from mango.domain.distribution import loguniform\n",
    "from sklearn import svm\n",
    "\n",
    "param_dict_svm = {\"gamma\": uniform(0.1, 4),\n",
    "              \"C\": loguniform(-7, 10)}\n",
    "\n",
    "X_svm = X \n",
    "Y_svm = Y\n",
    "\n",
    "\n",
    "def objective_svm(args_list):\n",
    "    global X_svm,Y_svm\n",
    "    \n",
    "    results = []\n",
    "    for hyper_par in args_list:\n",
    "        clf = svm.SVC(random_state = 0)\n",
    "        \n",
    "        clf.set_params(**hyper_par)\n",
    "        \n",
    "        result  = cross_val_score(clf, X_svm, Y_svm, scoring='accuracy', cv= 3).mean()\n",
    "        results.append(result)\n",
    "    return results"
   ]
  },
  {
   "cell_type": "markdown",
   "metadata": {},
   "source": [
    "# Neural Network"
   ]
  },
  {
   "cell_type": "code",
   "execution_count": 6,
   "metadata": {},
   "outputs": [
    {
     "name": "stdout",
     "output_type": "stream",
     "text": [
      "(150, 3)\n"
     ]
    },
    {
     "name": "stderr",
     "output_type": "stream",
     "text": [
      "Using TensorFlow backend.\n"
     ]
    }
   ],
   "source": [
    "param_space_nn = dict(num_of_nodes=range(10, 1000))\n",
    "\n",
    "import tensorflow\n",
    "from tensorflow.keras.models import Sequential\n",
    "from tensorflow.keras.layers import Dense\n",
    "\n",
    "def get_model(num_of_nodes):\n",
    "    global X_nn, Y_nn\n",
    "    model = Sequential()\n",
    "    #model.add(Dense(4, input_dim=X.shape[1], activation='relu'))\n",
    "    # Hidden dimension of layers = num_of_nodes\n",
    "    model.add(Dense(num_of_nodes, input_dim=X_nn.shape[1], activation='relu'))\n",
    "        \n",
    "    model.add(Dense(Y_nn.shape[1], activation='softmax'))\n",
    "    model.compile(loss='categorical_crossentropy', \n",
    "                      optimizer='adam', \n",
    "                      metrics=['accuracy'])\n",
    "    \n",
    "    return model\n",
    "\n",
    "from keras.utils import np_utils\n",
    "\n",
    "\n",
    "X_nn = X \n",
    "Y_nn = np_utils.to_categorical(Y, 3)\n",
    "\n",
    "print(Y_nn.shape)\n",
    "\n",
    "def objective_nn(args_list):\n",
    "    global X_nn, Y_nn\n",
    "    \n",
    "    results  = []\n",
    "    for hyper_par in args_list:\n",
    "        \n",
    "        model = get_model(**hyper_par)\n",
    "\n",
    "        #train the clf.\n",
    "        model.fit(X_nn, Y_nn,\n",
    "              batch_size=32,\n",
    "              epochs=10,\n",
    "              verbose=0)\n",
    "\n",
    "        score = model.evaluate(X_nn,Y_nn, verbose=0)\n",
    "        \n",
    "        results.append(score[1])\n",
    "    \n",
    "   \n",
    "    return results"
   ]
  },
  {
   "cell_type": "markdown",
   "metadata": {},
   "source": [
    "# Decision Tree"
   ]
  },
  {
   "cell_type": "code",
   "execution_count": 7,
   "metadata": {},
   "outputs": [
    {
     "name": "stdout",
     "output_type": "stream",
     "text": [
      "(150, 2) (150,)\n"
     ]
    }
   ],
   "source": [
    "from sklearn.tree import DecisionTreeClassifier\n",
    "\n",
    "param_dict_dtree = {\n",
    "              \"max_features\": ['auto', 'sqrt', 'log2'],\n",
    "               \"max_depth\": range(1,20),     \n",
    "               \"splitter\":['best','random'],\n",
    "               \"criterion\":['gini','entropy']\n",
    "             }\n",
    "\n",
    "\n",
    "X_dtree = X \n",
    "Y_dtree = Y\n",
    "\n",
    "print(X_dtree.shape, Y_dtree.shape)\n",
    "\n",
    "def objective_dtree(args_list):\n",
    "    global X_dtree,Y_dtree\n",
    "    \n",
    "    results = []\n",
    "    for hyper_par in args_list:\n",
    "        clf =  DecisionTreeClassifier(random_state = 0)\n",
    "        \n",
    "        clf.set_params(**hyper_par)\n",
    "        result  = cross_val_score(clf, X_dtree, Y_dtree, scoring='accuracy', cv=3).mean()\n",
    "        results.append(result)\n",
    "    return results"
   ]
  },
  {
   "cell_type": "code",
   "execution_count": 8,
   "metadata": {},
   "outputs": [],
   "source": [
    "param_space_list = [param_dict_knn, param_dict_svm, param_space_nn, param_dict_dtree, param_dict_xgboost]\n",
    "objective_list = [objective_knn, objective_svm, objective_nn, objective_dtree, objective_xgboost]"
   ]
  },
  {
   "cell_type": "code",
   "execution_count": 9,
   "metadata": {
    "scrolled": true
   },
   "outputs": [],
   "source": [
    "objective_values = []\n",
    "\n",
    "import numpy as np\n",
    "import random\n",
    "\n",
    "from mango import MetaTuner\n",
    "# seed = 0\n",
    "# tensorflow.set_random_seed(seed)\n",
    "\n",
    "\n",
    "for seed in range(5):\n",
    "    np.random.seed(seed)\n",
    "    random.seed(seed)\n",
    "    \n",
    "    metatuner = MetaTuner(param_space_list, objective_list)\n",
    "    metatuner.seed = seed\n",
    "    \n",
    "    metatuner.num_of_iterations = 100\n",
    "    metatuner.initial_random = 2\n",
    "    metatuner.run()\n",
    "    \n",
    "    objective_values.append(metatuner.objective_values_list)\n",
    "       "
   ]
  },
  {
   "cell_type": "code",
   "execution_count": null,
   "metadata": {},
   "outputs": [],
   "source": []
  },
  {
   "cell_type": "code",
   "execution_count": 22,
   "metadata": {},
   "outputs": [
    {
     "data": {
      "image/png": "[encoded data removed]",
      "text/plain": [
       "<Figure size 720x360 with 1 Axes>"
      ]
     },
     "metadata": {
      "needs_background": "light"
     },
     "output_type": "display_data"
    }
   ],
   "source": [
    "from matplotlib import pyplot as plt\n",
    "\n",
    "plt.rcParams.update({'font.size': 22})\n",
    "\n",
    "\n",
    "fig = plt.figure(figsize=(10,5))\n",
    "    \n",
    "    \n",
    "ax = fig.add_subplot(111)\n",
    "    \n",
    "ax.plot(metatuner.Y_dict_array_max[0], label = 'KNN')\n",
    "ax.plot(metatuner.Y_dict_array_max[1], label = 'SVM')\n",
    "ax.plot(metatuner.Y_dict_array_max[2], label = 'NN')\n",
    "ax.plot(metatuner.Y_dict_array_max[3], label = 'DTree')\n",
    "ax.plot(metatuner.Y_dict_array_max[4], label = 'XGboost')\n",
    "\n",
    "\n",
    "\n",
    "\n",
    "plt.title('MetaTuner Objective Selection')\n",
    "\n",
    "plt.ylabel('Accuracy', fontsize=30)\n",
    "plt.xlabel('Iterations',fontsize=30)\n",
    "\n",
    "#plt.legend(loc=\"lower left\")\n",
    "\n",
    "plt.legend()\n",
    "\n",
    "plt.show()"
   ]
  },
  {
   "cell_type": "markdown",
   "metadata": {},
   "source": [
    "# Save the Results"
   ]
  },
  {
   "cell_type": "code",
   "execution_count": 10,
   "metadata": {},
   "outputs": [],
   "source": [
    "import pickle\n",
    "\n",
    "with open('data/MetaTune_iris_serial.pickle', 'wb') as f:\n",
    "    pickle.dump(objective_values, f)"
   ]
  },
  {
   "cell_type": "code",
   "execution_count": 12,
   "metadata": {},
   "outputs": [],
   "source": [
    "# Load the data\n",
    "\n",
    "import pickle\n",
    "\n",
    "with open('data/MetaTune_iris_serial.pickle', 'rb') as f:\n",
    "    objective_values = pickle.load(f)"
   ]
  },
  {
   "cell_type": "markdown",
   "metadata": {},
   "source": [
    "# Plot the max function variations"
   ]
  },
  {
   "cell_type": "code",
   "execution_count": 15,
   "metadata": {},
   "outputs": [],
   "source": [
    "import numpy as np\n",
    "\n",
    "objective_values = np.array(objective_values)"
   ]
  },
  {
   "cell_type": "code",
   "execution_count": 16,
   "metadata": {},
   "outputs": [
    {
     "data": {
      "text/plain": [
       "(5, 110)"
      ]
     },
     "execution_count": 16,
     "metadata": {},
     "output_type": "execute_result"
    }
   ],
   "source": [
    "objective_values.shape"
   ]
  },
  {
   "cell_type": "code",
   "execution_count": 17,
   "metadata": {},
   "outputs": [],
   "source": [
    "results_variation = []\n",
    "\n",
    "for j in range(objective_values.shape[0]):\n",
    "    values = []\n",
    "    for i in range(objective_values.shape[1]):\n",
    "        val = np.max(objective_values[j,:(i+10)])\n",
    "        #print(j,i,val)\n",
    "        values.append(val)\n",
    "    \n",
    "    results_variation.append(values)\n",
    "        "
   ]
  },
  {
   "cell_type": "code",
   "execution_count": 18,
   "metadata": {},
   "outputs": [
    {
     "name": "stdout",
     "output_type": "stream",
     "text": [
      "(5, 110)\n"
     ]
    }
   ],
   "source": [
    "all_results_variation = np.array(results_variation)\n",
    "\n",
    "print(all_results_variation.shape)"
   ]
  },
  {
   "cell_type": "code",
   "execution_count": 19,
   "metadata": {},
   "outputs": [],
   "source": [
    "avg_tuner = np.mean(all_results_variation,axis = 0)\n",
    "min_tuner = np.min(all_results_variation,axis = 0)\n",
    "max_tuner = np.max(all_results_variation,axis = 0)"
   ]
  },
  {
   "cell_type": "code",
   "execution_count": 20,
   "metadata": {},
   "outputs": [
    {
     "data": {
      "image/png": "[encoded data removed]",
      "text/plain": [
       "<Figure size 2160x360 with 1 Axes>"
      ]
     },
     "metadata": {
      "needs_background": "light"
     },
     "output_type": "display_data"
    }
   ],
   "source": [
    "from matplotlib import pyplot as plt\n",
    "fig = plt.figure(figsize=(30,5))\n",
    "plt.title('Max variation of Objective',fontsize=20)\n",
    "\n",
    "configs = [i for i in range(all_results_variation.shape[1])]\n",
    "\n",
    "plt.plot(configs, avg_tuner,lw=4,label='Mango MetaTuner')\n",
    "\n",
    "\n",
    "plt.fill_between(configs, min_tuner, max_tuner, alpha=0.1)\n",
    "\n",
    "plt.xlabel('Configurations', fontsize=25)\n",
    "plt.ylabel('objective_values',fontsize=25)\n",
    "plt.xticks(fontsize=20)\n",
    "plt.yticks(fontsize=20)\n",
    "plt.legend(prop={'size': 30})\n",
    "plt.show()"
   ]
  }
 ],
 "metadata": {
  "kernelspec": {
   "display_name": "Python 3",
   "language": "python",
   "name": "python3"
  },
  "language_info": {
   "codemirror_mode": {
    "name": "ipython",
    "version": 3
   },
   "file_extension": ".py",
   "mimetype": "text/x-python",
   "name": "python",
   "nbconvert_exporter": "python",
   "pygments_lexer": "ipython3",
   "version": "3.7.7"
  }
 },
 "nbformat": 4,
 "nbformat_minor": 4
}
