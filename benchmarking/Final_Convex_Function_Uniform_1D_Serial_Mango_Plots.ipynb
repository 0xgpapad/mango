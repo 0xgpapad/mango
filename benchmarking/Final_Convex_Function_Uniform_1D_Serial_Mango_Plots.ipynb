{
 "cells": [
  {
   "cell_type": "markdown",
   "metadata": {},
   "source": [
    "# Example of optimizing a convex function"
   ]
  },
  {
   "cell_type": "markdown",
   "metadata": {},
   "source": [
    "# Goal is to test the objective values found by Mango\n",
    "- Search space size: Uniform\n",
    "- Number of iterations to try: 40\n",
    "- domain size: 5000 \n",
    "- Initial Random: 5"
   ]
  },
  {
   "cell_type": "markdown",
   "metadata": {},
   "source": [
    "# Benchmarking test with different iterations for serial executions"
   ]
  },
  {
   "cell_type": "code",
   "execution_count": 1,
   "metadata": {},
   "outputs": [],
   "source": [
    "from mango.tuner import Tuner\n",
    "from scipy.stats import uniform\n",
    "\n",
    "def get_param_dict():\n",
    "    param_dict = {\n",
    "        'x': uniform(-5000, 10000)\n",
    "    }\n",
    "    return param_dict\n",
    "    \n",
    "def objfunc(args_list):\n",
    "    results = []\n",
    "    for hyper_par in args_list:\n",
    "        x = hyper_par['x']\n",
    "        result = -(x**2)\n",
    "        results.append(result)\n",
    "    return results\n",
    "\n",
    "def get_conf():\n",
    "    conf = dict()\n",
    "    conf['batch_size'] = 1\n",
    "    conf['initial_random'] = 5\n",
    "    conf['num_iteration'] = 200\n",
    "    conf['domain_size'] = 5000\n",
    "    return conf\n",
    "\n",
    "def get_optimal_x():\n",
    "    param_dict = get_param_dict()\n",
    "    conf = get_conf()\n",
    "    tuner = Tuner(param_dict, objfunc,conf)\n",
    "    results = tuner.maximize()\n",
    "    return results"
   ]
  },
  {
   "cell_type": "code",
   "execution_count": 2,
   "metadata": {},
   "outputs": [],
   "source": [
    "Store_Optimal_X = []\n",
    "Store_Results = []\n",
    "num_of_tries = 100"
   ]
  },
  {
   "cell_type": "code",
   "execution_count": 3,
   "metadata": {
    "scrolled": true
   },
   "outputs": [
    {
     "name": "stdout",
     "output_type": "stream",
     "text": [
      "0 : -0.006211593042280583\n",
      "1 : 0.002115129529556725\n",
      "2 : -0.0004331693316999008\n",
      "3 : 0.004483803710172651\n",
      "4 : -0.0036763401913049165\n",
      "5 : -0.002504850168406847\n",
      "6 : 0.000593974156799959\n",
      "7 : -0.025974496391427238\n",
      "8 : -0.0035801062595055555\n",
      "9 : -0.010270709524775157\n",
      "10 : 0.005791434397906414\n",
      "11 : -0.004157694061177608\n",
      "12 : -0.0020071081062269513\n",
      "13 : 0.005321287096194283\n",
      "14 : 0.006114047304436099\n",
      "15 : 0.008423818036135344\n",
      "16 : 0.013873038044948771\n",
      "17 : 0.006817004133154114\n",
      "18 : -0.0007546432470917352\n",
      "19 : -0.008884660102012276\n",
      "20 : -0.009005714215163607\n",
      "21 : -0.008929249455832178\n",
      "22 : 0.00626447472768632\n",
      "23 : 0.011973804336776084\n",
      "24 : 0.007849428436202288\n",
      "25 : -0.001780328470886161\n",
      "26 : -0.005917449135267816\n",
      "27 : -0.0029617038198921364\n",
      "28 : 0.0021287530416884692\n",
      "29 : -0.0038366860844689654\n",
      "30 : -0.01663314591951348\n",
      "31 : 0.00308116531050473\n",
      "32 : 0.0020109779006816098\n",
      "33 : -0.011581572981413046\n",
      "34 : -0.006234970850528043\n",
      "35 : 0.00902570409107284\n",
      "36 : -0.004744474109429575\n",
      "37 : 0.003013277544596349\n",
      "38 : 0.018063658339997346\n",
      "39 : 0.011067100021136866\n",
      "40 : 0.006165765673358692\n",
      "41 : -0.003983384583079896\n",
      "42 : -0.007284122125383874\n",
      "43 : 0.0008984126488940092\n",
      "44 : -0.026332670972806227\n",
      "45 : -0.01051342165646929\n",
      "46 : 0.01794890460860188\n",
      "47 : 0.004988772791875817\n",
      "48 : -0.0005060676257926389\n",
      "49 : -0.00020447928727662656\n",
      "50 : 0.0024339328074347577\n",
      "51 : -0.003313767705549253\n",
      "52 : 0.01148041524720611\n",
      "53 : 0.005581909937973251\n",
      "54 : -0.0011295635822534678\n",
      "55 : 5.304817022988573e-06\n",
      "56 : 0.00893117501072993\n",
      "57 : -0.002804006482620025\n",
      "58 : -0.005303468473357498\n",
      "59 : -0.0019031460606129258\n",
      "60 : -0.0012571229353852686\n",
      "61 : 0.0010510578449611785\n",
      "62 : 0.0025476707151028677\n",
      "63 : 0.0004903810804535169\n",
      "64 : 0.0015776702657603892\n",
      "65 : -0.0058585822971508605\n",
      "66 : -0.005386121541960165\n",
      "67 : 0.003667696621050709\n",
      "68 : 0.0008001623364179977\n",
      "69 : 0.000876709354997729\n",
      "70 : 0.0016428584667664836\n",
      "71 : 0.001819891778723104\n",
      "72 : -0.002567914920291514\n",
      "73 : 0.006646754068242444\n",
      "74 : 0.014271437994466396\n",
      "75 : -0.0025837404627964133\n",
      "76 : 0.0035238720975030446\n",
      "77 : -0.009072454295164789\n",
      "78 : 0.0035470119100864395\n",
      "79 : -0.015131795701563533\n",
      "80 : -0.01529752637452475\n",
      "81 : 0.0037067250177642563\n",
      "82 : -0.0014728025380463805\n",
      "83 : 0.0013368249210543581\n",
      "84 : -0.0032046898077169317\n",
      "85 : -0.002919917488725332\n",
      "86 : -0.0018456553107171203\n",
      "87 : 0.01673591532107821\n",
      "88 : 0.013194510320317931\n",
      "89 : -0.002467265856466838\n",
      "90 : -0.005146078096913698\n",
      "91 : -0.0013699067967536394\n",
      "92 : 0.0005889546719117789\n",
      "93 : 0.009089198558285716\n",
      "94 : 0.002407960877462756\n",
      "95 : 0.00605163518775953\n",
      "96 : 0.0011467281783552608\n",
      "97 : 0.0024461484936182387\n",
      "98 : -0.0012318997569309431\n",
      "99 : -0.0032350574037991464\n"
     ]
    }
   ],
   "source": [
    "for i in range(num_of_tries):\n",
    "    results = get_optimal_x()\n",
    "    Store_Results.append(results)\n",
    "    print(i,\":\",results['best_params']['x'])"
   ]
  },
  {
   "cell_type": "code",
   "execution_count": 88,
   "metadata": {},
   "outputs": [],
   "source": [
    "#len(Store_Results[0]['objective_values'])"
   ]
  },
  {
   "cell_type": "code",
   "execution_count": 89,
   "metadata": {},
   "outputs": [],
   "source": [
    "#Store_Results[0]['objective_values'][:15]"
   ]
  },
  {
   "cell_type": "code",
   "execution_count": 90,
   "metadata": {},
   "outputs": [],
   "source": [
    "#len(Store_Results[0]['params_tried'])"
   ]
  },
  {
   "cell_type": "markdown",
   "metadata": {},
   "source": [
    "# Extract from the results returned the true optimal values for each iteration"
   ]
  },
  {
   "cell_type": "code",
   "execution_count": 22,
   "metadata": {},
   "outputs": [],
   "source": [
    "import numpy as np\n",
    "\n",
    "total_experiments = 100\n",
    "\n",
    "initial_random = 5\n",
    "\n",
    "plotting_itr =[10, 20,30,40,50,60,70,80,90,100]\n",
    "\n",
    "plotting_list = []\n",
    "\n",
    "for exp in range(total_experiments): #for all exp\n",
    "    local_list = []\n",
    "    for itr in plotting_itr: # for all points to plot\n",
    "        # find the value of optimal parameters in itr+ initial_random\n",
    "        max_value = np.array(Store_Results[exp]['objective_values'][:itr+initial_random]).max()\n",
    "        local_list.append(max_value)\n",
    "    plotting_list.append(local_list)"
   ]
  },
  {
   "cell_type": "code",
   "execution_count": 23,
   "metadata": {},
   "outputs": [],
   "source": [
    "plotting_array = np.array(plotting_list)"
   ]
  },
  {
   "cell_type": "code",
   "execution_count": 24,
   "metadata": {
    "scrolled": true
   },
   "outputs": [
    {
     "data": {
      "text/plain": [
       "(100, 10)"
      ]
     },
     "execution_count": 24,
     "metadata": {},
     "output_type": "execute_result"
    }
   ],
   "source": [
    "plotting_array.shape"
   ]
  },
  {
   "cell_type": "code",
   "execution_count": 25,
   "metadata": {},
   "outputs": [],
   "source": [
    "#plotting_array"
   ]
  },
  {
   "cell_type": "code",
   "execution_count": 26,
   "metadata": {},
   "outputs": [],
   "source": [
    "Y = []\n",
    "#count range between -1 and 1 and show it\n",
    "for i in range(len(plotting_itr)):\n",
    "    y_value = np.count_nonzero((plotting_array[:,i] > -1))/plotting_array[:,i].size\n",
    "    Y.append(y_value*100)"
   ]
  },
  {
   "cell_type": "code",
   "execution_count": 27,
   "metadata": {},
   "outputs": [
    {
     "data": {
      "text/plain": [
       "[25.0, 63.0, 86.0, 99.0, 99.0, 100.0, 100.0, 100.0, 100.0, 100.0]"
      ]
     },
     "execution_count": 27,
     "metadata": {},
     "output_type": "execute_result"
    }
   ],
   "source": [
    "Y"
   ]
  },
  {
   "cell_type": "code",
   "execution_count": 32,
   "metadata": {},
   "outputs": [],
   "source": [
    "Y_serial = [25.0, 63.0, 86.0, 99.0, 99.0, 100.0, 100.0, 100.0, 100.0, 100.0]"
   ]
  },
  {
   "cell_type": "code",
   "execution_count": 33,
   "metadata": {},
   "outputs": [],
   "source": [
    "Y_batch = [68.18181818181817,\n",
    " 90.9090909090909,\n",
    " 95.45454545454545,\n",
    " 96.96969696969697,\n",
    " 100.0,\n",
    " 100.0,\n",
    " 100.0,\n",
    " 100.0,\n",
    " 100.0,\n",
    " 100.0]"
   ]
  },
  {
   "cell_type": "code",
   "execution_count": 34,
   "metadata": {},
   "outputs": [],
   "source": [
    "plotting_itr =[10, 20,30,40,50,60,70,80,90,100]"
   ]
  },
  {
   "cell_type": "code",
   "execution_count": 35,
   "metadata": {},
   "outputs": [],
   "source": [
    "#np.count_nonzero((plotting_array[:,0] > -1) & (plotting_array[:,0] < 1))/plotting_array[:,0].size"
   ]
  },
  {
   "cell_type": "code",
   "execution_count": 39,
   "metadata": {},
   "outputs": [
    {
     "data": {
      "image/png": "[encoded data removed]",
      "text/plain": [
       "<Figure size 720x720 with 1 Axes>"
      ]
     },
     "metadata": {
      "needs_background": "light"
     },
     "output_type": "display_data"
    }
   ],
   "source": [
    "import numpy as np\n",
    "import matplotlib.pyplot as plt\n",
    "fig = plt.figure(figsize=(10,10))\n",
    "\n",
    "\n",
    "plt.plot(plotting_itr,Y_serial,label = 'Mango Serial',linewidth=4.0) #x, y\n",
    "plt.plot(plotting_itr,Y_batch,label = 'Mango (Batch = 5)',linewidth=4.0) #x, y\n",
    "\n",
    "\n",
    "plt.xlabel('Number of Iterations',fontsize=25)\n",
    "plt.ylabel(' % of $Fun_{value}$ in (-1,0)',fontsize=25)\n",
    "plt.title('Variation of Optimal Value of X with iterations',fontsize=20)\n",
    "plt.xticks(fontsize=20)\n",
    "plt.yticks(fontsize=20)\n",
    "plt.yticks(np.arange(10, 110, step=10))\n",
    "plt.xticks(np.arange(10, 110, step=10))\n",
    "plt.grid(True)\n",
    "plt.legend(fontsize=20)\n",
    "plt.show()"
   ]
  },
  {
   "cell_type": "code",
   "execution_count": null,
   "metadata": {},
   "outputs": [],
   "source": []
  },
  {
   "cell_type": "code",
   "execution_count": null,
   "metadata": {},
   "outputs": [],
   "source": []
  }
 ],
 "metadata": {
  "kernelspec": {
   "display_name": "Python (py36)",
   "language": "python",
   "name": "py36"
  },
  "language_info": {
   "codemirror_mode": {
    "name": "ipython",
    "version": 3
   },
   "file_extension": ".py",
   "mimetype": "text/x-python",
   "name": "python",
   "nbconvert_exporter": "python",
   "pygments_lexer": "ipython3",
   "version": "3.7.3"
  }
 },
 "nbformat": 4,
 "nbformat_minor": 2
}
