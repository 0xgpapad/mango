{
 "cells": [
  {
   "cell_type": "markdown",
   "metadata": {},
   "source": [
    "# Example of optimizing a convex function"
   ]
  },
  {
   "cell_type": "markdown",
   "metadata": {},
   "source": [
    "# Goal is to test the objective values found by Random"
   ]
  },
  {
   "cell_type": "markdown",
   "metadata": {},
   "source": [
    "# Benchmarking test with different iterations for serial executions"
   ]
  },
  {
   "cell_type": "code",
   "execution_count": 1,
   "metadata": {},
   "outputs": [],
   "source": [
    "from mango.tuner import Tuner\n",
    "from scipy.stats import uniform\n",
    "\n",
    "def get_param_dict():\n",
    "    param_dict = {\"learning_rate\": uniform(0, 1),\n",
    "              \"gamma\": uniform(0, 5),\n",
    "              \"max_depth\": range(1,10),\n",
    "              \"n_estimators\": range(1,300),\n",
    "               \"booster\":['gbtree','gblinear','dart']\n",
    "             }\n",
    "    return param_dict\n",
    "\n",
    "from sklearn.model_selection import cross_val_score\n",
    "from xgboost import XGBClassifier\n",
    "from sklearn.datasets import load_wine\n",
    "\n",
    "X, Y = load_wine(return_X_y=True)\n",
    "\n",
    "count_called = 1\n",
    "\n",
    "def objfunc(args_list):\n",
    "    global X, Y, count_called\n",
    "    \n",
    "    #print('count_called:',count_called)\n",
    "    \n",
    "    count_called = count_called + 1\n",
    "    results = []\n",
    "    for hyper_par in args_list:\n",
    "        clf = XGBClassifier(**hyper_par)\n",
    "        result = cross_val_score(clf, X, Y, scoring='accuracy').mean()\n",
    "        results.append(result)\n",
    "    return results\n",
    "\n",
    "def get_conf():\n",
    "    conf = dict()\n",
    "    conf['batch_size'] = 1\n",
    "    conf['num_iteration'] = 100\n",
    "    conf['optimizer'] = \"Random\"\n",
    "    \n",
    "    return conf\n",
    "\n",
    "def get_optimal_x():\n",
    "    param_dict = get_param_dict()\n",
    "    conf = get_conf()\n",
    "    tuner = Tuner(param_dict, objfunc,conf)\n",
    "    results = tuner.maximize()\n",
    "    return results"
   ]
  },
  {
   "cell_type": "code",
   "execution_count": 2,
   "metadata": {},
   "outputs": [],
   "source": [
    "Store_Optimal_X = []\n",
    "Store_Results = []\n",
    "num_of_tries = 20"
   ]
  },
  {
   "cell_type": "code",
   "execution_count": 3,
   "metadata": {},
   "outputs": [
    {
     "name": "stdout",
     "output_type": "stream",
     "text": [
      "0 : 0.9220306513409962\n",
      "1 : 0.9164750957854406\n",
      "2 : 0.9164750957854406\n",
      "3 : 0.9275862068965517\n",
      "4 : 0.9220306513409962\n",
      "5 : 0.9220306513409962\n",
      "6 : 0.9220306513409962\n",
      "7 : 0.9164750957854406\n",
      "8 : 0.9164750957854406\n",
      "9 : 0.9220306513409962\n",
      "10 : 0.9164750957854406\n",
      "11 : 0.9275862068965517\n",
      "12 : 0.9331417624521072\n",
      "13 : 0.9275862068965517\n",
      "14 : 0.9220306513409962\n",
      "15 : 0.9164750957854406\n",
      "16 : 0.9164750957854406\n",
      "17 : 0.9331417624521072\n",
      "18 : 0.9164750957854406\n",
      "19 : 0.9275862068965517\n"
     ]
    }
   ],
   "source": [
    "for i in range(num_of_tries):\n",
    "    results = get_optimal_x()\n",
    "    Store_Results.append(results)\n",
    "    #print(results)\n",
    "    print(i,\":\",results['best_objective'])"
   ]
  },
  {
   "cell_type": "markdown",
   "metadata": {},
   "source": [
    "# Extract from the results returned the true optimal values for each iteration"
   ]
  },
  {
   "cell_type": "code",
   "execution_count": 11,
   "metadata": {},
   "outputs": [],
   "source": [
    "import numpy as np\n",
    "\n",
    "total_experiments = 20\n",
    "\n",
    "initial_random = 5\n",
    "\n",
    "plotting_itr =[10, 20,30,40,50,60,70,80,90,100]\n",
    "\n",
    "plotting_list = []\n",
    "\n",
    "for exp in range(total_experiments): #for all exp\n",
    "    local_list = []\n",
    "    for itr in plotting_itr: # for all points to plot\n",
    "        # find the value of optimal parameters in itr+ initial_random\n",
    "        max_value = np.array(Store_Results[exp]['objective_values'][:itr+initial_random]).max()\n",
    "        local_list.append(max_value)\n",
    "    plotting_list.append(local_list)"
   ]
  },
  {
   "cell_type": "code",
   "execution_count": 12,
   "metadata": {},
   "outputs": [],
   "source": [
    "plotting_array = np.array(plotting_list)"
   ]
  },
  {
   "cell_type": "code",
   "execution_count": 13,
   "metadata": {},
   "outputs": [],
   "source": [
    "Y = []\n",
    "\n",
    "range_min = -100\n",
    "range_max = 100\n",
    "#count range between -1 and 1 and show it\n",
    "for i in range(len(plotting_itr)):\n",
    "    y_value = plotting_array[:,i].mean()\n",
    "    Y.append(y_value)"
   ]
  },
  {
   "cell_type": "code",
   "execution_count": 14,
   "metadata": {},
   "outputs": [],
   "source": [
    "# Printing Y Values"
   ]
  },
  {
   "cell_type": "code",
   "execution_count": 15,
   "metadata": {},
   "outputs": [
    {
     "data": {
      "text/plain": [
       "[0.9142241379310345,\n",
       " 0.9164750957854407,\n",
       " 0.9184195402298851,\n",
       " 0.9189655172413793,\n",
       " 0.9189655172413793,\n",
       " 0.9195306513409962,\n",
       " 0.9198084291187738,\n",
       " 0.9217528735632184,\n",
       " 0.922030651340996,\n",
       " 0.922030651340996]"
      ]
     },
     "execution_count": 15,
     "metadata": {},
     "output_type": "execute_result"
    }
   ],
   "source": [
    "Y"
   ]
  },
  {
   "cell_type": "code",
   "execution_count": 9,
   "metadata": {},
   "outputs": [
    {
     "data": {
      "text/plain": [
       "[10, 20, 30, 40, 50, 60, 70, 80, 90, 100]"
      ]
     },
     "execution_count": 9,
     "metadata": {},
     "output_type": "execute_result"
    }
   ],
   "source": [
    "plotting_itr"
   ]
  },
  {
   "cell_type": "code",
   "execution_count": 10,
   "metadata": {},
   "outputs": [
    {
     "data": {
      "text/plain": [
       "<Figure size 1000x1000 with 1 Axes>"
      ]
     },
     "metadata": {},
     "output_type": "display_data"
    }
   ],
   "source": [
    "import numpy as np\n",
    "import matplotlib.pyplot as plt\n",
    "fig = plt.figure(figsize=(10,10))\n",
    "\n",
    "\n",
    "plt.plot(plotting_itr,Y,label = 'Random',linewidth=3.0) #x, y\n",
    "\n",
    "\n",
    "plt.xlabel('Number of Iterations',fontsize=25)\n",
    "plt.ylabel('Mean best accuracy achieved',fontsize=25)\n",
    "plt.title('Variation of Optimal Value of X with iterations',fontsize=20)\n",
    "plt.xticks(fontsize=20)\n",
    "plt.yticks(fontsize=20)\n",
    "plt.grid(True)\n",
    "plt.yticks(np.arange(0.915, 0.925, step=0.005))\n",
    "plt.legend(fontsize=20)\n",
    "plt.show()"
   ]
  },
  {
   "cell_type": "code",
   "execution_count": null,
   "metadata": {},
   "outputs": [],
   "source": []
  }
 ],
 "metadata": {
  "kernelspec": {
   "display_name": "Python 3",
   "language": "python",
   "name": "python3"
  },
  "language_info": {
   "codemirror_mode": {
    "name": "ipython",
    "version": 3
   },
   "file_extension": ".py",
   "mimetype": "text/x-python",
   "name": "python",
   "nbconvert_exporter": "python",
   "pygments_lexer": "ipython3",
   "version": "3.7.3"
  }
 },
 "nbformat": 4,
 "nbformat_minor": 2
}
