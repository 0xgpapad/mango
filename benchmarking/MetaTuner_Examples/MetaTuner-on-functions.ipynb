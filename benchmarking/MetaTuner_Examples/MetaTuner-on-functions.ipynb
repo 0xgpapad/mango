{
 "cells": [
  {
   "cell_type": "markdown",
   "metadata": {},
   "source": [
    "# Testing the functionalities of MetaTuner"
   ]
  },
  {
   "cell_type": "code",
   "execution_count": 1,
   "metadata": {},
   "outputs": [],
   "source": [
    "from mango import MetaTuner"
   ]
  },
  {
   "cell_type": "code",
   "execution_count": 2,
   "metadata": {},
   "outputs": [],
   "source": [
    "# Define different functions\n",
    "# f1 (Max value: 1728), f2 (1369), f3 (1110), f4 (1262)\n",
    "\n",
    "from scipy.stats import uniform\n",
    "import math\n",
    "\n",
    "param_space1 = dict(x=uniform(-10, 22))\n",
    "param_space2 = dict(x=uniform(-10, 47))\n",
    "param_space3 = dict(x=uniform(-10, 47))\n",
    "param_space4 = dict(x=uniform(-1500, 1500))\n",
    "\n",
    "\n",
    "\n",
    "def objective_1(args_list):\n",
    "    \n",
    "    results = []\n",
    "    for hyper_par in args_list:\n",
    "        x = hyper_par['x']\n",
    "        \n",
    "        x = x*x*x\n",
    "        results.append(x)\n",
    "        \n",
    "    return results\n",
    "\n",
    "def objective_2(args_list):\n",
    "    \n",
    "    results = []\n",
    "    for hyper_par in args_list:\n",
    "        x = hyper_par['x']\n",
    "        \n",
    "        x = x*x\n",
    "        results.append(x)\n",
    "        \n",
    "    return results\n",
    "\n",
    "\n",
    "def objective_3(args_list):\n",
    "    \n",
    "    results = []\n",
    "    for hyper_par in args_list:\n",
    "        x = hyper_par['x']\n",
    "        \n",
    "        x = 30*abs(x)\n",
    "        results.append(x)\n",
    "        \n",
    "    return results\n",
    "\n",
    "\n",
    "def objective_4(args_list):\n",
    "    \n",
    "    results = []\n",
    "    for hyper_par in args_list:\n",
    "        x = hyper_par['x']\n",
    "        \n",
    "        x = x*math.sin(x/1500.0)\n",
    "        results.append(x)\n",
    "        \n",
    "    return results"
   ]
  },
  {
   "cell_type": "code",
   "execution_count": 3,
   "metadata": {},
   "outputs": [],
   "source": [
    "param_space_list = [param_space1, param_space2, param_space3, param_space4]\n",
    "objective_list = [objective_1, objective_2, objective_3, objective_4]"
   ]
  },
  {
   "cell_type": "code",
   "execution_count": 4,
   "metadata": {},
   "outputs": [],
   "source": [
    "metatuner = MetaTuner(param_space_list, objective_list)"
   ]
  },
  {
   "cell_type": "code",
   "execution_count": 5,
   "metadata": {},
   "outputs": [
    {
     "data": {
      "application/vnd.jupyter.widget-view+json": {
       "model_id": "b8737febc6674891a3d214b2fc66eb89",
       "version_major": 2,
       "version_minor": 0
      },
      "text/plain": [
       "  0%|          | 0/20 [00:00<?, ?it/s]"
      ]
     },
     "metadata": {},
     "output_type": "display_data"
    }
   ],
   "source": [
    "results = metatuner.run()"
   ]
  },
  {
   "cell_type": "code",
   "execution_count": 6,
   "metadata": {},
   "outputs": [
    {
     "name": "stdout",
     "output_type": "stream",
     "text": [
      "Funtion evaluation: 1\n",
      "[[-5.95501658e+02]\n",
      " [ 3.17148023e-01]\n",
      " [ 1.00952764e+00]\n",
      " [ 1.72479045e+03]\n",
      " [ 1.72479045e+03]\n",
      " [ 1.72705133e+03]\n",
      " [ 1.72705133e+03]\n",
      " [ 1.72705133e+03]\n",
      " [ 1.72705133e+03]\n",
      " [ 1.72705133e+03]\n",
      " [ 1.72705133e+03]\n",
      " [ 1.72778019e+03]\n",
      " [ 1.72778019e+03]\n",
      " [ 1.72778019e+03]\n",
      " [ 1.72778019e+03]]\n",
      "**************************************************\n",
      "Funtion evaluation: 2\n",
      "[[ 182.56743117]\n",
      " [  94.23880329]\n",
      " [1368.37640702]\n",
      " [1368.37640702]]\n",
      "**************************************************\n",
      "Funtion evaluation: 3\n",
      "[[ 332.59671315]\n",
      " [ 154.2607276 ]\n",
      " [1109.51288771]\n",
      " [1109.77936995]\n",
      " [1109.90114365]]\n",
      "**************************************************\n",
      "Funtion evaluation: 4\n",
      "[[ 868.94558679]\n",
      " [ 238.99745562]\n",
      " [ 871.66846892]\n",
      " [1262.1342969 ]]\n",
      "**************************************************\n"
     ]
    }
   ],
   "source": [
    "# see the results of evaluations\n",
    "for i in range(len(param_space_list)):\n",
    "    print('Funtion evaluation: '+str(i+1))\n",
    "    print(results[i])\n",
    "    print('*'*50)"
   ]
  },
  {
   "cell_type": "code",
   "execution_count": 8,
   "metadata": {},
   "outputs": [
    {
     "data": {
      "text/plain": [
       "[-595.5016581934889,\n",
       " 0.3171480225730496,\n",
       " 182.567431174735,\n",
       " 94.23880329361755,\n",
       " 332.5967131458036,\n",
       " 154.26072759516438,\n",
       " 868.9455867931749,\n",
       " 238.99745562385078,\n",
       " 1109.512887712529,\n",
       " 1368.376407024022,\n",
       " 871.6684689163129,\n",
       " 1.009527635536538,\n",
       " 1724.7904504252288,\n",
       " 1202.3600407929862,\n",
       " 1727.0513264017936,\n",
       " 1248.8438741960806,\n",
       " 1726.2322390875277,\n",
       " 1725.543162320014,\n",
       " 1721.989694214279,\n",
       " 1109.7793699528622,\n",
       " 1262.1342968977524,\n",
       " 1724.312747103798,\n",
       " 1720.6355493584776,\n",
       " 1727.7801894172744,\n",
       " 1723.2992812941845,\n",
       " 1109.9011436457276,\n",
       " 1721.295618840171,\n",
       " 1722.4555319191388]"
      ]
     },
     "execution_count": 8,
     "metadata": {},
     "output_type": "execute_result"
    }
   ],
   "source": [
    "# See the evaluation order of values\n",
    "metatuner.objective_values_list"
   ]
  },
  {
   "cell_type": "code",
   "execution_count": null,
   "metadata": {},
   "outputs": [],
   "source": []
  }
 ],
 "metadata": {
  "kernelspec": {
   "display_name": "Python 3",
   "language": "python",
   "name": "python3"
  },
  "language_info": {
   "codemirror_mode": {
    "name": "ipython",
    "version": 3
   },
   "file_extension": ".py",
   "mimetype": "text/x-python",
   "name": "python",
   "nbconvert_exporter": "python",
   "pygments_lexer": "ipython3",
   "version": "3.6.12"
  }
 },
 "nbformat": 4,
 "nbformat_minor": 4
}
