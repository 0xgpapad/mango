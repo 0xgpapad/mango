{
 "cells": [
  {
   "cell_type": "markdown",
   "metadata": {},
   "source": [
    "# The following are the parameter spaces used for evaluations"
   ]
  },
  {
   "cell_type": "markdown",
   "metadata": {},
   "source": [
    "## The parameter search space used by Tuner for xgboost, KNN and SVM in the Section IV-A2."
   ]
  },
  {
   "cell_type": "code",
   "execution_count": 1,
   "metadata": {},
   "outputs": [],
   "source": [
    "from scipy.stats import uniform\n",
    "from mango.domain.distribution import loguniform\n",
    "\n",
    "param_svm = {'gamma':uniform(0.1, 4),\n",
    "             'C':loguniform(-7, 10)}\n",
    "\n",
    "param_xgboost = {'learning_rate':uniform(0, 1),\n",
    "                 'gamma':uniform(0, 5),\n",
    "                 'max_depth':range(1,11),\n",
    "                 'n_estimators':range(1,301),\n",
    "                 'booster':['gbtree','gblinear','dart']}\n",
    "               \n",
    "param_knn = {'n_neighbors':range(1, 51),\n",
    "             'algorithm':['auto','ball_tree','kd_tree',\n",
    "             'brute']}"
   ]
  },
  {
   "cell_type": "markdown",
   "metadata": {},
   "source": [
    "## The parameter search space used by MetaTuner for neural network, decision tree, xgboost, KNN and SVM in the Section IV-A3. The neural network has one hidden layer with number of hidden nodes specified in the search space. "
   ]
  },
  {
   "cell_type": "code",
   "execution_count": 2,
   "metadata": {},
   "outputs": [],
   "source": [
    "from scipy.stats import uniform\n",
    "from mango.domain.distribution import loguniform\n",
    "\n",
    "param_nn = {'type':'clf_nn',\n",
    "            'num_of_nodes':range(10, 101)}\n",
    "\n",
    "param_dtree = {'type':'clf_dtree',\n",
    "               'max_features':['auto', 'sqrt', 'log2'],\n",
    "               'max_depth':range(1,21),     \n",
    "               'splitter':['best','random'],\n",
    "               'criterion':['gini','entropy']}\n",
    "             \n",
    "param_svm = {'type':'clf_svm',\n",
    "             'gamma':uniform(0.1, 4),\n",
    "             'C':loguniform(-7, 10)}\n",
    "\n",
    "param_xgboost = {'type':'clf_xgboost',\n",
    "                 'learning_rate':uniform(0, 1),\n",
    "                 'gamma':uniform(0, 5),\n",
    "                 'max_depth':range(1,21),\n",
    "                 'n_estimators':range(1,11),\n",
    "                 'booster':['gbtree','gblinear','dart']}\n",
    "               \n",
    "param_knn = {'type':'clf_knn',\n",
    "             'n_neighbors': range(1, 51),\n",
    "             'algorithm':['auto','ball_tree','kd_tree', \n",
    "             'brute']}\n"
   ]
  },
  {
   "cell_type": "code",
   "execution_count": null,
   "metadata": {},
   "outputs": [],
   "source": []
  }
 ],
 "metadata": {
  "kernelspec": {
   "display_name": "Python 3",
   "language": "python",
   "name": "python3"
  },
  "language_info": {
   "codemirror_mode": {
    "name": "ipython",
    "version": 3
   },
   "file_extension": ".py",
   "mimetype": "text/x-python",
   "name": "python",
   "nbconvert_exporter": "python",
   "pygments_lexer": "ipython3",
   "version": "3.6.12"
  }
 },
 "nbformat": 4,
 "nbformat_minor": 4
}
